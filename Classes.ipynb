{
 "cells": [
  {
   "cell_type": "code",
   "execution_count": 4,
   "metadata": {},
   "outputs": [
    {
     "data": {
      "text/plain": [
       "__main__.Sample"
      ]
     },
     "execution_count": 4,
     "metadata": {},
     "output_type": "execute_result"
    }
   ],
   "source": [
    "class Sample():\n",
    "    pass\n",
    "my_sample = Sample()\n",
    "type(my_sample)"
   ]
  },
  {
   "cell_type": "code",
   "execution_count": 21,
   "metadata": {},
   "outputs": [
    {
     "data": {
      "text/plain": [
       "'Shitzu'"
      ]
     },
     "execution_count": 21,
     "metadata": {},
     "output_type": "execute_result"
    }
   ],
   "source": [
    "class Dog():\n",
    "    def __init__(self, breed, name, age) \n",
    "        self.breed = breed\n",
    "        self.name = name\n",
    "        self.age = age\n",
    "sammy = Dog(\"Shitzu\", \"sammy\", \"2 years\" )\n",
    "\n",
    "\n"
   ]
  },
  {
   "cell_type": "code",
   "execution_count": 28,
   "metadata": {},
   "outputs": [
    {
     "data": {
      "text/plain": [
       "'huskie'"
      ]
     },
     "execution_count": 28,
     "metadata": {},
     "output_type": "execute_result"
    }
   ],
   "source": [
    "class Dog():\n",
    "    def __init__(self,mybreed):\n",
    "        self.breed = mybreed\n",
    "my_dog = Dog(mybreed = \"huskie\")\n",
    "my_dog.breed\n"
   ]
  },
  {
   "cell_type": "code",
   "execution_count": 13,
   "metadata": {},
   "outputs": [],
   "source": [
    "my_dog = Dog(breed =\"lab\",name = \"tommmy\", age= \"1year\")"
   ]
  },
  {
   "cell_type": "code",
   "execution_count": 32,
   "metadata": {},
   "outputs": [
    {
     "name": "stdout",
     "output_type": "stream",
     "text": [
      "Name: raju department: It jobtitle: sde location: texas\n",
      "Name: Shiva department: IT jobtitle: Python Developer location: Missouri\n"
     ]
    }
   ],
   "source": [
    "class Employee():\n",
    "    def __init__(self,name,department,jobtitle,location):\n",
    "        self.name = name\n",
    "        self.department = department\n",
    "        self.jobtitle = jobtitle\n",
    "        self.location = location\n",
    "    def getdetails(self):\n",
    "        return \"Name: \" + self.name + \" department: \" + self.department + \" jobtitle: \" + self.jobtitle + \" location: \" + self.location\n",
    "raju  = Employee(\"raju\", \"It\" , \"sde\", \"texas\" )\n",
    "shiva = Employee(\"Shiva\", \"IT\", \"Python Developer\", \"Missouri\" )\n",
    "print(raju.getdetails())\n",
    "print(shiva.getdetails())\n",
    "\n",
    "\n"
   ]
  },
  {
   "cell_type": "code",
   "execution_count": 3,
   "metadata": {},
   "outputs": [
    {
     "name": "stdout",
     "output_type": "stream",
     "text": [
      "[1, 2, 3]\n"
     ]
    },
    {
     "data": {
      "text/plain": [
       "<function list.append(object, /)>"
      ]
     },
     "execution_count": 3,
     "metadata": {},
     "output_type": "execute_result"
    }
   ],
   "source": [
    "mylist = [1,2,3]\n",
    "print(mylist)\n",
    "mylist.extend"
   ]
  },
  {
   "cell_type": "code",
   "execution_count": null,
   "metadata": {},
   "outputs": [],
   "source": []
  }
 ],
 "metadata": {
  "kernelspec": {
   "display_name": "Python 3",
   "language": "python",
   "name": "python3"
  },
  "language_info": {
   "codemirror_mode": {
    "name": "ipython",
    "version": 3
   },
   "file_extension": ".py",
   "mimetype": "text/x-python",
   "name": "python",
   "nbconvert_exporter": "python",
   "pygments_lexer": "ipython3",
   "version": "3.12.5"
  }
 },
 "nbformat": 4,
 "nbformat_minor": 2
}
