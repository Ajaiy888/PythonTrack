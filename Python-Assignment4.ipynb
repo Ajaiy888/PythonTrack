{
 "cells": [
  {
   "cell_type": "code",
   "execution_count": 7,
   "metadata": {},
   "outputs": [
    {
     "data": {
      "text/plain": [
       "<function TextIOWrapper.close()>"
      ]
     },
     "execution_count": 7,
     "metadata": {},
     "output_type": "execute_result"
    }
   ],
   "source": [
    "f = open('myletter.txt', 'w+')\n",
    "f.write('this is a test string. this is first line')\n",
    "f.close"
   ]
  },
  {
   "cell_type": "code",
   "execution_count": 8,
   "metadata": {},
   "outputs": [
    {
     "name": "stdout",
     "output_type": "stream",
     "text": [
      "this is a test string. this is first line\n"
     ]
    }
   ],
   "source": [
    "\n",
    "\n",
    "f.seek(0)\n",
    "\n",
    "\n",
    "content = f.read()\n",
    "print(content)\n",
    "\n",
    "f.close()\n"
   ]
  },
  {
   "cell_type": "code",
   "execution_count": 2,
   "metadata": {},
   "outputs": [
    {
     "data": {
      "text/plain": [
       "['.idea',\n",
       " 'Ajay Krishna.pdf',\n",
       " 'Assignment2.ipynb',\n",
       " 'Classes.ipynb',\n",
       " 'Lambda Functiond -Assignment2.ipynb',\n",
       " 'lamda.ipynb',\n",
       " 'myfile =.py',\n",
       " 'myfile.txt',\n",
       " 'myletter.txt',\n",
       " 'practice.txt',\n",
       " 'Python - Assignment1.ipynb',\n",
       " 'Python - For loop.ipynb',\n",
       " 'Python - Functions.ipynb',\n",
       " 'Python - If,else, Elif.ipynb',\n",
       " 'python - Practice.ipynb',\n",
       " 'Python - Useful Operators.ipynb',\n",
       " 'Python - While Loop.ipynb',\n",
       " 'Python statements- If,elif,else.py',\n",
       " 'Python-Assignment4.ipynb',\n",
       " 'Untitled-1.py']"
      ]
     },
     "execution_count": 2,
     "metadata": {},
     "output_type": "execute_result"
    }
   ],
   "source": [
    "import os \n",
    "os.listdir()"
   ]
  },
  {
   "cell_type": "code",
   "execution_count": 4,
   "metadata": {},
   "outputs": [
    {
     "data": {
      "text/plain": [
       "['19899', 'All Users', 'Default', 'Default User', 'desktop.ini', 'Public']"
      ]
     },
     "execution_count": 4,
     "metadata": {},
     "output_type": "execute_result"
    }
   ],
   "source": [
    "os.listdir('c:\\\\Users')"
   ]
  },
  {
   "cell_type": "code",
   "execution_count": 22,
   "metadata": {},
   "outputs": [
    {
     "name": "stdout",
     "output_type": "stream",
     "text": [
      "#Wr"
     ]
    }
   ],
   "source": [
    "f = open('myletter.txt', 'r')\n",
    "print(f.readline(3), end= \"\")\n",
    "f\n"
   ]
  },
  {
   "cell_type": "markdown",
   "metadata": {},
   "source": []
  },
  {
   "cell_type": "code",
   "execution_count": 26,
   "metadata": {},
   "outputs": [
    {
     "name": "stdout",
     "output_type": "stream",
     "text": [
      "This notebook is used to write down the daily activites\n"
     ]
    }
   ],
   "source": [
    "f1 = open('Notebook.txt', 'w+')\n",
    "f1.write('This notebook is used to write down the daily activites')\n",
    "f1.seek(0)\n",
    "content = f1.read()\n",
    "print(content)\n",
    "\n",
    "f1.close()"
   ]
  },
  {
   "cell_type": "code",
   "execution_count": 33,
   "metadata": {},
   "outputs": [
    {
     "name": "stdout",
     "output_type": "stream",
     "text": [
      "This notebook is used to write down the daily activites\n"
     ]
    },
    {
     "data": {
      "text/plain": [
       "<function TextIOWrapper.close()>"
      ]
     },
     "execution_count": 33,
     "metadata": {},
     "output_type": "execute_result"
    }
   ],
   "source": [
    "f1 = open('Notebook.txt')\n",
    "for line in f1:\n",
    "    print(line)\n",
    "f.close"
   ]
  },
  {
   "cell_type": "code",
   "execution_count": 45,
   "metadata": {},
   "outputs": [
    {
     "name": "stdout",
     "output_type": "stream",
     "text": [
      "\n",
      "\n",
      "\n"
     ]
    }
   ],
   "source": [
    "try:\n",
    "    f = open('name_list.txt', 'w+')\n",
    "    f.write('Write down the names of people')\n",
    "    print(f.read())\n",
    "except:\n",
    "    print(\"the file you want to read doesnt exist\")\n",
    "finally:\n",
    "    f.read()\n",
    "content=f.read()\n",
    "print(content)\n",
    "print(f.read())"
   ]
  },
  {
   "cell_type": "code",
   "execution_count": 54,
   "metadata": {},
   "outputs": [
    {
     "name": "stdout",
     "output_type": "stream",
     "text": [
      "['I', 'am', 'going', 'to', 'bring', 'some', 'groceries', 'from', 'the', 'store']\n",
      "I am going to bring some groceries from the store\n"
     ]
    }
   ],
   "source": [
    "f =open('Notebook.txt', \"w\")\n",
    "f.write(\"I am going to bring some groceries from the store\")\n",
    "f.close()\n",
    "f =open(\"Notebook.txt\")\n",
    "content = f.read()\n",
    "words = content.split()\n",
    "print(words)\n",
    "print(content)\n",
    "words_to_find = ['the', 'to']\n",
    "to_word = ('to word present in the file', )\n",
    "the_word = ('the word present in the file',)"
   ]
  },
  {
   "cell_type": "code",
   "execution_count": 60,
   "metadata": {},
   "outputs": [
    {
     "name": "stdout",
     "output_type": "stream",
     "text": [
      "['I', 'am', 'going', 'to', 'bring', 'some', 'groceries', 'from', 'the', 'store']\n",
      "I am going to bring some groceries from the store\n",
      "The word \"the\" appears 1 times in the file.\n",
      "The word \"to\" appears 1 times in the file.\n"
     ]
    }
   ],
   "source": [
    "#WAP to count the words \"to\" and \"the\" present in a text file\n",
    "\n",
    "f = open('Notebook.txt', \"w\")\n",
    "f.write(\"I am going to bring some groceries from the store\")\n",
    "f.close()\n",
    "\n",
    "f = open(\"Notebook.txt\")\n",
    "content = f.read()\n",
    "\n",
    "words = content.split()\n",
    "print(words)  \n",
    "print(content) \n",
    "words_to_count = ['the', 'to']\n",
    "\n",
    "for word in words_to_count:\n",
    "    count = words.count(word) \n",
    "    print(f'The word \"{word}\" appears {count} times in the file.')\n"
   ]
  },
  {
   "cell_type": "code",
   "execution_count": 72,
   "metadata": {},
   "outputs": [],
   "source": [
    "#WAP that reads charecters from the keyboard one by one . All lower case charecters get stored inside the file LOWER , all upper case charecters get stored inside the file UPPER and\n",
    "#all other charecters get stored inside file OTHERS\n",
    "lower = open('Lower.txt', \"a\")\n",
    "upper =  open('Upper.txt', 'a')\n",
    "others = open('others.txt','a')\n",
    "text = input('Enter the words')\n",
    "for char in text:\n",
    "    if char.islower():\n",
    "        lower.write(char)\n",
    "    elif char.isupper():\n",
    "        upper.write(char)\n",
    "    else:\n",
    "        others.write(char)\n",
    "lower.close()\n",
    "upper.close()\n",
    "others.close()\n"
   ]
  },
  {
   "cell_type": "code",
   "execution_count": 89,
   "metadata": {},
   "outputs": [
    {
     "name": "stdout",
     "output_type": "stream",
     "text": [
      "A boy is playing there, There is a playground, An Aeroplane is in the sky, Alphabets and numbers are located in password. A boy is sleeping\n",
      "Number of lines containing 'A': 1\n"
     ]
    }
   ],
   "source": [
    "#Write a function in python to count and display the number of lines starting with alphabet 'A'\n",
    "# present in a text file \"LINES.txt\". e.g., the file LINES.txt contains the following lines:\n",
    "# A boy is playing there, There is a playground, An Aeroplane is in the sky, Alphabets and numbers are located in passsword.\n",
    "file = open('LINES.txt', \"w\")\n",
    "file.write(\"A boy is playing there, There is a playground, An Aeroplane is in the sky, Alphabets and numbers are located in password. A boy is sleeping\")\n",
    "file.close()\n",
    "file = open('LINES.txt', \"r\")\n",
    "matter = file.read()\n",
    "print(matter)\n",
    "file.close()\n",
    "def count_the_lines(file):\n",
    "    count = 0 \n",
    "    for line in file:\n",
    "        if 'A' in line: \n",
    "            count += 1   \n",
    "    print(f\"Number of lines containing 'A': {count}\")\n",
    "with open('LINES.txt', 'r') as file:\n",
    "    count_the_lines(file)\n",
    "    \n",
    "\n"
   ]
  },
  {
   "cell_type": "code",
   "execution_count": 84,
   "metadata": {},
   "outputs": [
    {
     "name": "stdout",
     "output_type": "stream",
     "text": [
      "Number of lines containing 'A': 1\n"
     ]
    }
   ],
   "source": [
    "def count_the_lines(file):\n",
    "    # Counter for lines containing 'A'\n",
    "    count = 0\n",
    "    \n",
    "    for line in file:\n",
    "        if 'A' in line: \n",
    "            count += 1  \n",
    "    \n",
    "    print(f\"Number of lines containing 'A': {count}\")\n",
    "\n",
    "with open('LINES', 'r') as file:\n",
    "    count_the_lines(file)\n"
   ]
  },
  {
   "cell_type": "markdown",
   "metadata": {},
   "source": []
  },
  {
   "cell_type": "code",
   "execution_count": null,
   "metadata": {},
   "outputs": [],
   "source": [
    "# to insert space between every capital letter\n",
    "def add_space(s):\n",
    "    result = \"\"\n",
    "    for  char in sample:\n",
    "        if char.islower():\n",
    "            result += char \n",
    "        else:\n",
    "            result += \" \" + char\n",
    "    return result\n",
    "sample = input (\"Enter the name\")\n",
    "print(add_space(sample))"
   ]
  }
 ],
 "metadata": {
  "kernelspec": {
   "display_name": "Python 3",
   "language": "python",
   "name": "python3"
  },
  "language_info": {
   "codemirror_mode": {
    "name": "ipython",
    "version": 3
   },
   "file_extension": ".py",
   "mimetype": "text/x-python",
   "name": "python",
   "nbconvert_exporter": "python",
   "pygments_lexer": "ipython3",
   "version": "3.12.5"
  }
 },
 "nbformat": 4,
 "nbformat_minor": 2
}
