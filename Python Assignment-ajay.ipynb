{
 "cells": [
  {
   "cell_type": "code",
   "execution_count": 2,
   "metadata": {},
   "outputs": [
    {
     "name": "stdout",
     "output_type": "stream",
     "text": [
      "Distance from the origin: 2.23606797749979\n"
     ]
    }
   ],
   "source": [
    "''' Case Study\n",
    "1. A Robot moves in a Plane starting from the origin point (0,0). The robot can move\n",
    "toward UP, DOWN, LEFT, RIGHT. The trace of Robot movement is as given\n",
    "following:\n",
    "UP 5\n",
    "DOWN 3\n",
    "LEFT 3\n",
    "RIGHT 2\n",
    "The numbers after directions are steps.  Write a program to compute the\n",
    "distance current position after sequence of movements.'''\n",
    "import math\n",
    "\n",
    "\n",
    "x, y = 0, 0\n",
    "\n",
    "movements = [(\"UP\", 5), (\"DOWN\", 3), (\"LEFT\", 3), (\"RIGHT\", 2)]\n",
    "\n",
    "\n",
    "for direction, steps in movements:\n",
    "    if direction == \"UP\":\n",
    "        y += steps\n",
    "    elif direction == \"DOWN\":\n",
    "        y -= steps\n",
    "    elif direction == \"LEFT\":\n",
    "        x -= steps\n",
    "    elif direction == \"RIGHT\":\n",
    "        x += steps\n",
    "\n",
    "distance = math.sqrt(x**2 + y**2)\n",
    "\n",
    "\n",
    "print(f\"Distance from the origin: {distance}\")\n",
    "\n"
   ]
  },
  {
   "cell_type": "code",
   "execution_count": 17,
   "metadata": {},
   "outputs": [
    {
     "name": "stdout",
     "output_type": "stream",
     "text": [
      "['XYZ', 'New York', 'Technology', '$2M', 100]\n",
      "Company Name: XYZ\n"
     ]
    }
   ],
   "source": [
    "'''2. Data of XYZ company is stored in sorted list. Write a program for searching\n",
    "specific data from that list.\n",
    "Hint: Use if/elif to deal with conditions.'''\n",
    "xyz_data = [\"XYZ\", \"New York\", \"Technology\", \"$2M\", 100]\n",
    "print(xyz_data)\n",
    "\n",
    "name = xyz_data[0]\n",
    "location = xyz_data[1]\n",
    "department = xyz_data[2]\n",
    "revenue = xyz_data[3]\n",
    "employees = xyz_data[4]\n",
    "\n",
    "specific_data = input('Enter the required data (name, location, department, revenue, employees): ').lower()\n",
    "\n",
    "def company_data():\n",
    "    if specific_data == \"name\":\n",
    "        print(f\"Company Name: {name}\")\n",
    "    elif specific_data == \"location\":\n",
    "        print(f\"Company Location: {location}\")\n",
    "    elif specific_data == \"department\":\n",
    "        print(f\"Department: {department}\")\n",
    "    elif specific_data == \"revenue\":\n",
    "        print(f\"Revenue: {revenue}\")\n",
    "    elif specific_data == \"employees\":\n",
    "        print(f\"Number of Employees: {employees}\")\n",
    "    else:\n",
    "        print(\"Invalid input, please enter one of: name, location, department, revenue, employees.\")\n",
    "company_data()"
   ]
  },
  {
   "cell_type": "code",
   "execution_count": 41,
   "metadata": {},
   "outputs": [
    {
     "name": "stdout",
     "output_type": "stream",
     "text": [
      "Readable current time: Tue Oct  1 18:08:23 2024\n",
      "Formatted time: 18:08:23\n",
      "It is not dark yet\n"
     ]
    }
   ],
   "source": [
    "'''3.Weather forecasting organization wants to show is it day or night. So, write a\n",
    "program for such organization to find whether is it dark outside or not.\n",
    "Hint: Use time module.'''\n",
    "import time \n",
    "current_time = time.ctime()\n",
    "print('Readable current time:', current_time )\n",
    "formatted_time = time.strftime(\"%H:%M:%S\", time.localtime())\n",
    "print(\"Formatted time:\", formatted_time)\n",
    "def weather_forecasting():\n",
    "    if formatted_time >= '19:00:00':\n",
    "        print('It is dark outside')\n",
    "    else:\n",
    "        print('It is not dark yet')\n",
    "weather_forecasting()"
   ]
  },
  {
   "cell_type": "code",
   "execution_count": 1,
   "metadata": {},
   "outputs": [
    {
     "data": {
      "text/plain": [
       "'4. Write a program to find distance between two locations when their latitude and\\nlongitudes are given.\\nHint: Use math module.'"
      ]
     },
     "execution_count": 1,
     "metadata": {},
     "output_type": "execute_result"
    }
   ],
   "source": [
    "'''4. Write a program to find distance between two locations when their latitude and\n",
    "longitudes are given.\n",
    "Hint: Use math module.'''\n"
   ]
  },
  {
   "cell_type": "code",
   "execution_count": 15,
   "metadata": {},
   "outputs": [
    {
     "name": "stdout",
     "output_type": "stream",
     "text": [
      "['XYZ', 'New York', 'Technology', '$2M', 100]\n",
      "Revenue: $2M\n"
     ]
    }
   ],
   "source": [
    "'''5. Design a software for bank system. There should be options like cash withdraw,\n",
    "cash credit and change password. According to user input, the software should\n",
    "provide required output.'''\n",
    "\n"
   ]
  },
  {
   "cell_type": "code",
   "execution_count": 15,
   "metadata": {},
   "outputs": [
    {
     "name": "stdout",
     "output_type": "stream",
     "text": [
      "[2002, 2009, 2016, 2023, 2037, 2044, 2051, 2058, 2072, 2079, 2086, 2093, 2107, 2114, 2121, 2128, 2142, 2149, 2156, 2163, 2177, 2184, 2191, 2198, 2212, 2219, 2226, 2233, 2247, 2254, 2261, 2268, 2282, 2289, 2296, 2303, 2317, 2324, 2331, 2338, 2352, 2359, 2366, 2373, 2387, 2394, 2401, 2408, 2422, 2429, 2436, 2443, 2457, 2464, 2471, 2478, 2492, 2499, 2506, 2513, 2527, 2534, 2541, 2548, 2562, 2569, 2576, 2583, 2597, 2604, 2611, 2618, 2632, 2639, 2646, 2653, 2667, 2674, 2681, 2688, 2702, 2709, 2716, 2723, 2737, 2744, 2751, 2758, 2772, 2779, 2786, 2793, 2807, 2814, 2821, 2828, 2842, 2849, 2856, 2863, 2877, 2884, 2891, 2898, 2912, 2919, 2926, 2933, 2947, 2954, 2961, 2968, 2982, 2989, 2996, 3003, 3017, 3024, 3031, 3038, 3052, 3059, 3066, 3073, 3087, 3094, 3101, 3108, 3122, 3129, 3136, 3143, 3157, 3164, 3171, 3178, 3192, 3199, 3206, 3213, 3227, 3234, 3241, 3248, 3262, 3269, 3276, 3283, 3297, 3304, 3311, 3318, 3332, 3339, 3346, 3353, 3367, 3374, 3381, 3388, 3402, 3409, 3416, 3423, 3437, 3444, 3451, 3458, 3472, 3479, 3486, 3493]\n"
     ]
    }
   ],
   "source": [
    "'''6. Write a program which will find all such numbers which are divisible by 7 but are\n",
    "not a multiple of 5, between 2000 and 3200 (both included). The numbers obtained\n",
    "should be printed in a comma-separated sequence on a single line.'''\n",
    "def finding_numbers():\n",
    "    number_list = []\n",
    "    for i in range(2000, 3500):\n",
    "        if i % 7 == 0 and i % 5 != 0:\n",
    "            number_list.append(i)\n",
    "    print(number_list)\n",
    "finding_numbers()\n"
   ]
  },
  {
   "cell_type": "code",
   "execution_count": null,
   "metadata": {},
   "outputs": [],
   "source": [
    "'''7. Write a program which can compute the factorial of a given numbers. Use recursion\n",
    "to find it.\n",
    "Hint: Suppose the following input is supplied to the program:\n",
    "8\n",
    "Then, the output should be:\n",
    "40320'''\n",
    "\n",
    "n = int(input(\"Enter the value of n: \"))\n",
    "\n",
    "def factorial(n):\n",
    "    if n == 0 or n == 1:  \n",
    "        return 1\n",
    "    else:\n",
    "        return n * factorial(n - 1) \n",
    "\n",
    "result = factorial(n)\n",
    "print(f\"The factorial of {n} is: {result}\")\n",
    " #or approach 2\n",
    " \n",
    "n = int(input('enter the value of n'))\n",
    "def factorial(n):\n",
    "    f=1\n",
    "    for i in range(1,n+1):\n",
    "        f = f*i\n",
    "    return f\n",
    "result = factorial(n)\n",
    "print(result)\n"
   ]
  },
  {
   "cell_type": "code",
   "execution_count": 40,
   "metadata": {},
   "outputs": [
    {
     "name": "stdout",
     "output_type": "stream",
     "text": [
      "24\n"
     ]
    }
   ],
   "source": [
    "'''8. Write a program that calculates and prints the value according to the given formula:\n",
    "Q = Square root of [(2 * C * D)/H]\n",
    "Following are the fixed values of C and H: C is 50. H is 30.\n",
    "D is the variable whose values should be input to your program in a comma-\n",
    "separated sequence.\n",
    "Example:\n",
    "Let us assume the following comma separated input sequence is given to the\n",
    "program:\n",
    "100,150,180\n",
    "The output of the program should be:\n",
    "18,22,24'''\n",
    "# given values\n",
    "C= 50\n",
    "H =30\n",
    "D = int(input('enter the value of d'))\n",
    "# given equation\n",
    "Q= (2*C*D)/H\n",
    "#finding the square root of Q\n",
    "import math\n",
    "print(int(math.sqrt(Q)))"
   ]
  },
  {
   "cell_type": "code",
   "execution_count": 39,
   "metadata": {},
   "outputs": [
    {
     "name": "stdout",
     "output_type": "stream",
     "text": [
      "22\n"
     ]
    }
   ],
   "source": [
    "'''9. Write a program which takes 2 digits, X,Y as input and generates a 2-dimensional\n",
    "array. The element value in the i-th row and j-th column of the array should be i*j.\n",
    "Note: i=0,1.., X-1; j=0,1,¡-Y-1.\n",
    "Example:\n",
    "Suppose the following inputs are given to the program:\n",
    "3,5\n",
    "Then, the output of the program should be:\n",
    "[[0, 0, 0, 0, 0], [0, 1, 2, 3, 4], [0, 2, 4, 6, 8]] '''"
   ]
  },
  {
   "cell_type": "code",
   "execution_count": null,
   "metadata": {},
   "outputs": [],
   "source": []
  }
 ],
 "metadata": {
  "kernelspec": {
   "display_name": "Python 3",
   "language": "python",
   "name": "python3"
  },
  "language_info": {
   "codemirror_mode": {
    "name": "ipython",
    "version": 3
   },
   "file_extension": ".py",
   "mimetype": "text/x-python",
   "name": "python",
   "nbconvert_exporter": "python",
   "pygments_lexer": "ipython3",
   "version": "3.12.7"
  }
 },
 "nbformat": 4,
 "nbformat_minor": 2
}
