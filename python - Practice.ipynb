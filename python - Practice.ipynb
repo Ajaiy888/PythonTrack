{
 "cells": [
  {
   "cell_type": "code",
   "execution_count": 42,
   "metadata": {},
   "outputs": [],
   "source": [
    "class Dog():\n",
    "\n",
    "    def __init__(self,breed, name, number):\n",
    "        self.breed = breed\n",
    "        self.name = name\n",
    "        self.number = number\n",
    "    def bark(self):\n",
    "        print(\"woof! My name is {} and the number is {}\".format(self.name,self.number))"
   ]
  },
  {
   "cell_type": "code",
   "execution_count": 44,
   "metadata": {},
   "outputs": [
    {
     "name": "stdout",
     "output_type": "stream",
     "text": [
      "woof! My name is Buddy and the number is 7\n"
     ]
    }
   ],
   "source": [
    "dog = Dog(\"Labrador\", \"Buddy\", 7)\n",
    "dog.bark()\n"
   ]
  },
  {
   "cell_type": "code",
   "execution_count": 75,
   "metadata": {},
   "outputs": [],
   "source": [
    "class Circle():\n",
    "    pi = 3.14\n",
    "    def __init__(self,radius=1):\n",
    "        self.radius = radius\n",
    "        self.area = radius*radius*self.pi\n",
    "    def get_circuference(self):\n",
    "        return self.radius*self.pi*2\n",
    "    def get_area(self):\n",
    "        return radius*radius*self.p\n",
    "    "
   ]
  },
  {
   "cell_type": "code",
   "execution_count": 76,
   "metadata": {},
   "outputs": [],
   "source": [
    "my_circle =Circle(30)"
   ]
  },
  {
   "cell_type": "code",
   "execution_count": 69,
   "metadata": {},
   "outputs": [
    {
     "data": {
      "text/plain": [
       "3.14"
      ]
     },
     "execution_count": 69,
     "metadata": {},
     "output_type": "execute_result"
    }
   ],
   "source": [
    "my_circle.pi"
   ]
  },
  {
   "cell_type": "code",
   "execution_count": 81,
   "metadata": {},
   "outputs": [],
   "source": [
    "# Single Inheritance\n",
    "class Parent:\n",
    "  def __init__(self , name):\n",
    "    self.name = name\n",
    "    print(\"I am parent \" , name)\n",
    "  def parentMethod(self):\n",
    "    print(\"name is \" , self.name )\n",
    "class Child(Parent):\n",
    "  def __init__(self , age):\n",
    "    super().__init__(\"Ram\")\n",
    "    self.age=age\n",
    "    print(\"I am in child \" , age )\n",
    "  def childMethod(self):\n",
    "    print(\"Age is \",self.age)"
   ]
  },
  {
   "cell_type": "code",
   "execution_count": 82,
   "metadata": {},
   "outputs": [
    {
     "name": "stdout",
     "output_type": "stream",
     "text": [
      "I am parent  Ram\n",
      "I am in child  12\n",
      "name is  Ram\n",
      "Age is  12\n"
     ]
    }
   ],
   "source": [
    "# create object of child class\n",
    "obj = Child(12)\n",
    "obj.parentMethod()\n",
    "obj.childMethod()"
   ]
  },
  {
   "cell_type": "code",
   "execution_count": 84,
   "metadata": {},
   "outputs": [
    {
     "name": "stdout",
     "output_type": "stream",
     "text": [
      "Grand Parent name is  GP\n",
      "Parent name is  Pa\n",
      "Child name is  c\n"
     ]
    }
   ],
   "source": [
    "# Multilevel Inheritance\n",
    "class GrandParent:\n",
    "  def __init__(self, name):\n",
    "    self.g_name = name\n",
    "\n",
    "class Parent(GrandParent):\n",
    "  def __init__(self , p_name , g_name):\n",
    "    super().__init__(g_name)\n",
    "    self.p_name = p_name\n",
    "\n",
    "class Child(Parent):\n",
    "  def __init__( self, name , p_name , g_name):\n",
    "    super().__init__( p_name , g_name)\n",
    "    self.name = name\n",
    "\n",
    "  def printName(self):\n",
    "      print(\"Grand Parent name is \" , self.g_name)\n",
    "      print(\"Parent name is \" , self.p_name)\n",
    "      print(\"Child name is \" , self.name)\n",
    "obj = Child(\"c\" , \"Pa\" , \"GP\")\n",
    "obj.printName()"
   ]
  },
  {
   "cell_type": "code",
   "execution_count": 86,
   "metadata": {},
   "outputs": [
    {
     "name": "stdout",
     "output_type": "stream",
     "text": [
      "Mother name is  Sita\n",
      "Father is  Ram\n",
      "Paretnal Ram  Maternal is:  Sita\n"
     ]
    }
   ],
   "source": [
    "class Maternal:\n",
    "  m_name = ''\n",
    "  def mMethod(self,name):\n",
    "    self.m_name = name\n",
    "    print(\"Mother name is \" , self.m_name)\n",
    "\n",
    "class Paternal:\n",
    "  def pMethod(self , p_name):\n",
    "    self.p_name = p_name\n",
    "    print(\"Father is \" , self.p_name)\n",
    "\n",
    "class Child(Maternal , Paternal):\n",
    "  def cMethod(self):\n",
    "    print(\"Paretnal\" , self.p_name , \" Maternal is: \" , self.m_name)\n",
    "# Creating an instance of Child\n",
    "child_obj = Child()\n",
    "\n",
    "# Using methods from both Maternal and Paternal classes\n",
    "child_obj.mMethod(\"Sita\")  # Mother name\n",
    "child_obj.pMethod(\"Ram\")   # Father name\n",
    "\n",
    "# Using the method from Child class to print both names\n",
    "child_obj.cMethod()\n"
   ]
  },
  {
   "cell_type": "code",
   "execution_count": 87,
   "metadata": {},
   "outputs": [
    {
     "name": "stdout",
     "output_type": "stream",
     "text": [
      "Maternal Name: Dania\n",
      "Paternal Name: Alvarez\n",
      "Child Name: James\n",
      "This is maternal method Dania\n",
      "This is paternal method Alvarez\n"
     ]
    }
   ],
   "source": [
    "# Multiple Inheritance set variable name using constructor\n",
    "class Maternal:\n",
    "  m_name=''\n",
    "  def mMethod(self):\n",
    "    print(\"This is maternal method\", self.m_name)\n",
    "\n",
    "class Paternal:\n",
    "  p_name=''\n",
    "  def pMethod(self):\n",
    "    #self.p_name = p_name\n",
    "    print(\"This is paternal method\", self.p_name)\n",
    "\n",
    "class child(Maternal, Paternal):\n",
    "  def __init__(self, name, m_name, p_name):\n",
    "    super().__init__()\n",
    "    self.name = name\n",
    "    self.m_name = m_name\n",
    "    self.p_name = p_name\n",
    "  def printName(self):\n",
    "    print(\"Maternal Name:\", self.m_name)\n",
    "    print(\"Paternal Name:\", self.p_name)\n",
    "    print(\"Child Name:\", self.name)\n",
    "\n",
    "obj = child(\"James\", \"Dania\", \"Alvarez\")\n",
    "obj.printName()\n",
    "obj.mMethod()\n",
    "obj.pMethod()"
   ]
  },
  {
   "cell_type": "code",
   "execution_count": 89,
   "metadata": {},
   "outputs": [
    {
     "ename": "TypeError",
     "evalue": "'indent' is an invalid keyword argument for print()",
     "output_type": "error",
     "traceback": [
      "\u001b[1;31m---------------------------------------------------------------------------\u001b[0m",
      "\u001b[1;31mTypeError\u001b[0m                                 Traceback (most recent call last)",
      "Cell \u001b[1;32mIn[89], line 2\u001b[0m\n\u001b[0;32m      1\u001b[0m \u001b[38;5;28;01mimport\u001b[39;00m \u001b[38;5;21;01mjson\u001b[39;00m\n\u001b[1;32m----> 2\u001b[0m \u001b[38;5;28;43mprint\u001b[39;49m\u001b[43m(\u001b[49m\u001b[43mjson\u001b[49m\u001b[38;5;241;43m.\u001b[39;49m\u001b[43mdumps\u001b[49m\u001b[43m(\u001b[49m\u001b[38;5;18;43m__name__\u001b[39;49m\u001b[43m)\u001b[49m\u001b[43m,\u001b[49m\u001b[43m \u001b[49m\u001b[43mindent\u001b[49m\u001b[43m \u001b[49m\u001b[38;5;241;43m=\u001b[39;49m\u001b[38;5;241;43m4\u001b[39;49m\u001b[43m)\u001b[49m\n",
      "\u001b[1;31mTypeError\u001b[0m: 'indent' is an invalid keyword argument for print()"
     ]
    }
   ],
   "source": [
    "import json\n",
    "print(json.dumps(__name__), indent =4)"
   ]
  },
  {
   "cell_type": "code",
   "execution_count": 90,
   "metadata": {},
   "outputs": [
    {
     "data": {
      "text/plain": [
       "['learning', 'python', '.', 'learing', 'python', 'for', 'data', 'analysis']"
      ]
     },
     "execution_count": 90,
     "metadata": {},
     "output_type": "execute_result"
    }
   ],
   "source": [
    "s = 'learning python . learing python for data analysis '\n",
    "s.split()"
   ]
  },
  {
   "cell_type": "code",
   "execution_count": 99,
   "metadata": {},
   "outputs": [],
   "source": [
    "l= s.split()\n",
    "list(map(lambda x :(x,l), l))\n",
    "d = {}\n",
    "for word in l:\n",
    "    if(word not in d):\n",
    "        d[word]=l\n",
    "    else:\n",
    "        d[word]+=l\n",
    "print(d)"
   ]
  },
  {
   "cell_type": "code",
   "execution_count": null,
   "metadata": {},
   "outputs": [],
   "source": []
  },
  {
   "cell_type": "code",
   "execution_count": 6,
   "metadata": {},
   "outputs": [
    {
     "name": "stdout",
     "output_type": "stream",
     "text": [
      "[0, 1, 4, 9, 16, 25, 36, 49, 64, 81]\n"
     ]
    }
   ],
   "source": [
    "\n",
    "squares  = [i*i for i in range(10)]\n",
    "print(squares)"
   ]
  },
  {
   "cell_type": "code",
   "execution_count": 7,
   "metadata": {},
   "outputs": [
    {
     "name": "stdout",
     "output_type": "stream",
     "text": [
      "['a', 'a', 'e']\n"
     ]
    }
   ],
   "source": [
    "sentence  = \"I know python langauge\"\n",
    "v =['a','e']\n",
    "vowels = [i for i in sentence if i in v]\n",
    "print(vowels)"
   ]
  },
  {
   "cell_type": "code",
   "execution_count": 9,
   "metadata": {},
   "outputs": [],
   "source": [
    "class Example:\n",
    " #private method\n",
    "    def __check(self):\n",
    "        print(\"I am in private\")"
   ]
  },
  {
   "cell_type": "code",
   "execution_count": 15,
   "metadata": {},
   "outputs": [
    {
     "name": "stdout",
     "output_type": "stream",
     "text": [
      "I am in private\n"
     ]
    }
   ],
   "source": [
    "e = Example()\n",
    "e._Example__check()"
   ]
  },
  {
   "cell_type": "code",
   "execution_count": 20,
   "metadata": {},
   "outputs": [],
   "source": [
    "class rectangle:\n",
    "    def __init__(self, lenghth, breadth):\n",
    "        self.length =  lenghth\n",
    "        self.breadth =  breadth\n",
    "    def calculateArea(self):\n",
    "        print(\"Area of rectangle is \", self.breadth * self.length )\n",
    "    def print_m(self):\n",
    "        print('check in parent')\n",
    "class Square(rectangle):\n",
    "    def __init__(self,side):\n",
    "        self.side=side\n",
    "    def calculateArea(self):\n",
    "        print('Area of square is ', self.side * self.side)\n"
   ]
  },
  {
   "cell_type": "code",
   "execution_count": 23,
   "metadata": {},
   "outputs": [
    {
     "name": "stdout",
     "output_type": "stream",
     "text": [
      "Area of square is  25\n",
      "Area of rectangle is  12\n",
      "check in parent\n"
     ]
    }
   ],
   "source": [
    "s = Square(5)\n",
    "r =  rectangle(3,4)\n",
    "s.calculateArea()\n",
    "r.calculateArea()\n",
    "s.print_m()"
   ]
  },
  {
   "cell_type": "code",
   "execution_count": 1,
   "metadata": {},
   "outputs": [
    {
     "name": "stdout",
     "output_type": "stream",
     "text": [
      "Answer is  6.0\n"
     ]
    }
   ],
   "source": [
    "num1 = int(input(\"Enter first number\"))\n",
    "num2 = int(input(\"Enter second number\"))\n",
    "try:\n",
    "    c = num1/num2\n",
    "except Exception as e:\n",
    "    print(\"Error is \", e)\n",
    "    exit(0)\n",
    "else:\n",
    "    print(\"Answer is \", c)"
   ]
  },
  {
   "cell_type": "code",
   "execution_count": 3,
   "metadata": {},
   "outputs": [
    {
     "ename": "ZeroDivisionError",
     "evalue": "Cannot divide by zero ",
     "output_type": "error",
     "traceback": [
      "\u001b[1;31m---------------------------------------------------------------------------\u001b[0m",
      "\u001b[1;31mZeroDivisionError\u001b[0m                         Traceback (most recent call last)",
      "Cell \u001b[1;32mIn[3], line 4\u001b[0m\n\u001b[0;32m      2\u001b[0m num2 \u001b[38;5;241m=\u001b[39m \u001b[38;5;28mint\u001b[39m(\u001b[38;5;28minput\u001b[39m(\u001b[38;5;124m\"\u001b[39m\u001b[38;5;124mEnter second number \u001b[39m\u001b[38;5;124m\"\u001b[39m))\n\u001b[0;32m      3\u001b[0m \u001b[38;5;28;01mif\u001b[39;00m num2 \u001b[38;5;241m==\u001b[39m \u001b[38;5;241m0\u001b[39m:\n\u001b[1;32m----> 4\u001b[0m   \u001b[38;5;28;01mraise\u001b[39;00m \u001b[38;5;167;01mZeroDivisionError\u001b[39;00m(\u001b[38;5;124m\"\u001b[39m\u001b[38;5;124mCannot divide by zero \u001b[39m\u001b[38;5;124m\"\u001b[39m)\n\u001b[0;32m      6\u001b[0m \u001b[38;5;28;01mif\u001b[39;00m \u001b[38;5;129;01mnot\u001b[39;00m \u001b[38;5;28mtype\u001b[39m(num1) \u001b[38;5;129;01mis\u001b[39;00m \u001b[38;5;28mint\u001b[39m \u001b[38;5;129;01mor\u001b[39;00m \u001b[38;5;129;01mnot\u001b[39;00m \u001b[38;5;28mtype\u001b[39m(num2) \u001b[38;5;129;01mis\u001b[39;00m \u001b[38;5;28mint\u001b[39m:\n\u001b[0;32m      7\u001b[0m   \u001b[38;5;28;01mraise\u001b[39;00m \u001b[38;5;167;01mTypeError\u001b[39;00m(\u001b[38;5;124m\"\u001b[39m\u001b[38;5;124mInvalid input only integers \u001b[39m\u001b[38;5;124m\"\u001b[39m)\n",
      "\u001b[1;31mZeroDivisionError\u001b[0m: Cannot divide by zero "
     ]
    }
   ],
   "source": [
    "num1 = int(input(\"Enter first number \"))\n",
    "num2 = int(input(\"Enter second number \"))\n",
    "if num2 == 0:\n",
    "  raise ZeroDivisionError(\"Cannot divide by zero \")\n",
    "\n",
    "if not type(num1) is int or not type(num2) is int:\n",
    "  raise TypeError(\"Invalid input only integers \")\n",
    "if num1<0:\n",
    "  raise Exception(\"Invalid input numbers greater than zero \")\n",
    "c = num1/num2\n",
    "print(\"Answer is \", c)"
   ]
  },
  {
   "cell_type": "code",
   "execution_count": 5,
   "metadata": {},
   "outputs": [
    {
     "name": "stderr",
     "output_type": "stream",
     "text": [
      "<>:2: SyntaxWarning: invalid escape sequence '\\O'\n",
      "<>:2: SyntaxWarning: invalid escape sequence '\\O'\n",
      "C:\\Users\\19899\\AppData\\Local\\Temp\\ipykernel_40344\\1867711514.py:2: SyntaxWarning: invalid escape sequence '\\O'\n",
      "  file1 = open(\"Users\\19899\\OneDrive\\Desktop\\Projects\" , \"r\")\n",
      "C:\\Users\\19899\\AppData\\Local\\Temp\\ipykernel_40344\\1867711514.py:2: SyntaxWarning: invalid escape sequence '\\O'\n",
      "  file1 = open(\"Users\\19899\\OneDrive\\Desktop\\Projects\" , \"r\")\n"
     ]
    },
    {
     "ename": "OSError",
     "evalue": "[Errno 22] Invalid argument: 'Users\\x019899\\\\OneDrive\\\\Desktop\\\\Projects'",
     "output_type": "error",
     "traceback": [
      "\u001b[1;31m---------------------------------------------------------------------------\u001b[0m",
      "\u001b[1;31mOSError\u001b[0m                                   Traceback (most recent call last)",
      "Cell \u001b[1;32mIn[5], line 2\u001b[0m\n\u001b[0;32m      1\u001b[0m \u001b[38;5;66;03m# read entire file with help of readline : iterate\u001b[39;00m\n\u001b[1;32m----> 2\u001b[0m file1 \u001b[38;5;241m=\u001b[39m \u001b[38;5;28;43mopen\u001b[39;49m\u001b[43m(\u001b[49m\u001b[38;5;124;43m\"\u001b[39;49m\u001b[38;5;124;43mUsers\u001b[39;49m\u001b[38;5;130;43;01m\\1\u001b[39;49;00m\u001b[38;5;124;43m9899\u001b[39;49m\u001b[38;5;124;43m\\\u001b[39;49m\u001b[38;5;124;43mOneDrive\u001b[39;49m\u001b[38;5;124;43m\\\u001b[39;49m\u001b[38;5;124;43mDesktop\u001b[39;49m\u001b[38;5;124;43m\\\u001b[39;49m\u001b[38;5;124;43mProjects\u001b[39;49m\u001b[38;5;124;43m\"\u001b[39;49m\u001b[43m \u001b[49m\u001b[43m,\u001b[49m\u001b[43m \u001b[49m\u001b[38;5;124;43m\"\u001b[39;49m\u001b[38;5;124;43mr\u001b[39;49m\u001b[38;5;124;43m\"\u001b[39;49m\u001b[43m)\u001b[49m\n\u001b[0;32m      3\u001b[0m \u001b[38;5;28;01mwhile\u001b[39;00m \u001b[38;5;28;01mTrue\u001b[39;00m:\n\u001b[0;32m      4\u001b[0m   line \u001b[38;5;241m=\u001b[39m file1\u001b[38;5;241m.\u001b[39mreadline()\n",
      "File \u001b[1;32m~\\AppData\\Roaming\\Python\\Python312\\site-packages\\IPython\\core\\interactiveshell.py:324\u001b[0m, in \u001b[0;36m_modified_open\u001b[1;34m(file, *args, **kwargs)\u001b[0m\n\u001b[0;32m    317\u001b[0m \u001b[38;5;28;01mif\u001b[39;00m file \u001b[38;5;129;01min\u001b[39;00m {\u001b[38;5;241m0\u001b[39m, \u001b[38;5;241m1\u001b[39m, \u001b[38;5;241m2\u001b[39m}:\n\u001b[0;32m    318\u001b[0m     \u001b[38;5;28;01mraise\u001b[39;00m \u001b[38;5;167;01mValueError\u001b[39;00m(\n\u001b[0;32m    319\u001b[0m         \u001b[38;5;124mf\u001b[39m\u001b[38;5;124m\"\u001b[39m\u001b[38;5;124mIPython won\u001b[39m\u001b[38;5;124m'\u001b[39m\u001b[38;5;124mt let you open fd=\u001b[39m\u001b[38;5;132;01m{\u001b[39;00mfile\u001b[38;5;132;01m}\u001b[39;00m\u001b[38;5;124m by default \u001b[39m\u001b[38;5;124m\"\u001b[39m\n\u001b[0;32m    320\u001b[0m         \u001b[38;5;124m\"\u001b[39m\u001b[38;5;124mas it is likely to crash IPython. If you know what you are doing, \u001b[39m\u001b[38;5;124m\"\u001b[39m\n\u001b[0;32m    321\u001b[0m         \u001b[38;5;124m\"\u001b[39m\u001b[38;5;124myou can use builtins\u001b[39m\u001b[38;5;124m'\u001b[39m\u001b[38;5;124m open.\u001b[39m\u001b[38;5;124m\"\u001b[39m\n\u001b[0;32m    322\u001b[0m     )\n\u001b[1;32m--> 324\u001b[0m \u001b[38;5;28;01mreturn\u001b[39;00m \u001b[43mio_open\u001b[49m\u001b[43m(\u001b[49m\u001b[43mfile\u001b[49m\u001b[43m,\u001b[49m\u001b[43m \u001b[49m\u001b[38;5;241;43m*\u001b[39;49m\u001b[43margs\u001b[49m\u001b[43m,\u001b[49m\u001b[43m \u001b[49m\u001b[38;5;241;43m*\u001b[39;49m\u001b[38;5;241;43m*\u001b[39;49m\u001b[43mkwargs\u001b[49m\u001b[43m)\u001b[49m\n",
      "\u001b[1;31mOSError\u001b[0m: [Errno 22] Invalid argument: 'Users\\x019899\\\\OneDrive\\\\Desktop\\\\Projects'"
     ]
    }
   ],
   "source": [
    "# read entire file with help of readline : iterate\n",
    "file1 = open(\"Users\\19899\\OneDrive\\Desktop\\Projects\" , \"r\")\n",
    "while True:\n",
    "  line = file1.readline()\n",
    "  if not line:\n",
    "    break\n",
    "  print(line)\n",
    "file1.close()"
   ]
  },
  {
   "cell_type": "code",
   "execution_count": null,
   "metadata": {},
   "outputs": [],
   "source": []
  }
 ],
 "metadata": {
  "kernelspec": {
   "display_name": "Python 3",
   "language": "python",
   "name": "python3"
  },
  "language_info": {
   "codemirror_mode": {
    "name": "ipython",
    "version": 3
   },
   "file_extension": ".py",
   "mimetype": "text/x-python",
   "name": "python",
   "nbconvert_exporter": "python",
   "pygments_lexer": "ipython3",
   "version": "3.12.5"
  }
 },
 "nbformat": 4,
 "nbformat_minor": 2
}
