{
 "cells": [
  {
   "cell_type": "code",
   "execution_count": 1,
   "metadata": {},
   "outputs": [
    {
     "name": "stdout",
     "output_type": "stream",
     "text": [
      "Column 1: [140.    30.    35.1   30.    80.    30.    60.    31.1  125.    51.\n",
      "   3.    46.   150.     3.   130.    15.   130.    84.   190.    74.\n",
      "  73.    10.    50.     7.     9.5   15.2   28.6   20.    72.    81.\n",
      " 100.    90.    90.    35.    30.    25.    52.     9.    63.    72.\n",
      "  16.    92.   106.     2.5    9.    32.    32.    55.    52.    28.\n",
      "  20.    14.7   22.3   34.8   84.    19.   160.    65.    55.     4.6\n",
      " 102.    20.    62.    55.    45.6   40.    24.    35.    48.    20.\n",
      "  40.7   15.     0.25 152.    39.8   12.    30.   120.     1.7   36.\n",
      "  96.    38.    90.     9.    25.8   22.    38.8   72.    89.    41.\n",
      "  89.    25.    52.   115.    66.    18.6  152.     1.8   35.     4.  ]\n",
      "Column 2: [1 0 0 1 0 0 1 0 1 1 1 1 1 1 1 0 1 0 1 1 0 0 0 0 0 1 1 0 0 1 0 0 0 1 0 1 0\n",
      " 0 1 1 1 0 1 1 0 0 0 1 1 0 0 0 1 0 0 1 1 0 0 1 1 1 0 1 1 0 0 1 0 0 0 1 0 1\n",
      " 0 0 1 1 1 1 1 0 1 1 0 0 0 1 1 0 1 0 1 0 0 1 1 1 0 0]\n",
      "Column 3: [47 65 56 23 53 27 53 30 44 63 22 59 60 28 65 25 65 47 66 45 46 24 60 63\n",
      " 27 66 36 30 51 65 45 52 54 30 52 26 49 22 34 60 28 58 77 67 27 48 45 49\n",
      " 36 65 32 49 67 22 49 43 61 43 52 51 66 29 62 56 61 56 41 24 60 43 57 23\n",
      " 53 71 20 27 69 58 37 32 33 32 60 71 30 62 54 42 62 51 71 29 55 54 55 26\n",
      " 56 28 44 24]\n",
      "Column 4: [1 1 0 0 1 0 0 0 1 1 0 0 1 0 0 0 0 1 1 1 0 0 0 0 0 1 1 0 1 1 1 1 1 0 0 0 0\n",
      " 0 1 0 0 1 1 0 0 1 0 1 0 1 0 0 0 0 1 0 1 1 0 0 1 0 0 1 0 0 0 0 0 0 0 0 0 1\n",
      " 0 0 1 1 0 1 1 1 0 0 0 0 0 1 0 1 1 0 1 0 1 0 1 0 0 0]\n"
     ]
    }
   ],
   "source": [
    "#1.Extract data from the given SalaryGender CSV file and store the data from each column in a separate NumPy array\n",
    "import numpy as np\n",
    "import csv\n",
    "\n",
    "file_path = r\"C:\\Users\\19899\\OneDrive\\Desktop\\Python Course\\SalaryGender.csv\"\n",
    "\n",
    "with open(file_path, mode='r') as file:\n",
    "    csv_reader = csv.reader(file)\n",
    "    \n",
    "    next(csv_reader)\n",
    "    \n",
    "    column1 = [] \n",
    "    column2 = [] \n",
    "    column3 = []\n",
    "    column4 = []\n",
    "\n",
    "    for row in csv_reader:\n",
    "        column1.append(float(row[0])) \n",
    "        column2.append(int(row[1]))  \n",
    "        column3.append(int(row[2]))   \n",
    "        column4.append(int(row[3]))  \n",
    "\n",
    "column1 = np.array(column1)\n",
    "column2 = np.array(column2)\n",
    "column3 = np.array(column3)\n",
    "column4 = np.array(column4)\n",
    "\n",
    "\n",
    "print(\"Column 1:\", column1)\n",
    "print(\"Column 2:\", column2)\n",
    "print(\"Column 3:\", column3)\n",
    "print(\"Column 4:\", column4)\n"
   ]
  },
  {
   "cell_type": "code",
   "execution_count": 2,
   "metadata": {},
   "outputs": [
    {
     "name": "stdout",
     "output_type": "stream",
     "text": [
      "men with a phd: 24\n",
      "women with a phd: 15\n"
     ]
    }
   ],
   "source": [
    "#2.Find: a. The number of men with a PhD b. The number of women with a PhD \n",
    "\n",
    "men_with_phd = 0\n",
    "women_with_phd = 0\n",
    "\n",
    "for index in range(len(column2)):\n",
    "    if column2[index] == 1 and column4[index] == 1:  \n",
    "        men_with_phd += 1\n",
    "    elif column2[index] == 0 and column4[index] == 1:  \n",
    "        women_with_phd += 1\n",
    "\n",
    "print(f\"men with a phd: {men_with_phd}\")\n",
    "print(f\"women with a phd: {women_with_phd}\")\n",
    "\n"
   ]
  },
  {
   "cell_type": "code",
   "execution_count": null,
   "metadata": {},
   "outputs": [],
   "source": [
    "'''3. Store the “Age” and “PhD” columns in one DataFrame and delete the data of all people who don’t have a PhD from SalaryGender CSV file. '''\n",
    "import pandas as pd\n",
    "column1 = np.array(column1)\n",
    "column2 = np.array(column2)\n",
    "column3 = np.array(column3)\n",
    "column4 = np.array(column4)\n",
    "\n",
    "data = {'Age': column3, 'PhD': column4}\n",
    "df = pd.DataFrame(data)\n",
    "\n",
    "\n",
    "df_filtered = df[df['PhD'] == 1]\n",
    "\n",
    "print(\"\\nOnly PhD holders:\")\n",
    "print(df_filtered)\n",
    "\n",
    "df_filtered.to_csv(file_path, index=False)\n",
    "\n"
   ]
  },
  {
   "cell_type": "code",
   "execution_count": 1,
   "metadata": {},
   "outputs": [
    {
     "name": "stdout",
     "output_type": "stream",
     "text": [
      "Total number of people with a PhD: 39\n"
     ]
    }
   ],
   "source": [
    "#4.Calculate the total number of people who have a PhD degree from SalaryGender CSV \n",
    "\n",
    "import pandas as pd\n",
    "\n",
    "\n",
    "file_path = r\"C:\\Users\\19899\\OneDrive\\Desktop\\Python Course\\SalaryGender.csv\"\n",
    "df = pd.read_csv(file_path)\n",
    "\n",
    "phd_holders = df[df['PhD'] == 1]\n",
    "\n",
    "total_phd_holders = phd_holders.shape[0]\n",
    "\n",
    "print(f\"Total number of people with a PhD: {total_phd_holders}\")\n"
   ]
  },
  {
   "cell_type": "code",
   "execution_count": 2,
   "metadata": {},
   "outputs": [
    {
     "name": "stdout",
     "output_type": "stream",
     "text": [
      "Counter({0: 4, 4: 3, 5: 2, 1: 2, 3: 1, 2: 1, 9: 1})\n"
     ]
    }
   ],
   "source": [
    "#5. How do you Count The Number Of Times Each Value Appears In An Array Of Integers? \n",
    " #\n",
    "\n",
    "from collections import Counter\n",
    "\n",
    "my_array = [0, 5, 4, 0, 4, 4, 3, 0, 0, 5, 2, 1, 1, 9]\n",
    "\n",
    "# Use Counter to count occurrences\n",
    "counts = Counter(my_array)\n",
    "\n",
    "# Print the result\n",
    "print(counts)\n"
   ]
  },
  {
   "cell_type": "code",
   "execution_count": 16,
   "metadata": {},
   "outputs": [
    {
     "name": "stdout",
     "output_type": "stream",
     "text": [
      "[ 6  7  8  9 10 11]\n"
     ]
    }
   ],
   "source": [
    "#6. Create a numpy array [[0, 1, 2], [ 3, 4, 5], [ 6, 7, 8],[ 9, 10, 11]]) and filter the elements greater than 5. \n",
    "import numpy as np\n",
    "arr = np.array([[0, 1, 2], [3, 4, 5], [6, 7, 8], [9, 10, 11]])\n",
    "\n",
    "\n",
    "filtered_elements = arr[arr > 5]\n",
    "\n",
    "print(filtered_elements)\n",
    "\n"
   ]
  },
  {
   "cell_type": "code",
   "execution_count": 17,
   "metadata": {},
   "outputs": [
    {
     "name": "stdout",
     "output_type": "stream",
     "text": [
      "Array with NaN values:\n",
      "[nan  1.  2. nan  3.  4.  5.]\n"
     ]
    }
   ],
   "source": [
    "#7. Create a numpy array having NaN (Not a Number) and print it. \n",
    "import numpy as np\n",
    "\n",
    "arr_with_nan = np.array([np.nan, 1., 2., np.nan, 3., 4., 5.])\n",
    "print(\"Array with NaN values:\")\n",
    "print(arr_with_nan)"
   ]
  },
  {
   "cell_type": "code",
   "execution_count": null,
   "metadata": {},
   "outputs": [],
   "source": [
    "#8Create a 10x10 array with random values and find the minimum and maximum values\n",
    "random_array = np.random.rand(10, 10)\n",
    "\n",
    "min_value = np.min(random_array)\n",
    "max_value = np.max(random_array)\n",
    "\n",
    "print(\"\\n10x10 Random Array:\")\n",
    "print(random_array)\n",
    "print(\"\\nMinimum value:\", min_value)\n",
    "print(\"Maximum value:\", max_value)\n"
   ]
  },
  {
   "cell_type": "code",
   "execution_count": 5,
   "metadata": {},
   "outputs": [
    {
     "name": "stdout",
     "output_type": "stream",
     "text": [
      "Mean value: 0.5090194989712399\n"
     ]
    }
   ],
   "source": [
    "\n",
    "#9.Create a random vector of size 30 and find the mean value.\n",
    "\n",
    "#import numpy as np\n",
    "\n",
    "random_vector = np.random.rand(30)\n",
    "\n",
    "\n",
    "mean_value = np.mean(random_vector)\n",
    "\n",
    "print(\"Mean value:\", mean_value)\n",
    "\n"
   ]
  },
  {
   "cell_type": "code",
   "execution_count": 7,
   "metadata": {},
   "outputs": [
    {
     "name": "stdout",
     "output_type": "stream",
     "text": [
      "[ 0  1  2  3 -4 -5 -6 -7 -8  9 10]\n"
     ]
    }
   ],
   "source": [
    "#10. Create numpy array having elements 0 to 10 And negate all the elements between 3 and 9 \n",
    "import numpy as n\n",
    "array = np.arange(11)\n",
    "array[(array > 3) & (array < 9)] *= -1\n",
    "print(array)\n"
   ]
  },
  {
   "cell_type": "code",
   "execution_count": 11,
   "metadata": {},
   "outputs": [
    {
     "name": "stdout",
     "output_type": "stream",
     "text": [
      "Original array\n",
      " [[5 4 7]\n",
      " [3 2 3]\n",
      " [5 6 2]]\n",
      "Sorted by 1st column [[3 2 3]\n",
      " [5 4 7]\n",
      " [5 6 2]]\n",
      "Sorted by 2nd column [[3 2 3]\n",
      " [5 4 7]\n",
      " [5 6 2]]\n",
      "Sorted by 3rd column [[5 6 2]\n",
      " [3 2 3]\n",
      " [5 4 7]]\n"
     ]
    }
   ],
   "source": [
    "#11. Create a random array of 3 rows and 3 columns and sort it according to 1st column, 2nd column or 3rd column. \n",
    "import numpy as np\n",
    "\n",
    "random_array = np.random.randint(0,10,(3, 3))\n",
    "\n",
    "sorted_by_column1 = random_array[random_array[:, 0].argsort()]\n",
    "sorted_by_column2 = random_array[random_array[:, 1].argsort()]\n",
    "sorted_by_column3 = random_array[random_array[:, 2].argsort()]\n",
    "\n",
    "# Print results\n",
    "print(\"Original array\\n\", random_array)\n",
    "print(\"Sorted by 1st column\", sorted_by_column1)\n",
    "print(\"Sorted by 2nd column\", sorted_by_column2)\n",
    "print(\"Sorted by 3rd column\", sorted_by_column3)\n"
   ]
  },
  {
   "cell_type": "code",
   "execution_count": 12,
   "metadata": {},
   "outputs": [
    {
     "name": "stdout",
     "output_type": "stream",
     "text": [
      "Original array: (3, 4, 5, 6)\n",
      "Sum over the last two axes:\n",
      "[[146 130 163 148]\n",
      " [146 158 142 152]\n",
      " [158 153 144 132]]\n",
      "(3, 4)\n"
     ]
    }
   ],
   "source": [
    "#12. Create a four dimensions array get sum over the last two axis at once.\n",
    "import numpy as np\n",
    "array_4d = np.random.randint(1, 10, size=(3, 4, 5, 6))\n",
    "print(\"Original array:\", array_4d.shape)\n",
    "sum_of_axis = array_4d.sum(axis=(-2, -1))\n",
    "\n",
    "print(\"Sum over the last two axes:\")\n",
    "print(sum_of_axis)\n",
    "print( sum_of_axis.shape)\n"
   ]
  },
  {
   "cell_type": "code",
   "execution_count": null,
   "metadata": {},
   "outputs": [],
   "source": [
    "\n",
    " #13. Create a random array and swap two rows of an array. \n",
    "\n",
    "array = np.random.randint(1, 10, size=(4, 4))\n",
    "print(\"Original array:\")\n",
    "print(array)\n",
    "array[[0, 2]] = array[[2, 0]]\n",
    "print(\"\\nArray after swapping rows 0 and 2:\")\n",
    "print(array)\n"
   ]
  },
  {
   "cell_type": "code",
   "execution_count": 13,
   "metadata": {},
   "outputs": [
    {
     "name": "stdout",
     "output_type": "stream",
     "text": [
      "Random matrix:\n",
      "[[7 4 8]\n",
      " [5 8 6]\n",
      " [1 9 5]]\n",
      "\n",
      "Matrix rank: 3\n"
     ]
    }
   ],
   "source": [
    "\n",
    "#14. Create a random matrix and Compute a matrix rank.'''\n",
    "import numpy as np\n",
    "matrix = np.random.randint(1, 10, size=(3, 3))\n",
    "print(\"Random matrix:\")\n",
    "print(matrix)\n",
    "rank = np.linalg.matrix_rank(matrix)\n",
    "print(\"Rank:\", rank)\n"
   ]
  },
  {
   "cell_type": "code",
   "execution_count": null,
   "metadata": {},
   "outputs": [],
   "source": []
  }
 ],
 "metadata": {
  "kernelspec": {
   "display_name": "Python 3",
   "language": "python",
   "name": "python3"
  },
  "language_info": {
   "codemirror_mode": {
    "name": "ipython",
    "version": 3
   },
   "file_extension": ".py",
   "mimetype": "text/x-python",
   "name": "python",
   "nbconvert_exporter": "python",
   "pygments_lexer": "ipython3",
   "version": "3.12.7"
  }
 },
 "nbformat": 4,
 "nbformat_minor": 2
}
