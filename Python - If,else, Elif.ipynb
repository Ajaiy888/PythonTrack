{
 "cells": [
  {
   "cell_type": "code",
   "execution_count": 1,
   "metadata": {},
   "outputs": [
    {
     "name": "stdout",
     "output_type": "stream",
     "text": [
      "i am good\n"
     ]
    }
   ],
   "source": [
    "hungry = False\n",
    "if hungry:\n",
    "    print('Feed me')\n",
    "else:\n",
    "    print(\"i am good\")\n"
   ]
  },
  {
   "cell_type": "code",
   "execution_count": 2,
   "metadata": {},
   "outputs": [
    {
     "name": "stdout",
     "output_type": "stream",
     "text": [
      "I do not know much\n"
     ]
    }
   ],
   "source": [
    "loc = 'bank'\n",
    "if loc == 'Auto shop':\n",
    "    print(\"Cars are cool!\")\n",
    "else:\n",
    "    print('I do not know much')"
   ]
  },
  {
   "cell_type": "code",
   "execution_count": 3,
   "metadata": {},
   "outputs": [
    {
     "name": "stdout",
     "output_type": "stream",
     "text": [
      "Money is cool!\n"
     ]
    }
   ],
   "source": [
    "loc = 'bank'\n",
    "if loc == 'Auto shop':\n",
    "    print(\"Cars are cool!\")\n",
    "elif loc == 'bank':\n",
    "    print(\"Money is cool!\")\n",
    "elif loc =='Store':\n",
    "    print('Welcome to the store')\n",
    "else:\n",
    "    print('I do not know much')"
   ]
  },
  {
   "cell_type": "code",
   "execution_count": 4,
   "metadata": {},
   "outputs": [
    {
     "name": "stdout",
     "output_type": "stream",
     "text": [
      "Welcome to the store\n"
     ]
    }
   ],
   "source": [
    "loc = input(\"Enter the name of company\")\n",
    "if loc == 'Auto shop':\n",
    "    print(\"Cars are cool!\")\n",
    "elif loc == 'bank':\n",
    "    print(\"Money is cool!\")\n",
    "elif loc =='Store':\n",
    "    print('Welcome to the store')\n",
    "else:\n",
    "    print('I do not know much')"
   ]
  },
  {
   "cell_type": "code",
   "execution_count": null,
   "metadata": {},
   "outputs": [],
   "source": []
  }
 ],
 "metadata": {
  "kernelspec": {
   "display_name": "Python 3",
   "language": "python",
   "name": "python3"
  },
  "language_info": {
   "codemirror_mode": {
    "name": "ipython",
    "version": 3
   },
   "file_extension": ".py",
   "mimetype": "text/x-python",
   "name": "python",
   "nbconvert_exporter": "python",
   "pygments_lexer": "ipython3",
   "version": "3.12.5"
  }
 },
 "nbformat": 4,
 "nbformat_minor": 2
}
