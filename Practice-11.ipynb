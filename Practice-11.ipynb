{
 "cells": [
  {
   "cell_type": "code",
   "execution_count": 18,
   "metadata": {},
   "outputs": [
    {
     "name": "stdout",
     "output_type": "stream",
     "text": [
      "3 of Gongura (Maincourse)\n",
      "5 of Vanilla (Dessert)\n"
     ]
    }
   ],
   "source": [
    "class Cooking:\n",
    "    def __init__(self, name, quantity, item):\n",
    "        self.name = name\n",
    "        self.quantity = quantity\n",
    "        self.item = item\n",
    "    def __str__(self):\n",
    "        return f\"{self.quantity} of {self.name} ({self.item})\"\n",
    "\n",
    "cake = Cooking('Vanilla', '5', 'Dessert')\n",
    "gongura = Cooking('Gongura','3','Maincourse')\n",
    "print(gongura)\n",
    "print(cake)  \n"
   ]
  },
  {
   "cell_type": "code",
   "execution_count": 20,
   "metadata": {},
   "outputs": [
    {
     "name": "stdout",
     "output_type": "stream",
     "text": [
      "5of Vanilla of (Dessert)\n",
      "2of biryani of (Mainncourse)\n"
     ]
    }
   ],
   "source": [
    "class Cooking:\n",
    "    def __init__(self, name, quantity, item):\n",
    "        self.name = name          # Name of the item\n",
    "        self.quantity = quantity  # Quantity of the item\n",
    "        self.item = item          # Type of item (e.g., Dessert)\n",
    "    def making_item(self):\n",
    "        return f\"{self.quantity}of {self.name} of ({self.item})\"\n",
    "\n",
    "# Creating an object of the Cooking class\n",
    "cake = Cooking('Vanilla', '5', 'Dessert')\n",
    "pasta = Cooking('biryani','2',\"Mainncourse\")\n",
    "\n",
    "# Calling the making_item method\n",
    "print(cake.making_item())\n",
    "print(pasta.making_item())  # Output: Making 5 of Vanilla (Dessert)\n"
   ]
  },
  {
   "cell_type": "code",
   "execution_count": 16,
   "metadata": {},
   "outputs": [
    {
     "name": "stdout",
     "output_type": "stream",
     "text": [
      "<__main__.Cooking object at 0x000001D224A70E00>\n"
     ]
    }
   ],
   "source": [
    "class Cooking:\n",
    "    def __init__(self, name, quantity, item):\n",
    "        self.name = name          # Name of the item\n",
    "        self.quantity = quantity  # Quantity of the item\n",
    "        self.item = item          # Type of item (e.g., Dessert)\n",
    "cake = Cooking('Vanilla', '5', 'Dessert')\n",
    "pasta = Cooking('Pasta', '2', 'Main Course')\n",
    "print(cake)\n"
   ]
  },
  {
   "cell_type": "code",
   "execution_count": 21,
   "metadata": {},
   "outputs": [
    {
     "name": "stdout",
     "output_type": "stream",
     "text": [
      "5 of Vanilla (Dessert)\n",
      "Preparing 5 Dessert(s) of Vanilla!\n"
     ]
    }
   ],
   "source": [
    "class Cooking:\n",
    "    def __init__(self, name, quantity, item):\n",
    "        self.name = name          # Name of the item\n",
    "        self.quantity = quantity  # Quantity of the item\n",
    "        self.item = item          # Type of item (e.g., Dessert)\n",
    "\n",
    "    def describe_item(self):\n",
    "        \"\"\"Return a description of the cooking item.\"\"\"\n",
    "        return f\"{self.quantity} of {self.name} ({self.item})\"\n",
    "\n",
    "    def prepare(self):\n",
    "        \"\"\"Simulate the preparation of the item.\"\"\"\n",
    "        return f\"Preparing {self.quantity} {self.item}(s) of {self.name}!\"\n",
    "\n",
    "# Creating an instance of the Cooking class\n",
    "cake = Cooking('Vanilla', '5', 'Dessert')\n",
    "\n",
    "# Calling the methods to see the outputs\n",
    "print(cake.describe_item())  # Output: 5 of Vanilla (Dessert)\n",
    "print(cake.prepare())        # Output: Preparing 5 Dessert(s) of Vanilla!\n"
   ]
  },
  {
   "cell_type": "code",
   "execution_count": 39,
   "metadata": {},
   "outputs": [
    {
     "name": "stdout",
     "output_type": "stream",
     "text": [
      "Buddy Speaks\n",
      "Dog barks\n",
      "tom Speaks\n"
     ]
    }
   ],
   "source": [
    "class Animal:\n",
    "    def __init__(self,name):\n",
    "        self.name = name\n",
    "    def speaks(self):\n",
    "        return f\"{self.name} Speaks\"\n",
    "\n",
    "class Dog(Animal):\n",
    "    def bark(self):\n",
    "        return \"Dog barks\"\n",
    "Buddy = Dog('Buddy')\n",
    "Cat = Animal('tom')\n",
    "print(Buddy.speaks())\n",
    "print(Buddy.bark())\n",
    "print(Cat.speaks())  \n"
   ]
  },
  {
   "cell_type": "code",
   "execution_count": null,
   "metadata": {},
   "outputs": [],
   "source": []
  },
  {
   "cell_type": "code",
   "execution_count": 63,
   "metadata": {},
   "outputs": [
    {
     "name": "stdout",
     "output_type": "stream",
     "text": [
      "Dog barks\n",
      "Meow\n"
     ]
    }
   ],
   "source": [
    "class Dog:\n",
    "    def speak(self):\n",
    "        return \"Dog barks\"\n",
    "\n",
    "class Cat:\n",
    "    def speak(self):\n",
    "        return \"Meow\"\n",
    "\n",
    "def animal_sound(animal):\n",
    "    print(animal.speak())  # Calls the speak method of the object\n",
    "\n",
    "# Create instances of Dog and Cat\n",
    "dog = Dog()\n",
    "cat = Cat()\n",
    "\n",
    "# Call the animal_sound function for both dog and cat\n",
    "animal_sound(dog)  # Output: Dog barks\n",
    "animal_sound(cat)  # Output: Meow\n"
   ]
  },
  {
   "cell_type": "code",
   "execution_count": 78,
   "metadata": {},
   "outputs": [
    {
     "name": "stdout",
     "output_type": "stream",
     "text": [
      "2024 Tesla Model S\n",
      "Battery Size: 100 kWh\n"
     ]
    }
   ],
   "source": [
    "class Car:\n",
    "    def __init__(self, make, model, year):\n",
    "        self.make = make\n",
    "        self.model = model\n",
    "        self.year = year\n",
    "    \n",
    "    def get_cardetails(self):\n",
    "        return f\"{self.year} {self.make} {self.model}\"\n",
    "\n",
    "# Subclass ElectricCar that inherits from Car\n",
    "class ElectricCar(Car):\n",
    "    def __init__(self, make, model, year, batterysize):\n",
    "        # Call the parent class's __init__ method\n",
    "        super().__init__(make, model, year)\n",
    "        self.batterysize = batterysize  # Unique attribute for ElectricCar\n",
    "    \n",
    "    def display_battery_size(self):\n",
    "        return f\"Battery Size: {self.batterysize}\"\n",
    "\n",
    "# Create an instance of ElectricCar\n",
    "my_carbattery = ElectricCar('Tesla', 'Model S', 2024, '100 kWh')\n",
    "\n",
    "# Call the methods\n",
    "print(my_carbattery.get_cardetails())  # Inherited method from Car\n",
    "print(my_carbattery.display_battery_size())  # Method from ElectricCar\n"
   ]
  },
  {
   "cell_type": "code",
   "execution_count": null,
   "metadata": {},
   "outputs": [],
   "source": [
    "'''\n",
    "2. Find: \n",
    "a. The number of men with a PhD \n",
    "b. The number of women with a PhD \n",
    "'''"
   ]
  },
  {
   "cell_type": "code",
   "execution_count": 65,
   "metadata": {},
   "outputs": [
    {
     "name": "stdout",
     "output_type": "stream",
     "text": [
      "Column 1: []\n",
      "Column 2: []\n",
      "Column 3: []\n",
      "Column 4: []\n"
     ]
    }
   ],
   "source": [
    "#1.Extract data from the given SalaryGender CSV file and store the data from each column in a separate NumPy array\n",
    "import numpy as np\n",
    "import csv\n",
    "\n",
    "file_path = r\"C:\\Users\\19899\\OneDrive\\Desktop\\Python Course\\SalaryGender.csv\"\n",
    "\n",
    "with open(file_path, mode='r') as file:\n",
    "    csv_reader = csv.reader(file)\n",
    "    \n",
    "    \n",
    "    next(csv_reader)\n",
    "    \n",
    "    column1 = [] \n",
    "    column2 = [] \n",
    "    column3 = []\n",
    "    column4 = []\n",
    "\n",
    "    for row in csv_reader:\n",
    "        column1.append(float(row[0])) \n",
    "        column2.append(int(row[1]))  \n",
    "        column3.append(int(row[2]))   \n",
    "        column4.append(int(row[3]))  \n",
    "\n",
    "column1 = np.array(column1)\n",
    "column2 = np.array(column2)\n",
    "column3 = np.array(column3)\n",
    "column4 = np.array(column4)\n",
    "\n",
    "\n",
    "print(\"Column 1:\", column1)\n",
    "print(\"Column 2:\", column2)\n",
    "print(\"Column 3:\", column3)\n",
    "print(\"Column 4:\", column4)\n"
   ]
  },
  {
   "cell_type": "code",
   "execution_count": 62,
   "metadata": {},
   "outputs": [
    {
     "name": "stdout",
     "output_type": "stream",
     "text": [
      "men with a phd: 0\n",
      "women with a phd: 0\n"
     ]
    }
   ],
   "source": [
    "#2.Find: a. The number of men with a PhD b. The number of women with a PhD \n",
    "\n",
    "men_with_phd = 0\n",
    "women_with_phd = 0\n",
    "\n",
    "for index in range(len(column2)):\n",
    "    if column2[index] == 1 and column4[index] == 1:  \n",
    "        men_with_phd += 1\n",
    "    elif column2[index] == 0 and column4[index] == 1:  \n",
    "        women_with_phd += 1\n",
    "\n",
    "print(f\"men with a phd: {men_with_phd}\")\n",
    "print(f\"women with a phd: {women_with_phd}\")\n",
    "\n"
   ]
  },
  {
   "cell_type": "code",
   "execution_count": 1,
   "metadata": {},
   "outputs": [
    {
     "ename": "NameError",
     "evalue": "name 'np' is not defined",
     "output_type": "error",
     "traceback": [
      "\u001b[1;31m---------------------------------------------------------------------------\u001b[0m",
      "\u001b[1;31mNameError\u001b[0m                                 Traceback (most recent call last)",
      "Cell \u001b[1;32mIn[1], line 3\u001b[0m\n\u001b[0;32m      1\u001b[0m \u001b[38;5;124;03m'''3. Store the “Age” and “PhD” columns in one DataFrame and delete the data of all people who don’t have a PhD from SalaryGender CSV file. '''\u001b[39;00m\n\u001b[1;32m----> 3\u001b[0m column1 \u001b[38;5;241m=\u001b[39m \u001b[43mnp\u001b[49m\u001b[38;5;241m.\u001b[39marray(column1)\n\u001b[0;32m      4\u001b[0m column2 \u001b[38;5;241m=\u001b[39m np\u001b[38;5;241m.\u001b[39marray(column2)\n\u001b[0;32m      5\u001b[0m column3 \u001b[38;5;241m=\u001b[39m np\u001b[38;5;241m.\u001b[39marray(column3)\n",
      "\u001b[1;31mNameError\u001b[0m: name 'np' is not defined"
     ]
    }
   ],
   "source": [
    "'''3. Store the “Age” and “PhD” columns in one DataFrame and delete the data of all people who don’t have a PhD from SalaryGender CSV file. '''\n",
    "\n",
    "column1 = np.array(column1)\n",
    "column2 = np.array(column2)\n",
    "column3 = np.array(column3)\n",
    "column4 = np.array(column4)\n",
    "\n",
    "data = {'Age': column3, 'PhD': column4}\n",
    "df = pd.DataFrame(data)\n",
    "\n",
    "\n",
    "df_filtered = df[df['PhD'] == 1]\n",
    "\n",
    "print(\"\\nOnly PhD holders:\")\n",
    "print(df_filtered)\n",
    "\n",
    "df_filtered.to_csv(file_path, index=False)\n",
    "\n"
   ]
  },
  {
   "cell_type": "code",
   "execution_count": 63,
   "metadata": {},
   "outputs": [
    {
     "ename": "TypeError",
     "evalue": "'list' object is not callable",
     "output_type": "error",
     "traceback": [
      "\u001b[1;31m---------------------------------------------------------------------------\u001b[0m",
      "\u001b[1;31mTypeError\u001b[0m                                 Traceback (most recent call last)",
      "Cell \u001b[1;32mIn[63], line 5\u001b[0m\n\u001b[0;32m      1\u001b[0m \u001b[38;5;124;03m'''Input Format A single line of input containing space separated numbers. Output Format Print the reverse list with type float with zeros on the place of negative\u001b[39;00m\n\u001b[0;32m      2\u001b[0m \u001b[38;5;124;03mnumbers. Sample Input 1 2 3\u001b[39;00m\n\u001b[0;32m      3\u001b[0m \u001b[38;5;124;03m4-8 -10 Sample Output [0.0\u001b[39;00m\n\u001b[0;32m      4\u001b[0m \u001b[38;5;124;03m0.0-4.0 -3.0-2.0-1.0}'''\u001b[39;00m\n\u001b[1;32m----> 5\u001b[0m input_numbers \u001b[38;5;241m=\u001b[39m \u001b[38;5;28;43minput\u001b[39;49m\u001b[43m(\u001b[49m\u001b[43m)\u001b[49m\u001b[38;5;241m.\u001b[39msplit()\n\u001b[0;32m      6\u001b[0m output_list \u001b[38;5;241m=\u001b[39m []\n\u001b[0;32m      7\u001b[0m \u001b[38;5;28;01mfor\u001b[39;00m num \u001b[38;5;129;01min\u001b[39;00m \u001b[38;5;28mreversed\u001b[39m(input_numbers):\n",
      "\u001b[1;31mTypeError\u001b[0m: 'list' object is not callable"
     ]
    }
   ],
   "source": [
    "'''Input Format A single line of input containing space separated numbers. Output Format Print the reverse list with type float with zeros on the place of negative\n",
    "numbers. Sample Input 1 2 3\n",
    "4-8 -10 Sample Output [0.0\n",
    "0.0-4.0 -3.0-2.0-1.0}'''\n",
    "input_numbers = input().split()\n",
    "output_list = []\n",
    "for num in reversed(input_numbers):\n",
    "    output_list.append(float(num))\n",
    "\n",
    "for i in range(len(output_list)):\n",
    "    if output_list[i] < 0:\n",
    "        output_list[i] = 0.0\n",
    "\n",
    "print(output_list)\n",
    "\n",
    "\n"
   ]
  },
  {
   "cell_type": "code",
   "execution_count": 45,
   "metadata": {},
   "outputs": [
    {
     "name": "stdout",
     "output_type": "stream",
     "text": [
      "(2, 4, 5, 10, 13, 16, 27)\n"
     ]
    }
   ],
   "source": [
    "# Correct tuple definition\n",
    "T1 = (10, 2, 13, 4, 5, 16, 27)\n",
    "\n",
    "# Sorting the tuple\n",
    "sorted_T1 = tuple(sorted(T1))\n",
    "\n",
    "# Printing the sorted tuple\n",
    "print(sorted_T1)  # Output: (2, 4, 5, 10, 13, 16, 27)\n"
   ]
  },
  {
   "cell_type": "code",
   "execution_count": 46,
   "metadata": {},
   "outputs": [
    {
     "name": "stdout",
     "output_type": "stream",
     "text": [
      "{'a': 1, 'b': 2, 'c': 3}\n"
     ]
    }
   ],
   "source": [
    "input_list = ['a', 1, 'b', 2, 'c', 3]\n",
    "\n",
    "output_dict = {input_list[i]: input_list[i + 1] for i in range(0, len(input_list), 2)}\n",
    "\n",
    "\n",
    "print(output_dict) \n"
   ]
  },
  {
   "cell_type": "code",
   "execution_count": 48,
   "metadata": {},
   "outputs": [
    {
     "name": "stdout",
     "output_type": "stream",
     "text": [
      "{'a': 1, 'b': 2, 'c': 3}\n"
     ]
    }
   ],
   "source": [
    "\n",
    "input = ['a', 1, 'b', 2, 'c', 3]\n",
    "\n",
    "output = {input_list[0]: input_list[1] ,input_list[2]: input_list[3],input_list[4]: input_list[5]}\n",
    "\n",
    "print(output) \n"
   ]
  },
  {
   "cell_type": "code",
   "execution_count": 49,
   "metadata": {},
   "outputs": [
    {
     "name": "stdout",
     "output_type": "stream",
     "text": [
      "{'a': 1, 'b': 2, 'c': 3}\n"
     ]
    }
   ],
   "source": [
    "\n",
    "input = ['a', 1, 'b', 2, 'c', 3]\n",
    "\n",
    "output = {input_list[0]: input_list[1] ,input_list[2]: input_list[3],input_list[4]: input_list[5]}\n",
    "\n",
    "print(output) \n"
   ]
  },
  {
   "cell_type": "code",
   "execution_count": 50,
   "metadata": {},
   "outputs": [
    {
     "name": "stdout",
     "output_type": "stream",
     "text": [
      "{'a': 1, 'b': 2, 'c': 3}\n"
     ]
    }
   ],
   "source": [
    "\n",
    "input = ['a', 1, 'b', 2, 'c', 3]\n",
    "output = {}\n",
    "for i in range(0, len(input), 2):\n",
    "    output[input[i]] = input[i + 1]\n",
    "print(output)  \n"
   ]
  },
  {
   "cell_type": "code",
   "execution_count": 51,
   "metadata": {},
   "outputs": [
    {
     "name": "stdout",
     "output_type": "stream",
     "text": [
      "Average Age: 17.0\n",
      "[(1, 'Ramesh', 19), (2, 'Ashok', 17), (3, 'Rajesh', 15), (4, 'Ramesh', 17)]\n"
     ]
    }
   ],
   "source": [
    "# Sample input: List of students as tuples (id, name, age)\n",
    "students = [\n",
    "    (1, \"Ramesh\", 19),\n",
    "    (2, \"Ashok\", 17),\n",
    "    (3, \"Rajesh\", 15),\n",
    "    (4, \"Ramesh\", 17)\n",
    "]\n",
    "\n",
    "# Calculate the average age\n",
    "total_age = sum(age for _, _, age in students)\n",
    "average_age = total_age / len(students)\n",
    "\n",
    "# Print the average age\n",
    "print(f\"Average Age: {average_age:.1f}\")\n",
    "\n",
    "# Format the output for the list of students\n",
    "formatted_students = [(id, name, age) for id, name, age in students]\n",
    "print(formatted_students)  # Output: [(1, \"Ramesh\", 19), (2, \"Ashok\", 17), (3, \"Rajesh\", 15), (4, \"Ramesh\", 17)]\n"
   ]
  },
  {
   "cell_type": "code",
   "execution_count": 52,
   "metadata": {},
   "outputs": [
    {
     "name": "stdout",
     "output_type": "stream",
     "text": [
      "Average Age: 17.0\n",
      "[(1, 'Ramesh', 19), (2, 'Ashok', 17), (3, 'Rajesh', 15), (4, 'Ramesh', 17)]\n"
     ]
    }
   ],
   "source": [
    "\n",
    "students = [\n",
    "    (1, \"Ramesh\", 19),\n",
    "    (2, \"Ashok\", 17),\n",
    "    (3, \"Rajesh\", 15),\n",
    "    (4, \"Ramesh\", 17)\n",
    "]\n",
    "total_age = 0\n",
    "\n",
    "for student in students:\n",
    "    student_id = student[0]      \n",
    "    student_name = student[1]    \n",
    "    age = student[2]          \n",
    "    total_age += age    \n",
    "\n",
    "average_age = total_age / len(students)\n",
    "\n",
    "\n",
    "print(f\"{average_age}\")\n",
    "\n",
    "print(students)  \n"
   ]
  },
  {
   "cell_type": "code",
   "execution_count": 53,
   "metadata": {},
   "outputs": [
    {
     "ename": "SyntaxError",
     "evalue": "invalid syntax (1338619395.py, line 9)",
     "output_type": "error",
     "traceback": [
      "\u001b[1;36m  Cell \u001b[1;32mIn[53], line 9\u001b[1;36m\u001b[0m\n\u001b[1;33m    if\u001b[0m\n\u001b[1;37m       ^\u001b[0m\n\u001b[1;31mSyntaxError\u001b[0m\u001b[1;31m:\u001b[0m invalid syntax\n"
     ]
    }
   ],
   "source": [
    "\n",
    "students = [\n",
    "    (1, \"Ramesh\", 19),\n",
    "    (2, \"Ashok\", 17),\n",
    "    (3, \"Rajesh\", 15),\n",
    "    (4, \"Ramesh\", 17)\n",
    "]\n",
    "\n",
    "ages = [age for student_id, student_name, age in students]\n",
    "\n",
    "\n",
    "\n",
    "total_age = sum(ages)\n",
    "\n",
    "average_age = total_age / len(students)\n",
    "\n",
    "print(f\"Average Age: {average_age:.1f}\")\n",
    "\n",
    "print(students)  \n"
   ]
  },
  {
   "cell_type": "code",
   "execution_count": 54,
   "metadata": {},
   "outputs": [
    {
     "name": "stdout",
     "output_type": "stream",
     "text": [
      "Student with the highest age: Ramesh (Age: 19)\n"
     ]
    }
   ],
   "source": [
    "# Sample input: List of students as tuples (id, name, age)\n",
    "students = [\n",
    "    (1, \"Ramesh\", 19),\n",
    "    (2, \"Ashok\", 17),\n",
    "    (3, \"Rajesh\", 15),\n",
    "    (4, \"Ramesh\", 17)\n",
    "]\n",
    "\n",
    "# Initialize variables to keep track of the highest age and the corresponding student\n",
    "highest_age_student = students[0]  # Start with the first student\n",
    "\n",
    "# Iterate through the list of students starting from the second student\n",
    "for student in students[1:]:\n",
    "    # Compare the current student's age with the highest age found so far\n",
    "    if student[2] > highest_age_student[2]:\n",
    "        highest_age_student = student  # Update the student with the highest age\n",
    "\n",
    "# Print the student with the highest age\n",
    "print(f\"Student with the highest age: {highest_age_student[1]} (Age: {highest_age_student[2]})\")\n"
   ]
  },
  {
   "cell_type": "code",
   "execution_count": 57,
   "metadata": {},
   "outputs": [
    {
     "name": "stdout",
     "output_type": "stream",
     "text": [
      "Filtered Students: [(1, 'Ramesh', 19), (2, 'Ashok', 17), (4, 'Ramesh', 17)]\n"
     ]
    }
   ],
   "source": [
    "\n",
    "students = [\n",
    "    (1, \"Ramesh\", 19),\n",
    "    (2, \"Ashok\", 17),\n",
    "    (3, \"Rajesh\", 15),\n",
    "    (4, \"Ramesh\", 17)\n",
    "]\n",
    "\n",
    "filtered_students = [student for student in students if student[0] != 3]\n",
    "\n",
    "print(\"Filtered Students:\", filtered_students)\n"
   ]
  },
  {
   "cell_type": "code",
   "execution_count": 1,
   "metadata": {},
   "outputs": [
    {
     "ename": "NameError",
     "evalue": "name 'np' is not defined",
     "output_type": "error",
     "traceback": [
      "\u001b[1;31m---------------------------------------------------------------------------\u001b[0m",
      "\u001b[1;31mNameError\u001b[0m                                 Traceback (most recent call last)",
      "Cell \u001b[1;32mIn[1], line 1\u001b[0m\n\u001b[1;32m----> 1\u001b[0m \u001b[43mnp\u001b[49m\u001b[38;5;241m.\u001b[39mzeros(\u001b[38;5;241m2\u001b[39m,\u001b[38;5;241m3\u001b[39m)\n",
      "\u001b[1;31mNameError\u001b[0m: name 'np' is not defined"
     ]
    }
   ],
   "source": [
    "np.zeros(2,3)"
   ]
  },
  {
   "cell_type": "code",
   "execution_count": 3,
   "metadata": {},
   "outputs": [
    {
     "data": {
      "text/plain": [
       "array([[0., 0., 0.],\n",
       "       [0., 0., 0.]])"
      ]
     },
     "execution_count": 3,
     "metadata": {},
     "output_type": "execute_result"
    }
   ],
   "source": [
    "import numpy as np\n",
    "np.zeros((2,3))"
   ]
  },
  {
   "cell_type": "code",
   "execution_count": 6,
   "metadata": {},
   "outputs": [
    {
     "data": {
      "text/plain": [
       "array([10, 15, 20])"
      ]
     },
     "execution_count": 6,
     "metadata": {},
     "output_type": "execute_result"
    }
   ],
   "source": [
    "np.arange(10,25,5)"
   ]
  },
  {
   "cell_type": "code",
   "execution_count": 7,
   "metadata": {},
   "outputs": [
    {
     "data": {
      "text/plain": [
       "array([10, 13, 16, 19])"
      ]
     },
     "execution_count": 7,
     "metadata": {},
     "output_type": "execute_result"
    }
   ],
   "source": [
    "np.arange(10,20,3)"
   ]
  },
  {
   "cell_type": "code",
   "execution_count": 11,
   "metadata": {},
   "outputs": [
    {
     "data": {
      "text/plain": [
       "array([[0.77157376, 0.14660442, 0.63608474],\n",
       "       [0.55307172, 0.88278332, 0.4261781 ]])"
      ]
     },
     "execution_count": 11,
     "metadata": {},
     "output_type": "execute_result"
    }
   ],
   "source": [
    "np.random.rand(2,3)"
   ]
  },
  {
   "cell_type": "code",
   "execution_count": 12,
   "metadata": {},
   "outputs": [
    {
     "data": {
      "text/plain": [
       "np.int64(8)"
      ]
     },
     "execution_count": 12,
     "metadata": {},
     "output_type": "execute_result"
    }
   ],
   "source": [
    "np.sum([[1,2],[2,3]])"
   ]
  },
  {
   "cell_type": "code",
   "execution_count": 17,
   "metadata": {},
   "outputs": [
    {
     "data": {
      "text/plain": [
       "array([3, 7])"
      ]
     },
     "execution_count": 17,
     "metadata": {},
     "output_type": "execute_result"
    }
   ],
   "source": [
    "np.sum([[1,4],[2,3]], axis = 0)"
   ]
  },
  {
   "cell_type": "code",
   "execution_count": 22,
   "metadata": {},
   "outputs": [
    {
     "name": "stdout",
     "output_type": "stream",
     "text": [
      "3.0\n"
     ]
    }
   ],
   "source": [
    "a = np.array(9)\n",
    "print(np.sqrt(a))\n"
   ]
  },
  {
   "cell_type": "code",
   "execution_count": 23,
   "metadata": {},
   "outputs": [
    {
     "data": {
      "text/plain": [
       "array([False, False, False])"
      ]
     },
     "execution_count": 23,
     "metadata": {},
     "output_type": "execute_result"
    }
   ],
   "source": [
    "b = [1,2,3]\n",
    "c= [3,4,5]\n",
    "np.equal(a,b)"
   ]
  },
  {
   "cell_type": "code",
   "execution_count": 25,
   "metadata": {},
   "outputs": [],
   "source": [
    "a =np.array([[1,2,3],[2,3,4]])\n",
    "b= np.array([1,2,3])\n",
    "import pandas as pd"
   ]
  },
  {
   "cell_type": "code",
   "execution_count": 26,
   "metadata": {},
   "outputs": [
    {
     "name": "stdout",
     "output_type": "stream",
     "text": [
      "[['1' '2' '3' '4']\n",
      " ['T' 'Q' 'Test' 'D']\n",
      " ['12000' '34000' '45000' '34000']]\n"
     ]
    },
    {
     "data": {
      "text/html": [
       "<div>\n",
       "<style scoped>\n",
       "    .dataframe tbody tr th:only-of-type {\n",
       "        vertical-align: middle;\n",
       "    }\n",
       "\n",
       "    .dataframe tbody tr th {\n",
       "        vertical-align: top;\n",
       "    }\n",
       "\n",
       "    .dataframe thead th {\n",
       "        text-align: right;\n",
       "    }\n",
       "</style>\n",
       "<table border=\"1\" class=\"dataframe\">\n",
       "  <thead>\n",
       "    <tr style=\"text-align: right;\">\n",
       "      <th></th>\n",
       "      <th>Eid</th>\n",
       "      <th>eName</th>\n",
       "      <th>eSalary</th>\n",
       "    </tr>\n",
       "  </thead>\n",
       "  <tbody>\n",
       "    <tr>\n",
       "      <th>0</th>\n",
       "      <td>1</td>\n",
       "      <td>A</td>\n",
       "      <td>1200</td>\n",
       "    </tr>\n",
       "    <tr>\n",
       "      <th>1</th>\n",
       "      <td>2</td>\n",
       "      <td>B</td>\n",
       "      <td>1300</td>\n",
       "    </tr>\n",
       "    <tr>\n",
       "      <th>2</th>\n",
       "      <td>3</td>\n",
       "      <td>C</td>\n",
       "      <td>1400</td>\n",
       "    </tr>\n",
       "  </tbody>\n",
       "</table>\n",
       "</div>"
      ],
      "text/plain": [
       "  Eid eName eSalary\n",
       "0   1     A    1200\n",
       "1   2     B    1300\n",
       "2   3     C    1400"
      ]
     },
     "execution_count": 26,
     "metadata": {},
     "output_type": "execute_result"
    }
   ],
   "source": [
    "# from numpy array we can create dataframe\n",
    "arr=np.array([[1,2,3, 4] , [\"T\" , \"Q\" , \"Test\" , \"D\"] , [12000,34000,45000 ,34000]])\n",
    "print(arr)\n",
    "numpyArray = np.array([[1,2,3],[\"A\",\"B\",\"C\"],[1200,1300,1400]])\n",
    "df2 = pd.DataFrame({'Eid':numpyArray[0] , 'eName': numpyArray[1] , 'eSalary' : numpyArray[2]})\n",
    "df2\n"
   ]
  },
  {
   "cell_type": "code",
   "execution_count": 27,
   "metadata": {},
   "outputs": [
    {
     "name": "stdout",
     "output_type": "stream",
     "text": [
      "  Eid eDepartment   Esal\n",
      "0   1           T  12000\n",
      "1   2           Q  34000\n",
      "2   3        Test  45000\n",
      "3   4           D  34000\n"
     ]
    }
   ],
   "source": [
    "emp = pd.DataFrame({\"Eid\":arr[0] , \"eDepartment\":arr[1] , \"Esal\":arr[2]})\n",
    "print(emp)"
   ]
  },
  {
   "cell_type": "code",
   "execution_count": 29,
   "metadata": {},
   "outputs": [
    {
     "data": {
      "text/html": [
       "<div>\n",
       "<style scoped>\n",
       "    .dataframe tbody tr th:only-of-type {\n",
       "        vertical-align: middle;\n",
       "    }\n",
       "\n",
       "    .dataframe tbody tr th {\n",
       "        vertical-align: top;\n",
       "    }\n",
       "\n",
       "    .dataframe thead th {\n",
       "        text-align: right;\n",
       "    }\n",
       "</style>\n",
       "<table border=\"1\" class=\"dataframe\">\n",
       "  <thead>\n",
       "    <tr style=\"text-align: right;\">\n",
       "      <th></th>\n",
       "      <th>Eid</th>\n",
       "      <th>eName</th>\n",
       "      <th>eSalary</th>\n",
       "      <th>eDepartment</th>\n",
       "      <th>Esal</th>\n",
       "    </tr>\n",
       "  </thead>\n",
       "  <tbody>\n",
       "    <tr>\n",
       "      <th>0</th>\n",
       "      <td>1</td>\n",
       "      <td>A</td>\n",
       "      <td>1200</td>\n",
       "      <td>T</td>\n",
       "      <td>12000</td>\n",
       "    </tr>\n",
       "    <tr>\n",
       "      <th>1</th>\n",
       "      <td>2</td>\n",
       "      <td>B</td>\n",
       "      <td>1300</td>\n",
       "      <td>Q</td>\n",
       "      <td>34000</td>\n",
       "    </tr>\n",
       "    <tr>\n",
       "      <th>2</th>\n",
       "      <td>3</td>\n",
       "      <td>C</td>\n",
       "      <td>1400</td>\n",
       "      <td>Test</td>\n",
       "      <td>45000</td>\n",
       "    </tr>\n",
       "    <tr>\n",
       "      <th>3</th>\n",
       "      <td>4</td>\n",
       "      <td>NaN</td>\n",
       "      <td>NaN</td>\n",
       "      <td>D</td>\n",
       "      <td>34000</td>\n",
       "    </tr>\n",
       "  </tbody>\n",
       "</table>\n",
       "</div>"
      ],
      "text/plain": [
       "  Eid eName eSalary eDepartment   Esal\n",
       "0   1     A    1200           T  12000\n",
       "1   2     B    1300           Q  34000\n",
       "2   3     C    1400        Test  45000\n",
       "3   4   NaN     NaN           D  34000"
      ]
     },
     "execution_count": 29,
     "metadata": {},
     "output_type": "execute_result"
    }
   ],
   "source": [
    "# Merging '\n",
    "df2.merge(emp , on=\"Eid\" , how=\"outer\" )"
   ]
  },
  {
   "cell_type": "code",
   "execution_count": 30,
   "metadata": {},
   "outputs": [
    {
     "data": {
      "text/html": [
       "<div>\n",
       "<style scoped>\n",
       "    .dataframe tbody tr th:only-of-type {\n",
       "        vertical-align: middle;\n",
       "    }\n",
       "\n",
       "    .dataframe tbody tr th {\n",
       "        vertical-align: top;\n",
       "    }\n",
       "\n",
       "    .dataframe thead th {\n",
       "        text-align: right;\n",
       "    }\n",
       "</style>\n",
       "<table border=\"1\" class=\"dataframe\">\n",
       "  <thead>\n",
       "    <tr style=\"text-align: right;\">\n",
       "      <th></th>\n",
       "      <th>Eid</th>\n",
       "      <th>eName</th>\n",
       "      <th>eSalary</th>\n",
       "      <th>eDepartment</th>\n",
       "      <th>Esal</th>\n",
       "    </tr>\n",
       "  </thead>\n",
       "  <tbody>\n",
       "    <tr>\n",
       "      <th>0</th>\n",
       "      <td>1</td>\n",
       "      <td>A</td>\n",
       "      <td>1200</td>\n",
       "      <td>T</td>\n",
       "      <td>12000</td>\n",
       "    </tr>\n",
       "    <tr>\n",
       "      <th>1</th>\n",
       "      <td>2</td>\n",
       "      <td>B</td>\n",
       "      <td>1300</td>\n",
       "      <td>Q</td>\n",
       "      <td>34000</td>\n",
       "    </tr>\n",
       "    <tr>\n",
       "      <th>2</th>\n",
       "      <td>3</td>\n",
       "      <td>C</td>\n",
       "      <td>1400</td>\n",
       "      <td>Test</td>\n",
       "      <td>45000</td>\n",
       "    </tr>\n",
       "  </tbody>\n",
       "</table>\n",
       "</div>"
      ],
      "text/plain": [
       "  Eid eName eSalary eDepartment   Esal\n",
       "0   1     A    1200           T  12000\n",
       "1   2     B    1300           Q  34000\n",
       "2   3     C    1400        Test  45000"
      ]
     },
     "execution_count": 30,
     "metadata": {},
     "output_type": "execute_result"
    }
   ],
   "source": [
    "# Merging '\n",
    "df2.merge(emp , on=\"Eid\" , how=\"inner\" )"
   ]
  },
  {
   "cell_type": "code",
   "execution_count": 1,
   "metadata": {},
   "outputs": [
    {
     "name": "stdout",
     "output_type": "stream",
     "text": [
      "     A    B    C    D\n",
      "A  1.0 -1.0  1.0  1.0\n",
      "B -1.0  1.0 -1.0 -1.0\n",
      "C  1.0 -1.0  1.0  1.0\n",
      "D  1.0 -1.0  1.0  1.0\n"
     ]
    }
   ],
   "source": [
    "import pandas as pd\n",
    "import matplotlib.pyplot as plt\n",
    "\n",
    "# Sample DataFrame\n",
    "data = {\n",
    "    'A': [1, 2, 3, 4, 5],\n",
    "    'B': [5, 4, 3, 2, 1],\n",
    "    'C': [2, 3, 4, 5, 6],\n",
    "    'D': [10, 15, 20, 25, 30]\n",
    "}\n",
    "\n",
    "df = pd.DataFrame(data)\n",
    "\n",
    "# Calculate the correlation matrix\n",
    "correlation_matrix = df.corr()\n",
    "\n",
    "# Print the correlation matrix\n",
    "print(correlation_matrix)\n",
    "\n"
   ]
  },
  {
   "cell_type": "code",
   "execution_count": 5,
   "metadata": {},
   "outputs": [
    {
     "data": {
      "image/png": "[encoded data removed]",
      "text/plain": [
       "<Figure size 640x480 with 2 Axes>"
      ]
     },
     "metadata": {},
     "output_type": "display_data"
    }
   ],
   "source": [
    "import seaborn as sns\n",
    "# Visualize the correlation matrix using a heatmap\n",
    "sns.heatmap(correlation_matrix, annot=True, cmap='coolwarm', linewidths=0.5)\n",
    "plt.title('Correlation Matrix')\n",
    "plt.show()"
   ]
  },
  {
   "cell_type": "code",
   "execution_count": 6,
   "metadata": {},
   "outputs": [],
   "source": [
    "import seaborn as sns\n"
   ]
  },
  {
   "cell_type": "code",
   "execution_count": 2,
   "metadata": {},
   "outputs": [
    {
     "ename": "NameError",
     "evalue": "name 'cars' is not defined",
     "output_type": "error",
     "traceback": [
      "\u001b[1;31m---------------------------------------------------------------------------\u001b[0m",
      "\u001b[1;31mNameError\u001b[0m                                 Traceback (most recent call last)",
      "Cell \u001b[1;32mIn[2], line 3\u001b[0m\n\u001b[0;32m      1\u001b[0m \u001b[38;5;66;03m# box plot of mpg and cyl\u001b[39;00m\n\u001b[0;32m      2\u001b[0m \u001b[38;5;28;01mimport\u001b[39;00m \u001b[38;5;21;01mmatplotlib\u001b[39;00m\u001b[38;5;21;01m.\u001b[39;00m\u001b[38;5;21;01mpyplot\u001b[39;00m \u001b[38;5;28;01mas\u001b[39;00m \u001b[38;5;21;01mplt\u001b[39;00m\n\u001b[1;32m----> 3\u001b[0m data \u001b[38;5;241m=\u001b[39m \u001b[38;5;28mlist\u001b[39m([\u001b[43mcars\u001b[49m\u001b[38;5;241m.\u001b[39mmpg , cars\u001b[38;5;241m.\u001b[39mcyl , cars\u001b[38;5;241m.\u001b[39mqsec])\n\u001b[0;32m      4\u001b[0m plt\u001b[38;5;241m.\u001b[39mboxplot(data,showmeans\u001b[38;5;241m=\u001b[39m\u001b[38;5;28;01mTrue\u001b[39;00m)\n\u001b[0;32m      5\u001b[0m plt\u001b[38;5;241m.\u001b[39mshow()\n",
      "\u001b[1;31mNameError\u001b[0m: name 'cars' is not defined"
     ]
    }
   ],
   "source": [
    "# box plot of mpg and cyl\n",
    "import matplotlib.pyplot as plt\n",
    "data = list([cars.mpg , cars.cyl , cars.qsec])\n",
    "plt.boxplot(data,showmeans=True)\n",
    "plt.show()"
   ]
  },
  {
   "cell_type": "code",
   "execution_count": 10,
   "metadata": {},
   "outputs": [
    {
     "name": "stdout",
     "output_type": "stream",
     "text": [
      "[79.96714153011233, 73.61735698828815, 81.47688538100692, 90.23029856408026, 72.65846625276664, 72.6586304305082, 90.79212815507391, 82.67434729152909, 70.30525614065049, 80.42560043585965, 70.36582307187538, 70.34270246429743, 77.41962271566034, 55.86719755342202, 57.75082167486967, 69.37712470759027, 64.87168879665576, 78.14247332595274, 65.91975924478788, 60.87696298664709, 89.65648768921554, 72.74223699513465, 75.67528204687923, 60.75251813786544, 69.55617275474818, 76.10922589709867, 63.490064225776976, 78.75698018345672, 68.99361310081196, 72.08306250206724, 68.98293387770603, 93.52278184508938, 74.86502775262066, 64.422890710441, 83.22544912103189, 62.791563500289776, 77.08863595004756, 55.403298761202244, 61.71813951101569, 76.96861235869123, 82.3846657999541, 76.7136828118997, 73.8435171761176, 71.98896304410711, 60.214780096325725, 67.80155791605291, 70.39361229040213, 85.57122226218915, 78.43618289568461, 57.36959844637266, 78.24083969394795, 71.14917719583684, 68.23077999694041, 81.11676288840867, 85.30999522495951, 84.31280119116198, 66.60782476777362, 71.90787624148786, 78.31263431403563, 84.75545127122359, 70.2082576215471, 73.14341023336183, 63.93665025993972, 63.037933759193294, 83.12525822394198, 88.56240028570824, 74.27989878419666, 85.03532897892023, 78.61636025047635, 68.54880245394875, 78.61395605508415, 90.38036566465969, 74.64173960890048, 90.64643655814007, 48.80254895910255, 83.21902504375224, 75.87047068238171, 72.00992649534132, 75.91760776535503, 55.124310853991076, 72.80328112162488, 78.57112571511746, 89.77894044741517, 69.81729781726352, 66.91506397106812, 69.98242956415463, 84.15402117702074, 78.28751109659684, 69.70239796232961, 80.13267433113356, 75.9707754934804, 84.68644990532889, 67.97946906122648, 71.72337853402232, 71.07891846867842, 60.364850518678814, 77.96120277064576, 77.6105527217989, 75.05113456642461, 72.65412866624852, 30, 150, 160]\n",
      "           Scores\n",
      "count  103.000000\n",
      "mean    75.108286\n",
      "std     15.064194\n",
      "min     30.000000\n",
      "25%     68.988273\n",
      "50%     73.843517\n",
      "75%     80.049908\n",
      "max    160.000000\n"
     ]
    }
   ],
   "source": [
    "import numpy as np\n",
    "import pandas as pd\n",
    "\n",
    "# Generate a dataset of test scores (normal distribution)\n",
    "np.random.seed(42)\n",
    "test_scores = np.random.normal(loc=75, scale=10, size=100).tolist()\n",
    "\n",
    "# Introduce some outliers\n",
    "test_scores += [30, 150, 160]  # Outliers\n",
    "print(test_scores)\n",
    "# Convert to a DataFrame\n",
    "data = pd.DataFrame(test_scores, columns=['Scores'])\n",
    "print(data.describe())\n"
   ]
  },
  {
   "cell_type": "code",
   "execution_count": 11,
   "metadata": {},
   "outputs": [
    {
     "name": "stdout",
     "output_type": "stream",
     "text": [
      "Original Data Points: 103\n",
      "Filtered Data Points: 99\n"
     ]
    }
   ],
   "source": [
    "# Calculate Q1 (25th percentile) and Q3 (75th percentile)\n",
    "Q1 = data['Scores'].quantile(0.25)\n",
    "Q3 = data['Scores'].quantile(0.75)\n",
    "IQR = Q3 - Q1\n",
    "\n",
    "# Determine lower and upper bounds for outliers\n",
    "lower_bound = Q1 - 1.5 * IQR\n",
    "upper_bound = Q3 + 1.5 * IQR\n",
    "\n",
    "# Filter out the outliers\n",
    "data_filtered = data[(data['Scores'] >= lower_bound) & (data['Scores'] <= upper_bound)]\n",
    "print(f\"Original Data Points: {len(data)}\")\n",
    "print(f\"Filtered Data Points: {len(data_filtered)}\")\n"
   ]
  },
  {
   "cell_type": "code",
   "execution_count": 12,
   "metadata": {},
   "outputs": [
    {
     "name": "stdout",
     "output_type": "stream",
     "text": [
      "      Scores  Normalized_Scores\n",
      "0  79.967142           0.656318\n",
      "1  73.617357          -0.068275\n",
      "2  81.476885           0.828600\n",
      "3  90.230299           1.827478\n",
      "4  72.658466          -0.177697\n"
     ]
    },
    {
     "name": "stderr",
     "output_type": "stream",
     "text": [
      "C:\\Users\\19899\\AppData\\Local\\Temp\\ipykernel_50204\\681201276.py:2: SettingWithCopyWarning: \n",
      "A value is trying to be set on a copy of a slice from a DataFrame.\n",
      "Try using .loc[row_indexer,col_indexer] = value instead\n",
      "\n",
      "See the caveats in the documentation: https://pandas.pydata.org/pandas-docs/stable/user_guide/indexing.html#returning-a-view-versus-a-copy\n",
      "  data_filtered['Normalized_Scores'] = (data_filtered['Scores'] - data_filtered['Scores'].mean()) / data_filtered['Scores'].std()\n"
     ]
    }
   ],
   "source": [
    "# Z-score normalization\n",
    "data_filtered['Normalized_Scores'] = (data_filtered['Scores'] - data_filtered['Scores'].mean()) / data_filtered['Scores'].std()\n",
    "\n",
    "# Display the first few rows of the normalized data\n",
    "print(data_filtered.head())\n"
   ]
  },
  {
   "cell_type": "code",
   "execution_count": 2,
   "metadata": {},
   "outputs": [
    {
     "ename": "ModuleNotFoundError",
     "evalue": "No module named 'scipy'",
     "output_type": "error",
     "traceback": [
      "\u001b[1;31m---------------------------------------------------------------------------\u001b[0m",
      "\u001b[1;31mModuleNotFoundError\u001b[0m                       Traceback (most recent call last)",
      "Cell \u001b[1;32mIn[2], line 2\u001b[0m\n\u001b[0;32m      1\u001b[0m \u001b[38;5;28;01mimport\u001b[39;00m \u001b[38;5;21;01mmatplotlib\u001b[39;00m\u001b[38;5;21;01m.\u001b[39;00m\u001b[38;5;21;01mpyplot\u001b[39;00m \u001b[38;5;28;01mas\u001b[39;00m \u001b[38;5;21;01mplt\u001b[39;00m\n\u001b[1;32m----> 2\u001b[0m \u001b[38;5;28;01mimport\u001b[39;00m \u001b[38;5;21;01mscipy\u001b[39;00m\u001b[38;5;21;01m.\u001b[39;00m\u001b[38;5;21;01mstats\u001b[39;00m \u001b[38;5;28;01mas\u001b[39;00m \u001b[38;5;21;01mstats\u001b[39;00m\n\u001b[0;32m      4\u001b[0m \u001b[38;5;66;03m# Set up the figure\u001b[39;00m\n\u001b[0;32m      5\u001b[0m plt\u001b[38;5;241m.\u001b[39mfigure(figsize\u001b[38;5;241m=\u001b[39m(\u001b[38;5;241m12\u001b[39m, \u001b[38;5;241m6\u001b[39m))\n",
      "\u001b[1;31mModuleNotFoundError\u001b[0m: No module named 'scipy'"
     ]
    }
   ],
   "source": [
    "import matplotlib.pyplot as plt\n",
    "import scipy.stats as stats\n",
    "\n",
    "# Set up the figure\n",
    "plt.figure(figsize=(12, 6))\n",
    "\n",
    "# Histogram\n",
    "plt.subplot(1, 2, 1)\n",
    "plt.hist(data_filtered['Normalized_Scores'], bins=20, color='skyblue', edgecolor='black')\n",
    "plt.title('Normalized Scores Distribution')\n",
    "plt.xlabel('Normalized Scores')\n",
    "plt.ylabel('Frequency')\n",
    "\n",
    "# QQ plot\n",
    "plt.subplot(1, 2, 2)\n",
    "stats.probplot(data_filtered['Normalized_Scores'], dist=\"norm\", plot=plt)\n",
    "plt.title('QQ Plot of Normalized Scores')\n",
    "\n",
    "plt.tight_layout()\n",
    "plt.show()\n"
   ]
  },
  {
   "cell_type": "code",
   "execution_count": null,
   "metadata": {},
   "outputs": [],
   "source": []
  }
 ],
 "metadata": {
  "kernelspec": {
   "display_name": "Python 3",
   "language": "python",
   "name": "python3"
  },
  "language_info": {
   "codemirror_mode": {
    "name": "ipython",
    "version": 3
   },
   "file_extension": ".py",
   "mimetype": "text/x-python",
   "name": "python",
   "nbconvert_exporter": "python",
   "pygments_lexer": "ipython3",
   "version": "3.12.7"
  }
 },
 "nbformat": 4,
 "nbformat_minor": 2
}
