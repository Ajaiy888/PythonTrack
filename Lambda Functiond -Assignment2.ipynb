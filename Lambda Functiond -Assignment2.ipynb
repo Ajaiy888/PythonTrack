{
 "cells": [
  {
   "cell_type": "code",
   "execution_count": 22,
   "metadata": {},
   "outputs": [
    {
     "name": "stdout",
     "output_type": "stream",
     "text": [
      "[93.74, 89.6, 88.16, 98.06]\n",
      "[93.74, 89.6, 88.16, 98.06]\n",
      "134.2\n"
     ]
    }
   ],
   "source": [
    "# to convert celsius to farhient\n",
    "from functools import reduce\n",
    "\n",
    "def fun(C):\n",
    "    res = []\n",
    "    for x in C:\n",
    "        res.append(x * 9/5 + 32)\n",
    "    return res\n",
    "\n",
    "\n",
    "C = [34.3,32.0,31.2,36.7]\n",
    "print(fun(C))\n",
    "F = reduce(lambda col, x:col+ [x * 9/5 + 32], C,[])\n",
    "print(F)\n",
    "res = reduce(lambda inval, singleval: inval+singleval,C,0)\n",
    "print(res)\n"
   ]
  },
  {
   "cell_type": "code",
   "execution_count": 25,
   "metadata": {},
   "outputs": [
    {
     "name": "stdout",
     "output_type": "stream",
     "text": [
      "[['scince', 2], ['learning', 3], ['python', 2]]\n"
     ]
    }
   ],
   "source": [
    "from functools import reduce\n",
    "\n",
    "l = [[\"python\",1],[\"learning\",2],[\"scince\",1]]\n",
    "ans = reduce(lambda col, x: [[x[0],x[1]+1]]+col,l,[])\n",
    "#ans = list(lambda a: a[1]+=1,l)\n",
    "print(ans)"
   ]
  },
  {
   "cell_type": "code",
   "execution_count": 42,
   "metadata": {},
   "outputs": [
    {
     "name": "stdout",
     "output_type": "stream",
     "text": [
      "asfd\n",
      " asfd\n"
     ]
    }
   ],
   "source": [
    "\n",
    "def fun1(s):\n",
    "    start = s[0]\n",
    "    ans = \"\"\n",
    "    for x in s:\n",
    "        if(x == start):\n",
    "            continue\n",
    "        else:\n",
    "            ans+=start\n",
    "            start = x\n",
    "    ans+=start\n",
    "    return ans\n",
    "\n",
    "\n",
    "sample = input()\n",
    "print(fun1(sample))\n",
    "\n",
    "\n",
    "res = reduce(lambda col, x: col+ (x if col[-1]!=x else \"\"),sample,\" \")\n",
    "print(res)"
   ]
  },
  {
   "cell_type": "code",
   "execution_count": null,
   "metadata": {},
   "outputs": [],
   "source": []
  }
 ],
 "metadata": {
  "kernelspec": {
   "display_name": "Python 3",
   "language": "python",
   "name": "python3"
  },
  "language_info": {
   "codemirror_mode": {
    "name": "ipython",
    "version": 3
   },
   "file_extension": ".py",
   "mimetype": "text/x-python",
   "name": "python",
   "nbconvert_exporter": "python",
   "pygments_lexer": "ipython3",
   "version": "3.12.5"
  }
 },
 "nbformat": 4,
 "nbformat_minor": 2
}
