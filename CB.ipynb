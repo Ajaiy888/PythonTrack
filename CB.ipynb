{
  "cells": [
    {
      "cell_type": "code",
      "execution_count": null,
      "metadata": {
        "colab": {
          "base_uri": "https://localhost:8080/"
        },
        "id": "yf7cq1ltZOdL",
        "outputId": "219f221c-a0c7-4203-ee63-7f9768ed874c"
      },
      "outputs": [
        {
          "name": "stdout",
          "output_type": "stream",
          "text": [
            "answer calcuate sale sum\n"
          ]
        }
      ],
      "source": [
        "#  Write a Python program that returns a string sorted alphabetically by the first character of a given string of words.\n",
        "# Sample Data:\n",
        "# (\"Red Green Black White Pink\") -> \"Black Green Pink Red White\"\n",
        "\n",
        "#originalData = \"Red Green Black White Pink\"\n",
        "\n",
        "'''originalData = \"sum sale calcuate answer\"   # answer calculate sum sale\n",
        "s = originalData.split()\n",
        "data = sorted(s)\n",
        "string = \" \".join(data)\n",
        "print(string)'''\n",
        "\n",
        "\n",
        "input_data = \"sum sale answer calculate\"\n",
        "words = input_data.split()   #list\n",
        "#words.sort(key)\n",
        "sorted_words = sorted(words, key=lambda word: word[0])\n",
        "result = ' '.join(sorted_words)\n",
        "print(result)\n",
        "\n"
      ]
    },
    {
      "cell_type": "code",
      "execution_count": null,
      "metadata": {
        "id": "jvf0Nq9sMlIc"
      },
      "outputs": [],
      "source": [
        "\n"
      ]
    },
    {
      "cell_type": "code",
      "execution_count": null,
      "metadata": {
        "id": "KW2dXm1vctgu"
      },
      "outputs": [],
      "source": []
    },
    {
      "cell_type": "code",
      "execution_count": null,
      "metadata": {
        "colab": {
          "base_uri": "https://localhost:8080/"
        },
        "id": "PKqMQvSuZTyR",
        "outputId": "72245346-ba3a-4edf-c910-d85f3a0134a7"
      },
      "outputs": [
        {
          "name": "stdout",
          "output_type": "stream",
          "text": [
            "16 25 20 8 15 14\n",
            "10 1 22 1\n",
            "16 25 20 8 15 14 20 21 20 15 18 9 1 12\n"
          ]
        }
      ],
      "source": [
        "# Write a Python program that takes a string and replaces all the characters with their respective numbers.\n",
        "# Sample Data: ord\n",
        "# (\"Python\") -> \"16 25 20 8 15 14\"\n",
        "# (\"Java\") -> \"10 1 22 1\"\n",
        "# (\"Python Tutorial\") -> \"16 25 20 8\n",
        "def Number(letter):\n",
        "\n",
        "    return' '.join(str(ord(i)-96) for i in letter.lower() if i.isalpha())   #(expression(ord(i)-96) for i in letter.lower() if i.isalpha()))\n",
        "word = \"python\"\n",
        "print(Number(word))\n",
        "word = \"Java\"\n",
        "print(Number(word))\n",
        "word = \"Python Tutorial\"\n",
        "print(Number(word))\n",
        "\n"
      ]
    },
    {
      "cell_type": "code",
      "execution_count": null,
      "metadata": {
        "id": "NFW-TViuZVV-"
      },
      "outputs": [],
      "source": [
        "# WAP to convert list of celcius value to farenhite\n",
        "C =[39.4 , 36.7 , 38 , 37.8 ]\n",
        "F = list(map(lambda x : (x,float(9)/5*x +32) , C))"
      ]
    },
    {
      "cell_type": "code",
      "execution_count": null,
      "metadata": {
        "colab": {
          "base_uri": "https://localhost:8080/"
        },
        "id": "YvNWSviVTrhS",
        "outputId": "bdfeb0ac-8f3f-4668-ca5f-4800b4ff05f3"
      },
      "outputs": [
        {
          "data": {
            "text/plain": [
              "[(39.4, 102.92), (36.7, 98.06), (38, 100.4), (37.8, 100.03999999999999)]"
            ]
          },
          "execution_count": 20,
          "metadata": {},
          "output_type": "execute_result"
        }
      ],
      "source": [
        "F"
      ]
    },
    {
      "cell_type": "code",
      "execution_count": null,
      "metadata": {
        "colab": {
          "base_uri": "https://localhost:8080/"
        },
        "id": "eBEkj6JDTxxR",
        "outputId": "7e0b3961-0723-4fcc-9e0a-b10e65f2c7b7"
      },
      "outputs": [
        {
          "name": "stdout",
          "output_type": "stream",
          "text": [
            "[-5, -4, -3, -2, -1]\n"
          ]
        }
      ],
      "source": [
        "number_list = range(-5,5)\n",
        "less_than_zero = list(filter(lambda x:x<0,number_list))\n",
        "print(less_than_zero)"
      ]
    },
    {
      "cell_type": "code",
      "execution_count": null,
      "metadata": {
        "colab": {
          "base_uri": "https://localhost:8080/"
        },
        "id": "paHIsbYNUFuH",
        "outputId": "d6ec75d4-1a21-478a-9087-c46555f398fa"
      },
      "outputs": [
        {
          "name": "stdout",
          "output_type": "stream",
          "text": [
            "151.89999999999998\n"
          ]
        }
      ],
      "source": [
        "from functools import reduce\n",
        "sum = reduce(lambda x,y : x+y , C)\n",
        "print(sum)"
      ]
    },
    {
      "cell_type": "markdown",
      "metadata": {
        "id": "X9dPBAz1V6fv"
      },
      "source": [
        "[(python,1), (learning,1) , (python ,1)]  --> reduce to [(python , 2) , ....]"
      ]
    },
    {
      "cell_type": "code",
      "execution_count": null,
      "metadata": {
        "colab": {
          "base_uri": "https://localhost:8080/"
        },
        "id": "LoSLQeJJV_sk",
        "outputId": "bf51457e-035d-4528-88f1-b6a1312d16ae"
      },
      "outputs": [
        {
          "name": "stdout",
          "output_type": "stream",
          "text": [
            "{'sandy': 1, 'is': 1, 'very': 1, 'good': 2, 'boy': 2}\n"
          ]
        }
      ],
      "source": [
        "# Word Count\n",
        "line = \" sandy is very good boy good boy\"\n",
        "splited_line = line.split()\n",
        "newline ={}\n",
        "for word in splited_line:\n",
        "    if word in newline:\n",
        "        newline[word] += 1\n",
        "    else:\n",
        "        newline[word] = 1\n",
        "print(newline)"
      ]
    },
    {
      "cell_type": "code",
      "execution_count": null,
      "metadata": {
        "colab": {
          "base_uri": "https://localhost:8080/"
        },
        "id": "3tL1yw00RtzM",
        "outputId": "e6cb706d-2b71-48b2-c6b1-761d5fbb253f"
      },
      "outputs": [
        {
          "name": "stdout",
          "output_type": "stream",
          "text": [
            "Enter the stinglearning python learning\n",
            "{'learning': 2, 'python': 1}\n",
            "learning :  2\n",
            "python :  1\n"
          ]
        }
      ],
      "source": [
        "word={}\n",
        "s=input(\"Enter the sting\")\n",
        "l = s.split();\n",
        "for w in l:\n",
        "  word[w] = word.get(w,0)+1\n",
        "print(word)\n",
        "print(\"\\n\".join(['%s :  %s' %(k,v) for k,v in word.items()]))"
      ]
    },
    {
      "cell_type": "code",
      "execution_count": null,
      "metadata": {
        "colab": {
          "base_uri": "https://localhost:8080/"
        },
        "id": "NgTTDyB5TdMU",
        "outputId": "9317fac9-4eed-473b-9890-9b432b6a1b2d"
      },
      "outputs": [
        {
          "name": "stdout",
          "output_type": "stream",
          "text": [
            "Enter the stingl p l\n",
            "[('l', 1), ('p', 1), ('l', 1)]\n",
            "{'l': 2, 'p': 1}\n"
          ]
        }
      ],
      "source": [
        "s=input(\"Enter the sting\")\n",
        "'''l = s.split();\n",
        "map_list = list(map(lambda word :(word,1),l))'''   # lambda\n",
        "map_list= [(word,1) for word in s.split()]    # list comprehension\n",
        "print(map_list)\n",
        "from functools import reduce\n",
        "#word is dictionary , # update the dictionary\n",
        "result = reduce(lambda word , value :{**word ,value[0]:word.get(value[0],0)+value[1] } , map_list , {})\n",
        "print(result)"
      ]
    },
    {
      "cell_type": "markdown",
      "metadata": {
        "id": "uf5BFi13WcnK"
      },
      "source": [
        "List Comprehension : faster as compare to normal function                     \n",
        "new_list = [expression for member in iterable if condition ]"
      ]
    },
    {
      "cell_type": "code",
      "execution_count": null,
      "metadata": {
        "colab": {
          "base_uri": "https://localhost:8080/"
        },
        "id": "v0oM3_fXW-mj",
        "outputId": "805c1be4-572f-4bab-a35f-3a7251fdfbb5"
      },
      "outputs": [
        {
          "name": "stdout",
          "output_type": "stream",
          "text": [
            "[0, 1, 4, 9, 16, 25, 36, 49, 64, 81]\n"
          ]
        }
      ],
      "source": [
        "squares = []\n",
        "for i in range(10):\n",
        "  squares.append(i*i)\n",
        "\n",
        "print(squares)"
      ]
    },
    {
      "cell_type": "code",
      "execution_count": null,
      "metadata": {
        "colab": {
          "base_uri": "https://localhost:8080/"
        },
        "id": "ParoI7lGWI-L",
        "outputId": "993b8234-d3f1-4e80-9715-e4fcb5570842"
      },
      "outputs": [
        {
          "name": "stdout",
          "output_type": "stream",
          "text": [
            "[1, 4, 9, 16, 25, 36, 49, 64, 81, 100]\n"
          ]
        }
      ],
      "source": [
        "# List Comprehension\n",
        "squares =[i*i for i in range(1,11)]\n",
        "print(squares)\n"
      ]
    },
    {
      "cell_type": "code",
      "execution_count": null,
      "metadata": {
        "colab": {
          "base_uri": "https://localhost:8080/"
        },
        "id": "TNSDJwuIX-NS",
        "outputId": "6bd4f09d-daa5-475e-830a-d76f983f3d01"
      },
      "outputs": [
        {
          "name": "stdout",
          "output_type": "stream",
          "text": [
            "['a', 'e', 'a', 'i', 'o']\n"
          ]
        }
      ],
      "source": [
        "sentence = \" ria_pandya. \"\n",
        "v=['@']\n",
        "# find the vowels out of this sentence\n",
        "#vowels = [i for i in sentence if i in v]\n",
        "vowels = [i for i in sentence if i in '@']\n",
        "print(vowels)\n",
        "\n"
      ]
    },
    {
      "cell_type": "code",
      "execution_count": null,
      "metadata": {
        "colab": {
          "base_uri": "https://localhost:8080/"
        },
        "id": "l2gbPQabYxSU",
        "outputId": "ca0e5c3b-b8ee-4487-d184-632ffbd4ee44"
      },
      "outputs": [
        {
          "name": "stdout",
          "output_type": "stream",
          "text": [
            "[12, 0, 343, 41, 0, 34, 0]\n"
          ]
        }
      ],
      "source": [
        "num_list = [12,-23,343,41 , -1,34,-23]\n",
        "# all the negative will be 0 asn positive will be as it is o/p [ 12,0,343,41 ,0,34,0]\n",
        "positive_list=[0 if i<0 else i for i in num_list]\n",
        "print(positive_list)"
      ]
    },
    {
      "cell_type": "code",
      "execution_count": null,
      "metadata": {
        "colab": {
          "base_uri": "https://localhost:8080/"
        },
        "id": "N1XHSNGRaIdF",
        "outputId": "dc723d7a-8625-469b-a913-981c6e86bfa4"
      },
      "outputs": [
        {
          "name": "stdout",
          "output_type": "stream",
          "text": [
            "PythonExercises\n",
            " Python Exercises\n",
            "Python\n"
          ]
        }
      ],
      "source": [
        "# Write a Python program to insert space before every capital letter appears in a given word.\n",
        "# Sample Data:\n",
        "# (\"PythonExercises\") -> \"Python Exercises\"\n",
        "# (\"Python\") -> \"Python\"\n",
        "# (\"PythonExercisesPracticeSolution\") -> \"Python Exercises Practice Solution\"\n",
        "def Capital (letters):\n",
        "    result = \"\"\n",
        "    for i in letters:\n",
        "        if i.isupper():\n",
        "           result = result + \" \" + i.upper()\n",
        "        else:\n",
        "           result = result + i\n",
        "    return result[0:]\n",
        "letters = \"PythonExercises\"\n",
        "print(letters)\n",
        "print(Capital(letters))\n",
        "letters = \"Python\"\n",
        "print(letters)\n",
        "\n",
        "\n",
        "\n",
        "\n"
      ]
    },
    {
      "cell_type": "code",
      "execution_count": null,
      "metadata": {
        "colab": {
          "base_uri": "https://localhost:8080/"
        },
        "id": "nhvBFqdWakqd",
        "outputId": "776615f6-ced2-4495-e424-37f11470c5d2"
      },
      "outputs": [
        {
          "name": "stdout",
          "output_type": "stream",
          "text": [
            "Red Gren White\n",
            "abcdef\n",
            "Yelowodor\n"
          ]
        }
      ],
      "source": [
        "# Write a Python program to remove repeated consecutive characters and replace them with single letters and print a updated string.\n",
        "# Sample Data:\n",
        "# (\"Red Green White\") -> \"Red Gren White\"\n",
        "# (\"aabbbcdeffff\") -> \"abcdef\"\n",
        "# (\"Yellowwooddoor\") -> \"Yelowodor\"\n",
        "\n",
        "def remove_repeated_characters(s):\n",
        "    result = \"\"\n",
        "    for i in range(len(s)):\n",
        "        if i == 0:\n",
        "            result += s[i]\n",
        "        elif s[i] != s[i - 1]:\n",
        "            result += s[i]\n",
        "\n",
        "    return result\n",
        "print(remove_repeated_characters(\"Red Green White\"))\n",
        "print(remove_repeated_characters(\"aabbbcdeffff\"))\n",
        "print(remove_repeated_characters(\"Yellowwooddoor\"))"
      ]
    },
    {
      "cell_type": "code",
      "execution_count": null,
      "metadata": {
        "colab": {
          "base_uri": "https://localhost:8080/"
        },
        "id": "xt9Ri9uxan1B",
        "outputId": "59fd2e7e-f07c-4698-bc26-2f20b262614c"
      },
      "outputs": [
        {
          "name": "stdout",
          "output_type": "stream",
          "text": [
            "##### the ######### ####### in the said list of ######\n",
            "###### - ###### ############ from a #######\n"
          ]
        }
      ],
      "source": [
        "# Write a Python program to replace each character of a word of length five and more with a hash character (#).\n",
        "# Sample Output:\n",
        "# Original string: Count the lowercase letters in the said list of words:\n",
        "# Replace words (length five or more) with hash characters in the said string:\n",
        "# ##### the ######### ####### in the said list of ######\n",
        "# Original string: Python - Remove punctuations from a string:\n",
        "# Replace words (length five or more) with hash characters in the said string:\n",
        "# ###### - ###### ############ from a #######\n",
        "\n",
        "def replace_long_words_with_hash(s):\n",
        "    return ' '.join('#' * len(word) if len(word) >= 5 else word for word in s.split())\n",
        "\n",
        "input_string1 = \"Count the lowercase letters in the said list of words:\"\n",
        "input_string2 = \"Python - Remove punctuations from a string:\"\n",
        "\n",
        "print(replace_long_words_with_hash(input_string1))\n",
        "print(replace_long_words_with_hash(input_string2))"
      ]
    },
    {
      "cell_type": "code",
      "execution_count": null,
      "metadata": {
        "colab": {
          "base_uri": "https://localhost:8080/",
          "height": 35
        },
        "id": "jMMp1MdnbLxK",
        "outputId": "eac49a6e-40fd-49eb-f6f2-0b15c4508b63"
      },
      "outputs": [
        {
          "data": {
            "application/vnd.google.colaboratory.intrinsic+json": {
              "type": "string"
            },
            "text/plain": [
              "'!\"#$%&\\'()*+,-./:;<=>?@[\\\\]^_`{|}~'"
            ]
          },
          "execution_count": 18,
          "metadata": {},
          "output_type": "execute_result"
        }
      ],
      "source": [
        "import string\n",
        "string.punctuation"
      ]
    },
    {
      "cell_type": "code",
      "execution_count": null,
      "metadata": {
        "id": "0agOBZIwy6ok"
      },
      "outputs": [],
      "source": []
    },
    {
      "cell_type": "code",
      "execution_count": null,
      "metadata": {
        "id": "jlGv1ngkbTgA"
      },
      "outputs": [],
      "source": [
        "# mail id fetch the name only\n",
        "mail_id = \"ria_pandya@gmail.com\""
      ]
    },
    {
      "cell_type": "code",
      "execution_count": null,
      "metadata": {
        "colab": {
          "base_uri": "https://localhost:8080/"
        },
        "id": "q6d_0lurbkSb",
        "outputId": "9f60fea5-f6cd-4647-bbc3-572017c53b32"
      },
      "outputs": [
        {
          "name": "stdout",
          "output_type": "stream",
          "text": [
            "[2, 4, 6, 8, 10]\n"
          ]
        }
      ],
      "source": [
        "# list of even numbers\n",
        "l_num = range(1,11)\n",
        "even_num = [i for i in l_num if i%2==0]\n",
        "print(even_num)"
      ]
    },
    {
      "cell_type": "code",
      "execution_count": null,
      "metadata": {
        "colab": {
          "base_uri": "https://localhost:8080/"
        },
        "id": "KDydgdaYb8or",
        "outputId": "d7610aab-5963-4fe9-c853-2a4e53e0a871"
      },
      "outputs": [
        {
          "name": "stdout",
          "output_type": "stream",
          "text": [
            "[1, 0, 3, 0, 5, 0, 7, 0, 9, 0]\n"
          ]
        }
      ],
      "source": [
        "# list of odd numbers , but even to be 0\n",
        "even_odd = [0 if i%2==0 else i for i in l_num]\n",
        "print(even_odd)"
      ]
    },
    {
      "cell_type": "code",
      "execution_count": null,
      "metadata": {
        "colab": {
          "base_uri": "https://localhost:8080/"
        },
        "id": "26Ee-fhwcRLj",
        "outputId": "9d8b5530-67be-4f9c-d463-ef0a8396bb5e"
      },
      "outputs": [
        {
          "name": "stdout",
          "output_type": "stream",
          "text": [
            "[1, 0, 3, 0, 5, 0, 7, 0, 9, 0]\n"
          ]
        }
      ],
      "source": [
        "even_odd = [i if i%2!=0 else 0 for i in l_num]\n",
        "print(even_odd)"
      ]
    },
    {
      "cell_type": "code",
      "execution_count": null,
      "metadata": {
        "colab": {
          "base_uri": "https://localhost:8080/"
        },
        "id": "MHvHo-oncd_g",
        "outputId": "ec99c74a-db95-42a1-9730-969b7e213bff"
      },
      "outputs": [
        {
          "name": "stdout",
          "output_type": "stream",
          "text": [
            "{39.4: 0.0, 36.7: 0.0, 38: 0.0, 37.8: 0.0}\n"
          ]
        }
      ],
      "source": [
        "# for every celcius value i generate 0 value\n",
        "map_c =  dict(map(lambda x :(x,float(0)) , C))\n",
        "print(map_c)"
      ]
    },
    {
      "cell_type": "code",
      "execution_count": null,
      "metadata": {
        "colab": {
          "base_uri": "https://localhost:8080/"
        },
        "id": "A1ZM8ii8drRx",
        "outputId": "69345819-6b86-4e79-9cf8-675d6c5cd729"
      },
      "outputs": [
        {
          "name": "stdout",
          "output_type": "stream",
          "text": [
            "{39.4: 102.92, 36.7: 98.06, 38: 100.4, 37.8: 100.03999999999999}\n"
          ]
        }
      ],
      "source": [
        "#{ expression for member in iterable }\n",
        "F = {k: float(9)/5*k +32 for k,v in map_c.items()}\n",
        "print(F)"
      ]
    },
    {
      "cell_type": "code",
      "execution_count": null,
      "metadata": {
        "colab": {
          "base_uri": "https://localhost:8080/"
        },
        "id": "rwfdV1qPecuN",
        "outputId": "3edfacda-3d74-40f7-cd04-be0bac04caa4"
      },
      "outputs": [
        {
          "name": "stdout",
          "output_type": "stream",
          "text": [
            "{'a': 4, 'b': 36, 'c': 9}\n"
          ]
        }
      ],
      "source": [
        "dict_1 = {'a': 2 , 'b': 6 , 'c': 3}\n",
        "# o/p every value need to square\n",
        "dict_square = {k:v**2 for k,v in dict_1.items()}\n",
        "print(dict_square)"
      ]
    },
    {
      "cell_type": "code",
      "execution_count": null,
      "metadata": {
        "id": "capvIYivftzB"
      },
      "outputs": [],
      "source": [
        "#  find those key and value whuch are even"
      ]
    },
    {
      "cell_type": "code",
      "execution_count": null,
      "metadata": {
        "colab": {
          "base_uri": "https://localhost:8080/",
          "height": 158
        },
        "id": "cWq8M_kOgDQP",
        "outputId": "e6d5bd80-98c6-48a1-abda-9e622a53f54e"
      },
      "outputs": [
        {
          "ename": "TypeError",
          "evalue": "set.add() takes exactly one argument (2 given)",
          "output_type": "error",
          "traceback": [
            "\u001b[0;31m---------------------------------------------------------------------------\u001b[0m",
            "\u001b[0;31mTypeError\u001b[0m                                 Traceback (most recent call last)",
            "\u001b[0;32m<ipython-input-27-1db3c183177d>\u001b[0m in \u001b[0;36m<cell line: 2>\u001b[0;34m()\u001b[0m\n\u001b[1;32m      1\u001b[0m \u001b[0ms\u001b[0m\u001b[0;34m=\u001b[0m\u001b[0;34m{\u001b[0m\u001b[0;36m1\u001b[0m\u001b[0;34m,\u001b[0m\u001b[0;36m2\u001b[0m\u001b[0;34m,\u001b[0m\u001b[0;36m3\u001b[0m\u001b[0;34m}\u001b[0m\u001b[0;34m\u001b[0m\u001b[0;34m\u001b[0m\u001b[0m\n\u001b[0;32m----> 2\u001b[0;31m \u001b[0ms\u001b[0m\u001b[0;34m.\u001b[0m\u001b[0madd\u001b[0m\u001b[0;34m(\u001b[0m\u001b[0;36m4\u001b[0m\u001b[0;34m,\u001b[0m\u001b[0;36m5\u001b[0m\u001b[0;34m)\u001b[0m\u001b[0;34m\u001b[0m\u001b[0;34m\u001b[0m\u001b[0m\n\u001b[0m",
            "\u001b[0;31mTypeError\u001b[0m: set.add() takes exactly one argument (2 given)"
          ]
        }
      ],
      "source": [
        "s={1,2,3}\n",
        "s.add(4,5) # error"
      ]
    },
    {
      "cell_type": "code",
      "execution_count": null,
      "metadata": {
        "colab": {
          "base_uri": "https://localhost:8080/"
        },
        "id": "ZRUAq2BmgSTn",
        "outputId": "94c616de-cf81-4cb3-cf6d-a23559818304"
      },
      "outputs": [
        {
          "name": "stdout",
          "output_type": "stream",
          "text": [
            "{1, 2, 3, 4, 5}\n"
          ]
        }
      ],
      "source": [
        "s.update([4,5])\n",
        "print(s)"
      ]
    },
    {
      "cell_type": "code",
      "execution_count": null,
      "metadata": {
        "colab": {
          "base_uri": "https://localhost:8080/"
        },
        "id": "eKRSc3kJgh4M",
        "outputId": "de91bddd-5fa8-459f-abc3-b0be6dd8b4f3"
      },
      "outputs": [
        {
          "name": "stdout",
          "output_type": "stream",
          "text": [
            "{1, 2, 3, 4, 5, 6, 7}\n"
          ]
        }
      ],
      "source": [
        "s.update({6,7})\n",
        "print(s)"
      ]
    },
    {
      "cell_type": "code",
      "execution_count": null,
      "metadata": {
        "colab": {
          "base_uri": "https://localhost:8080/"
        },
        "id": "gzpxGNK9gqOR",
        "outputId": "adcaa65b-461e-48af-e3ab-51b618a67910"
      },
      "outputs": [
        {
          "name": "stdout",
          "output_type": "stream",
          "text": [
            "{1, 2, 3, 5, 6, 7}\n"
          ]
        }
      ],
      "source": [
        "s.discard(4)\n",
        "print(s)"
      ]
    },
    {
      "cell_type": "code",
      "execution_count": null,
      "metadata": {
        "colab": {
          "base_uri": "https://localhost:8080/"
        },
        "id": "RHDJ2Ohmgtbu",
        "outputId": "7ec33bf5-a43a-46e3-edec-06411f03e28e"
      },
      "outputs": [
        {
          "name": "stdout",
          "output_type": "stream",
          "text": [
            "[1, 100, 200, 300, 400, 6, 7, 8, 9, 10]\n"
          ]
        }
      ],
      "source": [
        "lst = list(range(1,11))\n",
        "lst[1:5] = [100,200,300,400]\n",
        "print(lst)"
      ]
    },
    {
      "cell_type": "code",
      "execution_count": null,
      "metadata": {
        "colab": {
          "base_uri": "https://localhost:8080/"
        },
        "id": "7fNdxAkEhUEY",
        "outputId": "0db2abb0-bada-4cb4-bb61-173f148e4a61"
      },
      "outputs": [
        {
          "name": "stdout",
          "output_type": "stream",
          "text": [
            "[1, 100, 200, 6, 7, 8, 9, 10]\n"
          ]
        }
      ],
      "source": [
        "lst = list(range(1,11))\n",
        "lst[1:5] = [100,200]   # loss of element\n",
        "print(lst)"
      ]
    },
    {
      "cell_type": "code",
      "execution_count": null,
      "metadata": {
        "colab": {
          "base_uri": "https://localhost:8080/"
        },
        "id": "5eFebC-_hafa",
        "outputId": "fe78a6b2-58a6-44fd-c5e9-61ae3157ddb3"
      },
      "outputs": [
        {
          "name": "stdout",
          "output_type": "stream",
          "text": [
            "[1, 2, 100, 200, 300, 400, 3, 4, 5, 6, 7, 8, 9, 10]\n"
          ]
        }
      ],
      "source": [
        "st = list(range(1,11))\n",
        "st[2:2] = [100,200,300,400]  # insertion\n",
        "print(st) # like index methos"
      ]
    },
    {
      "cell_type": "code",
      "execution_count": null,
      "metadata": {
        "colab": {
          "base_uri": "https://localhost:8080/"
        },
        "id": "aBhLeq_WhrJr",
        "outputId": "e874d63a-5af0-4ba0-d341-04ec602e19ce"
      },
      "outputs": [
        {
          "name": "stdout",
          "output_type": "stream",
          "text": [
            "[1, 2, 100, 200, 300, 400, 4, 5, 6, 7, 8, 9, 10]\n"
          ]
        }
      ],
      "source": [
        "st = list(range(1,11))\n",
        "st[2:3] = [100,200,300,400]  # insertion\n",
        "print(st) # like index methos"
      ]
    },
    {
      "cell_type": "code",
      "execution_count": null,
      "metadata": {
        "id": "E0wnMxpyiAYy"
      },
      "outputs": [],
      "source": [
        "# Class  # Employee class : add the multiple employees in dictionary\n",
        "'''dictemp ={'empids':[],'names':[],'designations':[],'emails':[],'salarys':[]}\n",
        "num = int(input())  # 3\n",
        "for i in range(num):\n",
        "\tstore the variable into dic  '''\n"
      ]
    },
    {
      "cell_type": "code",
      "execution_count": null,
      "metadata": {
        "colab": {
          "base_uri": "https://localhost:8080/",
          "height": 332
        },
        "id": "HRgJp8uBdChU",
        "outputId": "e5a83726-0a40-4fba-e684-43e01380ac53"
      },
      "outputs": [
        {
          "ename": "IndexError",
          "evalue": "list index out of range",
          "output_type": "error",
          "traceback": [
            "\u001b[0;31m---------------------------------------------------------------------------\u001b[0m",
            "\u001b[0;31mIndexError\u001b[0m                                Traceback (most recent call last)",
            "\u001b[0;32m<ipython-input-4-c0cc2165537d>\u001b[0m in \u001b[0;36m<cell line: 5>\u001b[0;34m()\u001b[0m\n\u001b[1;32m      3\u001b[0m \u001b[0;31m#li = [x for (i,x) in enumerate(li) if i not in (0,4,5)]\u001b[0m\u001b[0;34m\u001b[0m\u001b[0;34m\u001b[0m\u001b[0m\n\u001b[1;32m      4\u001b[0m \u001b[0;31m#l1=[li[i] for i in range(len(li)) if i not in (0,4,5)]\u001b[0m\u001b[0;34m\u001b[0m\u001b[0;34m\u001b[0m\u001b[0m\n\u001b[0;32m----> 5\u001b[0;31m \u001b[0mli\u001b[0m \u001b[0;34m=\u001b[0m \u001b[0;34m[\u001b[0m\u001b[0mli\u001b[0m\u001b[0;34m[\u001b[0m\u001b[0mi\u001b[0m\u001b[0;34m]\u001b[0m \u001b[0;32mfor\u001b[0m \u001b[0mi\u001b[0m \u001b[0;32min\u001b[0m \u001b[0mli\u001b[0m \u001b[0;32mif\u001b[0m \u001b[0mi\u001b[0m \u001b[0;32mnot\u001b[0m \u001b[0;32min\u001b[0m \u001b[0;34m(\u001b[0m\u001b[0mli\u001b[0m\u001b[0;34m[\u001b[0m\u001b[0;36m0\u001b[0m\u001b[0;34m]\u001b[0m \u001b[0;34m,\u001b[0m \u001b[0mli\u001b[0m\u001b[0;34m[\u001b[0m\u001b[0;36m4\u001b[0m\u001b[0;34m]\u001b[0m \u001b[0;34m,\u001b[0m \u001b[0mli\u001b[0m\u001b[0;34m[\u001b[0m\u001b[0;36m5\u001b[0m\u001b[0;34m]\u001b[0m\u001b[0;34m)\u001b[0m\u001b[0;34m]\u001b[0m\u001b[0;34m\u001b[0m\u001b[0;34m\u001b[0m\u001b[0m\n\u001b[0m\u001b[1;32m      6\u001b[0m \u001b[0;31m#li=[i for i in li if i not in (li[0] , li[4] , li[5])]\u001b[0m\u001b[0;34m\u001b[0m\u001b[0;34m\u001b[0m\u001b[0m\n\u001b[1;32m      7\u001b[0m \u001b[0mprint\u001b[0m\u001b[0;34m(\u001b[0m\u001b[0mli\u001b[0m\u001b[0;34m)\u001b[0m\u001b[0;34m\u001b[0m\u001b[0;34m\u001b[0m\u001b[0m\n",
            "\u001b[0;32m<ipython-input-4-c0cc2165537d>\u001b[0m in \u001b[0;36m<listcomp>\u001b[0;34m(.0)\u001b[0m\n\u001b[1;32m      3\u001b[0m \u001b[0;31m#li = [x for (i,x) in enumerate(li) if i not in (0,4,5)]\u001b[0m\u001b[0;34m\u001b[0m\u001b[0;34m\u001b[0m\u001b[0m\n\u001b[1;32m      4\u001b[0m \u001b[0;31m#l1=[li[i] for i in range(len(li)) if i not in (0,4,5)]\u001b[0m\u001b[0;34m\u001b[0m\u001b[0;34m\u001b[0m\u001b[0m\n\u001b[0;32m----> 5\u001b[0;31m \u001b[0mli\u001b[0m \u001b[0;34m=\u001b[0m \u001b[0;34m[\u001b[0m\u001b[0mli\u001b[0m\u001b[0;34m[\u001b[0m\u001b[0mi\u001b[0m\u001b[0;34m]\u001b[0m \u001b[0;32mfor\u001b[0m \u001b[0mi\u001b[0m \u001b[0;32min\u001b[0m \u001b[0mli\u001b[0m \u001b[0;32mif\u001b[0m \u001b[0mi\u001b[0m \u001b[0;32mnot\u001b[0m \u001b[0;32min\u001b[0m \u001b[0;34m(\u001b[0m\u001b[0mli\u001b[0m\u001b[0;34m[\u001b[0m\u001b[0;36m0\u001b[0m\u001b[0;34m]\u001b[0m \u001b[0;34m,\u001b[0m \u001b[0mli\u001b[0m\u001b[0;34m[\u001b[0m\u001b[0;36m4\u001b[0m\u001b[0;34m]\u001b[0m \u001b[0;34m,\u001b[0m \u001b[0mli\u001b[0m\u001b[0;34m[\u001b[0m\u001b[0;36m5\u001b[0m\u001b[0;34m]\u001b[0m\u001b[0;34m)\u001b[0m\u001b[0;34m]\u001b[0m\u001b[0;34m\u001b[0m\u001b[0;34m\u001b[0m\u001b[0m\n\u001b[0m\u001b[1;32m      6\u001b[0m \u001b[0;31m#li=[i for i in li if i not in (li[0] , li[4] , li[5])]\u001b[0m\u001b[0;34m\u001b[0m\u001b[0;34m\u001b[0m\u001b[0m\n\u001b[1;32m      7\u001b[0m \u001b[0mprint\u001b[0m\u001b[0;34m(\u001b[0m\u001b[0mli\u001b[0m\u001b[0;34m)\u001b[0m\u001b[0;34m\u001b[0m\u001b[0;34m\u001b[0m\u001b[0m\n",
            "\u001b[0;31mIndexError\u001b[0m: list index out of range"
          ]
        }
      ],
      "source": [
        "# print the list after removing the 0th,4th,5th numbers in list using list comprehaension\n",
        "li = [12,24,35,70,88,120,155]\n",
        "#li = [x for (i,x) in enumerate(li) if i not in (0,4,5)]\n",
        "#l1=[li[i] for i in range(len(li)) if i not in (0,4,5)]\n",
        "li = [li[i] for i in li if i not in (li[0] , li[4] , li[5])]\n",
        "#li=[i for i in li if i not in (li[0] , li[4] , li[5])]\n",
        "print(li)"
      ]
    },
    {
      "cell_type": "code",
      "execution_count": null,
      "metadata": {
        "colab": {
          "base_uri": "https://localhost:8080/"
        },
        "id": "qJPFVRn3dIn6",
        "outputId": "0372f91a-48c8-4693-ab98-7a828255dbb3"
      },
      "outputs": [
        {
          "name": "stdout",
          "output_type": "stream",
          "text": [
            "[1, 2, 3, 4, 23, 24, 31, 36, 39, 41, 48]\n",
            "[1, 2, 3, 4, 6, 8, 9, 11, 12, 13, 16, 17, 18, 19, 22, 23, 24, 26, 27, 29, 31, 32, 33, 34, 36, 37, 38, 39, 41, 43, 44, 46, 47, 48]\n",
            "[1, 2, 3, 4, 6, 8, 9, 11, 12, 13, 16, 17, 18, 19, 22, 23, 24, 26, 27, 29, 31, 32, 33, 34, 36, 37, 38, 39, 41, 43, 44, 46, 47, 48]\n",
            "[1, 2, 3, 4, 6, 8, 9, 11, 12, 13, 16, 17, 18, 19, 22, 23, 24, 26, 27, 29, 31, 32, 33, 34, 36, 37, 38, 39, 41, 43, 44, 46, 47, 48]\n"
          ]
        }
      ],
      "source": [
        "#a program to print the list after removing delete numbers which are divisible by 5 and 7 in list\n",
        "l=[1,2,3,4,5,21,25,23,24,31,25,36,39,41,45,48,49,50]\n",
        "l =[i for i in l if i % 5 != 0 and i % 7 != 0 ]\n",
        "print(l)\n",
        "\n",
        "\n",
        "l1 = [i for i in range(1,50) if i % 5 != 0 and i % 7 != 0 ]\n",
        "print(l1)\n",
        "\n",
        "r_list = range(1,50)\n",
        "remove_divideby_5_7 = list(filter(lambda x: x % 5 != 0 and x % 7 != 0,r_list))\n",
        "print(remove_divideby_5_7)\n",
        "\n",
        "s = []\n",
        "for i in range(50):\n",
        "  if i % 5 != 0 and i % 7 != 0:\n",
        "    s.append(i)\n",
        "\n",
        "print(s)"
      ]
    },
    {
      "cell_type": "code",
      "execution_count": null,
      "metadata": {
        "colab": {
          "base_uri": "https://localhost:8080/"
        },
        "id": "i-BARQhndMdh",
        "outputId": "874af384-b69b-49aa-8b70-0566bdbaf2fc"
      },
      "outputs": [
        {
          "name": "stdout",
          "output_type": "stream",
          "text": [
            "Original String:\n",
            "Python Exercises Practice Solution Exercises\n",
            "After removing duplicate words from the said string:\n",
            "Python Exercises Practice Solution\n"
          ]
        }
      ],
      "source": [
        "# 7. Write a Python program to remove duplicate words from a given string.\n",
        "# Sample Output:\n",
        "# Original String:\n",
        "# Python Exercises Practice Solution Exercises\n",
        "# After removing duplicate words from the said string:\n",
        "# Python Exercises Practice Solution\n",
        "\n",
        "input_string = \"Python Exercises Practice Solution Exercises\"\n",
        "words = input_string.split()\n",
        "unique_words = []\n",
        "for word in words:\n",
        "    if word not in unique_words:\n",
        "        unique_words.append(word)\n",
        "output_string = ' '.join(unique_words)\n",
        "\n",
        "print(\"Original String:\")\n",
        "print(input_string)\n",
        "print(\"After removing duplicate words from the said string:\")\n",
        "print(output_string)\n",
        "\n",
        "\n"
      ]
    },
    {
      "cell_type": "code",
      "execution_count": null,
      "metadata": {
        "id": "6ukagjHiddkg"
      },
      "outputs": [],
      "source": [
        "# 9. Write a Python program to capitalize the first and last letters of each word in a given string.\n",
        "#data = \"summer sales are different answer calculate \"\n",
        "data = input(\"Enter A String:\")\n",
        "l2 = data.split()\n",
        "print(l2)\n",
        "l2 = list(map(lambda x: x[0].upper()+ x[1:-1] + x[-1].upper()  ,l2))\n",
        "result = ' '.join(l2)\n",
        "print(result)\n"
      ]
    },
    {
      "cell_type": "code",
      "execution_count": null,
      "metadata": {
        "id": "OS48p8LseT0x"
      },
      "outputs": [],
      "source": []
    },
    {
      "cell_type": "code",
      "execution_count": null,
      "metadata": {
        "id": "r4Mh7hrQdg_Y"
      },
      "outputs": [],
      "source": [
        "# 10. Write a Python program to find the second most repeated word in a given string.\n",
        "data = \"summer is to hot in this summer beacause of hot we will get faint\"\n",
        "#data = input(\"Enter A String:\")\n",
        "#line = \" sandy is very good boy good boy\"\n",
        "s = data.split()\n",
        "n ={}\n",
        "for x in s:\n",
        "    if x in n:\n",
        "        n[x] += 1\n",
        "        print(x)\n",
        "    else:\n",
        "        n[x] = 1\n",
        "\n",
        "print(n)\n",
        "s_n = sorted(list(n.items()),key=lambda x: x[1], reverse=True)\n",
        "print(s_n)\n",
        "\n",
        "s_n[1][0]\n"
      ]
    },
    {
      "cell_type": "code",
      "execution_count": null,
      "metadata": {
        "id": "omRinFMGdkLn"
      },
      "outputs": [],
      "source": [
        "# 11. Write a Python program to lowercase the first n characters in a string."
      ]
    },
    {
      "cell_type": "code",
      "execution_count": null,
      "metadata": {
        "id": "wLN5J6JrWxz0"
      },
      "outputs": [],
      "source": [
        "class Test:\n",
        "  def __init__(self):\n",
        "    print(\"Constructor\")\n",
        "  def __del__(self):\n",
        "    print(\"Destructor\")\n"
      ]
    },
    {
      "cell_type": "code",
      "execution_count": null,
      "metadata": {
        "colab": {
          "base_uri": "https://localhost:8080/"
        },
        "id": "4fhzuHHSXFk1",
        "outputId": "8ffcf671-7f67-4043-a605-9b5e04d44d08"
      },
      "outputs": [
        {
          "name": "stdout",
          "output_type": "stream",
          "text": [
            "Constructor\n",
            "Destructor\n"
          ]
        }
      ],
      "source": [
        "if __name__==\"__main__\":\n",
        "  obj = Test()\n",
        "  del obj"
      ]
    },
    {
      "cell_type": "code",
      "execution_count": null,
      "metadata": {
        "id": "GtP60mQlXRba"
      },
      "outputs": [],
      "source": [
        "# Single Inheritance\n",
        "class Parent:\n",
        "  def __init__(self , name):\n",
        "    self.name = name\n",
        "    print(\"I am parent \" , name)\n",
        "  def parentMethod(self):\n",
        "    print(\"name is \" , self.name )\n",
        "class Child(Parent):\n",
        "  def __init__(self , age):\n",
        "    super().__init__(\"Ram\")\n",
        "    self.age=age\n",
        "    print(\"I am in child \" , age )\n",
        "  def childMethod(self):\n",
        "    print(\"Age is \",self.age)"
      ]
    },
    {
      "cell_type": "code",
      "execution_count": null,
      "metadata": {
        "colab": {
          "base_uri": "https://localhost:8080/"
        },
        "id": "rHBXcaXlZQdG",
        "outputId": "69b73818-4f89-416b-e2c3-f78b13353fa9"
      },
      "outputs": [
        {
          "name": "stdout",
          "output_type": "stream",
          "text": [
            "I am parent  Ram\n",
            "I am in child  12\n",
            "name is  Ram\n",
            "Age is  12\n"
          ]
        }
      ],
      "source": [
        "# create object of child class\n",
        "obj = Child(12)\n",
        "obj.parentMethod()\n",
        "obj.childMethod()"
      ]
    },
    {
      "cell_type": "code",
      "execution_count": null,
      "metadata": {
        "id": "HipN1p0yZVrc"
      },
      "outputs": [],
      "source": [
        "# Multilevel Inheritance\n",
        "class GrandParent:\n",
        "  def __init__(self, name):\n",
        "    self.g_name = name\n",
        "\n",
        "class Parent(GrandParent):\n",
        "  def __init__(self , p_name , g_name):\n",
        "    super().__init__(g_name)\n",
        "    self.p_name = p_name\n",
        "\n",
        "class Child(Parent):\n",
        "  def __init__( self, name , p_name , g_name):\n",
        "    super().__init__( p_name , g_name)\n",
        "    self.name = name\n",
        "\n",
        "  def printName(self):\n",
        "      print(\"Grand Parent name is \" , self.g_name)\n",
        "      print(\"Parent name is \" , self.p_name)\n",
        "      print(\"Child name is \" , self.name)"
      ]
    },
    {
      "cell_type": "code",
      "execution_count": null,
      "metadata": {
        "colab": {
          "base_uri": "https://localhost:8080/"
        },
        "id": "NvazE8JoeHJF",
        "outputId": "d0260373-319a-40c9-8ebf-c66f3e6c1f84"
      },
      "outputs": [
        {
          "name": "stdout",
          "output_type": "stream",
          "text": [
            "Grand Parent name is  GP\n",
            "Parent name is  Pa\n",
            "Child name is  c\n"
          ]
        }
      ],
      "source": [
        "obj = Child(\"c\" , \"Pa\" , \"GP\")\n",
        "obj.printName()"
      ]
    },
    {
      "cell_type": "code",
      "execution_count": null,
      "metadata": {
        "colab": {
          "base_uri": "https://localhost:8080/"
        },
        "id": "MIB8LVfneQLb",
        "outputId": "32e0bfaf-a573-4c7b-a924-893246983e73"
      },
      "outputs": [
        {
          "name": "stdout",
          "output_type": "stream",
          "text": [
            "Grand Parent \n",
            "Parent \n",
            "Child\n"
          ]
        }
      ],
      "source": [
        "class GP:\n",
        "  def gpMethod(self):\n",
        "    print(\"Grand Parent \")\n",
        "\n",
        "class P(GP):\n",
        "  def pMethod(self):\n",
        "    print(\"Parent \")\n",
        "\n",
        "class Child(P):\n",
        "  def cMethod(self):\n",
        "    print(\"Child\")\n",
        "\n",
        "obj = Child()\n",
        "obj.gpMethod()\n",
        "obj.pMethod()\n",
        "obj.cMethod()"
      ]
    },
    {
      "cell_type": "code",
      "execution_count": null,
      "metadata": {
        "id": "0BO4rdd4f-4k"
      },
      "outputs": [],
      "source": [
        "class Maternal:\n",
        "  m_name = ''\n",
        "  def mMethod(self,name):\n",
        "    self.m_name = name\n",
        "    print(\"Mother name is \" , self.m_name)\n",
        "\n",
        "class Paternal:\n",
        "  def pMethod(self , p_name):\n",
        "    self.p_name = p_name\n",
        "    print(\"Father is \" , self.p_name)\n",
        "\n",
        "class Child(Maternal , Paternal):\n",
        "  def cMethod(self):\n",
        "    print(\"Paretnal\" , self.p_name , \" Maternal is: \" , self.m_name)\n"
      ]
    },
    {
      "cell_type": "code",
      "execution_count": null,
      "metadata": {
        "colab": {
          "base_uri": "https://localhost:8080/"
        },
        "id": "YXd--xZ7hyva",
        "outputId": "bf315548-a88e-44ad-da67-c780d5e90de0"
      },
      "outputs": [
        {
          "name": "stdout",
          "output_type": "stream",
          "text": [
            "Mother name is  Sita\n",
            "Father is  Ram\n",
            "Paretnal Ram  Maternal is:  Sita\n"
          ]
        }
      ],
      "source": [
        "obj=Child()\n",
        "obj.mMethod(\"Sita\")\n",
        "obj.pMethod(\"Ram\")\n",
        "obj.cMethod()"
      ]
    },
    {
      "cell_type": "code",
      "execution_count": null,
      "metadata": {
        "id": "FlHHbh_teWz3"
      },
      "outputs": [],
      "source": []
    },
    {
      "cell_type": "markdown",
      "metadata": {
        "id": "LLVTSPZYeV3N"
      },
      "source": []
    },
    {
      "cell_type": "code",
      "execution_count": null,
      "metadata": {
        "colab": {
          "base_uri": "https://localhost:8080/"
        },
        "id": "TllUMtZIh8Db",
        "outputId": "4c7c6f52-66b2-40b0-d180-e9b235eb24a1"
      },
      "outputs": [
        {
          "name": "stdout",
          "output_type": "stream",
          "text": [
            "Maternal Name: Dania\n",
            "Paternal Name: Alvarez\n",
            "Child Name: James\n",
            "This is maternal method Dania\n",
            "This is paternal method Alvarez\n"
          ]
        }
      ],
      "source": [
        "# Multiple Inheritance set variable name using constructor\n",
        "class Maternal:\n",
        "  m_name=''\n",
        "  def mMethod(self):\n",
        "    print(\"This is maternal method\", self.m_name)\n",
        "\n",
        "class Paternal:\n",
        "  p_name=''\n",
        "  def pMethod(self):\n",
        "    #self.p_name = p_name\n",
        "    print(\"This is paternal method\", self.p_name)\n",
        "\n",
        "class child(Maternal, Paternal):\n",
        "  def __init__(self, name, m_name, p_name):\n",
        "    super().__init__()\n",
        "    self.name = name\n",
        "    self.m_name = m_name\n",
        "    self.p_name = p_name\n",
        "  def printName(self):\n",
        "    print(\"Maternal Name:\", self.m_name)\n",
        "    print(\"Paternal Name:\", self.p_name)\n",
        "    print(\"Child Name:\", self.name)\n",
        "\n",
        "obj = child(\"James\", \"Dania\", \"Alvarez\")\n",
        "obj.printName()\n",
        "obj.mMethod()\n",
        "obj.pMethod()"
      ]
    },
    {
      "cell_type": "code",
      "execution_count": null,
      "metadata": {
        "id": "L-arLUXDhfb1"
      },
      "outputs": [],
      "source": [
        "class Example:\n",
        "  #private method\n",
        "  def __check(self):\n",
        "    print(\"I am in private \")"
      ]
    },
    {
      "cell_type": "code",
      "execution_count": null,
      "metadata": {
        "colab": {
          "base_uri": "https://localhost:8080/"
        },
        "id": "SW031fYuhz3X",
        "outputId": "6d75ff94-f07b-4492-ffe7-4e4d595e62a1"
      },
      "outputs": [
        {
          "name": "stdout",
          "output_type": "stream",
          "text": [
            "I am in private \n"
          ]
        }
      ],
      "source": [
        "e = Example()\n",
        "e._Example__check()"
      ]
    },
    {
      "cell_type": "code",
      "execution_count": null,
      "metadata": {
        "id": "S0cm5Ol3iQNA"
      },
      "outputs": [],
      "source": [
        "#overriding : same name method same paramters in sub class\n",
        "class Rectangle:\n",
        "  def __init__(self,length, breadth):\n",
        "    self.length = length\n",
        "    self.breadth = breadth\n",
        "  def calcuateArea(self):\n",
        "    print(\"Area of rectangle is \" , self.breadth*self.length)\n",
        "\n",
        "  def print_m(self):\n",
        "    print(\"check in parent \")\n",
        "\n",
        "class Square(Rectangle):\n",
        "  def __init__(self , side):\n",
        "    self.side=side\n",
        "\n",
        "  def calcuateArea(self):\n",
        "    #super().calcuateArea()\n",
        "    print(\"Area of square is \" , self.side *self.side)\n",
        "\n"
      ]
    },
    {
      "cell_type": "code",
      "execution_count": null,
      "metadata": {
        "colab": {
          "base_uri": "https://localhost:8080/"
        },
        "id": "HFscyo0djf3z",
        "outputId": "e0451529-517e-4cb9-85a8-bb3a4b77405f"
      },
      "outputs": [
        {
          "name": "stdout",
          "output_type": "stream",
          "text": [
            "Area of square is  4\n",
            "Area of rectangle is  6\n",
            "check in parent \n"
          ]
        }
      ],
      "source": [
        "s=Square(2)\n",
        "r=Rectangle(2,3)\n",
        "s.calcuateArea()\n",
        "r.calcuateArea()\n",
        "s.print_m()"
      ]
    },
    {
      "cell_type": "code",
      "execution_count": null,
      "metadata": {
        "id": "bEljVqVFkk_9"
      },
      "outputs": [],
      "source": [
        "# Overloading\n",
        "def add(instanceOf , *args):\n",
        "  if instanceOf == 'int':\n",
        "    result = 0\n",
        "  if instanceOf == 'str':\n",
        "    result = ''\n",
        "  if instanceOf == 'float':\n",
        "    result = 0.0\n",
        "  for i in args:\n",
        "    #result = result + i\n",
        "    result+=i\n",
        "  return result"
      ]
    },
    {
      "cell_type": "code",
      "execution_count": null,
      "metadata": {
        "colab": {
          "base_uri": "https://localhost:8080/"
        },
        "id": "SMjGxguklNgT",
        "outputId": "1abade92-97a0-4f1c-e9b2-a27d58d34977"
      },
      "outputs": [
        {
          "name": "stdout",
          "output_type": "stream",
          "text": [
            "36\n",
            "9.3\n",
            "helloworld\n"
          ]
        }
      ],
      "source": [
        "print(add('int' , 1,23,12))\n",
        "print(add('float' , 1.2, 3.4 ,1.2,3.5))\n",
        "print(add('str' , 'hello' , 'world'))"
      ]
    },
    {
      "cell_type": "code",
      "execution_count": null,
      "metadata": {
        "colab": {
          "base_uri": "https://localhost:8080/",
          "height": 176
        },
        "id": "dgnc2GtdmM0z",
        "outputId": "1aff01c2-8b2c-4b19-b053-5228334a32b7"
      },
      "outputs": [
        {
          "ename": "TypeError",
          "evalue": "Example1.m_method() takes 1 positional argument but 2 were given",
          "output_type": "error",
          "traceback": [
            "\u001b[0;31m---------------------------------------------------------------------------\u001b[0m",
            "\u001b[0;31mTypeError\u001b[0m                                 Traceback (most recent call last)",
            "\u001b[0;32m<ipython-input-34-3c6fe014d422>\u001b[0m in \u001b[0;36m<cell line: 10>\u001b[0;34m()\u001b[0m\n\u001b[1;32m      8\u001b[0m \u001b[0;34m\u001b[0m\u001b[0m\n\u001b[1;32m      9\u001b[0m \u001b[0mobj\u001b[0m \u001b[0;34m=\u001b[0m \u001b[0mExample1\u001b[0m\u001b[0;34m\u001b[0m\u001b[0;34m\u001b[0m\u001b[0m\n\u001b[0;32m---> 10\u001b[0;31m \u001b[0mobj\u001b[0m\u001b[0;34m.\u001b[0m\u001b[0mm_method\u001b[0m\u001b[0;34m(\u001b[0m\u001b[0;34m\"Ria\"\u001b[0m \u001b[0;34m,\u001b[0m \u001b[0;34m\"Ria\"\u001b[0m\u001b[0;34m)\u001b[0m\u001b[0;34m\u001b[0m\u001b[0;34m\u001b[0m\u001b[0m\n\u001b[0m",
            "\u001b[0;31mTypeError\u001b[0m: Example1.m_method() takes 1 positional argument but 2 were given"
          ]
        }
      ],
      "source": [
        "# Python replace the previous method with latest method created\n",
        "class Example1:\n",
        "  def m_method(self,name):\n",
        "    print(\"Hi\" , name)\n",
        "  def m_method(self):\n",
        "    print(\"Hi\")\n",
        "\n",
        "\n",
        "obj = Example1\n",
        "obj.m_method(\"Ria\" , \"Ria\")"
      ]
    },
    {
      "cell_type": "code",
      "execution_count": null,
      "metadata": {
        "colab": {
          "base_uri": "https://localhost:8080/"
        },
        "id": "y4N0reikj3Qf",
        "outputId": "62058a51-a4c2-489d-e51f-4dc776d6e70b"
      },
      "outputs": [
        {
          "name": "stdout",
          "output_type": "stream",
          "text": [
            "Rectangle area: None\n",
            "Rectangle perimeter: 18\n",
            "Circle area: 28.26\n",
            "Circle perimeter: 18.84\n"
          ]
        }
      ],
      "source": [
        "# Define a base class with abstract methods\n",
        "class Shape:\n",
        "  def area(self):\n",
        "        # Abstract method, should be implemented by subclass\n",
        "        raise NotImplementedError(\"Subclass must implement abstract method\")\n",
        "        #pass\n",
        "  def perimeter(self):\n",
        "        # Abstract method, should be implemented by subclass\n",
        "        raise NotImplementedError(\"Subclass must implement abstract method\")\n",
        "\n",
        "# Subclass that inherits from Shape\n",
        "class Rectangle(Shape):\n",
        "    def __init__(self, width, height):\n",
        "        self.width = width\n",
        "        self.height = height\n",
        "\n",
        "    # Implement the abstract methods\n",
        "    def area(self):\n",
        "        return self.width * self.height\n",
        "\n",
        "    def perimeter(self):\n",
        "        return 2 * (self.width + self.height)\n",
        "\n",
        "# Subclass that inherits from Shape\n",
        "class Circle(Shape):\n",
        "    def __init__(self, radius):\n",
        "        self.radius = radius\n",
        "\n",
        "    # Implement the abstract methods\n",
        "    def area(self):\n",
        "        return 3.14 * self.radius ** 2\n",
        "\n",
        "    def perimeter(self):\n",
        "        return 2 * 3.14 * self.radius\n",
        "\n",
        "# Create instances of Rectangle and Circle\n",
        "rect = Rectangle(4, 5)\n",
        "circle = Circle(3)\n",
        "\n",
        "# Call the methods\n",
        "print(f\"Rectangle area: {rect.area()}\")         # Output: Rectangle area: 20\n",
        "print(f\"Rectangle perimeter: {rect.perimeter()}\") # Output: Rectangle perimeter: 18\n",
        "\n",
        "print(f\"Circle area: {circle.area()}\")           # Output: Circle area: 28.26\n",
        "print(f\"Circle perimeter: {circle.perimeter()}\") # Output: Circle perimeter: 18.84\n"
      ]
    },
    {
      "cell_type": "code",
      "execution_count": null,
      "metadata": {
        "colab": {
          "base_uri": "https://localhost:8080/"
        },
        "id": "-IO4abmSj2i8",
        "outputId": "72fa98ca-ee95-419a-fb80-3893e5afc3f4"
      },
      "outputs": [
        {
          "name": "stdout",
          "output_type": "stream",
          "text": [
            "Enter first number 12\n",
            "Enter second number 0\n",
            "Eoor is  division by zero\n"
          ]
        }
      ],
      "source": [
        "num1 = int(input(\"Enter first number \"))\n",
        "num2 = int(input(\"Enter second number \"))\n",
        "try:\n",
        "  c = num1/num2\n",
        "except Exception as e:     # Generic Exception which can hadle all types of exceptions\n",
        "  print(\"Eroor is \" , e)\n",
        "  exit(0)\n",
        "else:\n",
        "  print(\"Answer is \", c)"
      ]
    },
    {
      "cell_type": "code",
      "execution_count": null,
      "metadata": {
        "colab": {
          "base_uri": "https://localhost:8080/"
        },
        "id": "E9duJY5zpGN0",
        "outputId": "2a4b32c2-874a-4673-eebd-7dfcb8de4afe"
      },
      "outputs": [
        {
          "name": "stdout",
          "output_type": "stream",
          "text": [
            "Enter first number 12\n",
            "Enter second number 0\n",
            "Cannot divide by zero\n",
            "finally\n"
          ]
        }
      ],
      "source": [
        "try:\n",
        "  num1 = int(input(\"Enter first number \"))\n",
        "  num2 = int(input(\"Enter second number \"))\n",
        "  c = num1/num2\n",
        "\n",
        "except ValueError:\n",
        "  print(\"Invalid input only integers \")\n",
        "except ZeroDivisionError:\n",
        "  print(\"Cannot divide by zero\")\n",
        "except Exception as e:     # Generic Exception which can hadle all types of exceptions\n",
        "  print(\"Eroor is \" , e)\n",
        "  exit(0)\n",
        "else:\n",
        "  print(\"Answer is \", c)\n",
        "\n",
        "finally:\n",
        "  print(\"finally\")"
      ]
    },
    {
      "cell_type": "code",
      "execution_count": null,
      "metadata": {
        "colab": {
          "base_uri": "https://localhost:8080/",
          "height": 245
        },
        "id": "Zk5RvcyBsFWz",
        "outputId": "67e14938-3a7f-4859-f897-5c65caa64f3c"
      },
      "outputs": [
        {
          "name": "stdout",
          "output_type": "stream",
          "text": [
            "Enter first number 12\n",
            "Enter second number 2.3\n"
          ]
        },
        {
          "ename": "ValueError",
          "evalue": "invalid literal for int() with base 10: '2.3'",
          "output_type": "error",
          "traceback": [
            "\u001b[0;31m---------------------------------------------------------------------------\u001b[0m",
            "\u001b[0;31mValueError\u001b[0m                                Traceback (most recent call last)",
            "\u001b[0;32m<ipython-input-9-cee9b82327db>\u001b[0m in \u001b[0;36m<cell line: 2>\u001b[0;34m()\u001b[0m\n\u001b[1;32m      1\u001b[0m \u001b[0mnum1\u001b[0m \u001b[0;34m=\u001b[0m \u001b[0mint\u001b[0m\u001b[0;34m(\u001b[0m\u001b[0minput\u001b[0m\u001b[0;34m(\u001b[0m\u001b[0;34m\"Enter first number \"\u001b[0m\u001b[0;34m)\u001b[0m\u001b[0;34m)\u001b[0m\u001b[0;34m\u001b[0m\u001b[0;34m\u001b[0m\u001b[0m\n\u001b[0;32m----> 2\u001b[0;31m \u001b[0mnum2\u001b[0m \u001b[0;34m=\u001b[0m \u001b[0mint\u001b[0m\u001b[0;34m(\u001b[0m\u001b[0minput\u001b[0m\u001b[0;34m(\u001b[0m\u001b[0;34m\"Enter second number \"\u001b[0m\u001b[0;34m)\u001b[0m\u001b[0;34m)\u001b[0m\u001b[0;34m\u001b[0m\u001b[0;34m\u001b[0m\u001b[0m\n\u001b[0m\u001b[1;32m      3\u001b[0m \u001b[0;32mif\u001b[0m \u001b[0mnum2\u001b[0m \u001b[0;34m==\u001b[0m \u001b[0;36m0\u001b[0m\u001b[0;34m:\u001b[0m\u001b[0;34m\u001b[0m\u001b[0;34m\u001b[0m\u001b[0m\n\u001b[1;32m      4\u001b[0m   \u001b[0;32mraise\u001b[0m \u001b[0mZeroDivisionError\u001b[0m\u001b[0;34m(\u001b[0m\u001b[0;34m\"Cannot divide by zero \"\u001b[0m\u001b[0;34m)\u001b[0m\u001b[0;34m\u001b[0m\u001b[0;34m\u001b[0m\u001b[0m\n\u001b[1;32m      5\u001b[0m \u001b[0;34m\u001b[0m\u001b[0m\n",
            "\u001b[0;31mValueError\u001b[0m: invalid literal for int() with base 10: '2.3'"
          ]
        }
      ],
      "source": [
        "num1 = int(input(\"Enter first number \"))\n",
        "num2 = int(input(\"Enter second number \"))\n",
        "if num2 == 0:\n",
        "  raise ZeroDivisionError(\"Cannot divide by zero \")\n",
        "\n",
        "if not type(num1) is int or not type(num2) is int:\n",
        "  raise TypeError(\"Invalid input only integers \")\n",
        "if num1<0:\n",
        "  raise Exception(\"Invalid input numbers greater than zero \")\n",
        "c = num1/num2\n",
        "print(\"Answer is \", c)"
      ]
    },
    {
      "cell_type": "code",
      "execution_count": null,
      "metadata": {
        "id": "yCETvz6Bq6FJ"
      },
      "outputs": [],
      "source": [
        "# Custom Exception Handling\n",
        "class CustomError(Exception):\n",
        "  min_age =0\n",
        "  def __init__(self , age):\n",
        "    self.age= age\n",
        "  def __str__(self):\n",
        "    return f\"Age {self.age} should be greater than {self.min_age}\""
      ]
    },
    {
      "cell_type": "code",
      "execution_count": null,
      "metadata": {
        "colab": {
          "base_uri": "https://localhost:8080/"
        },
        "id": "KZoX4GL3ru9Y",
        "outputId": "ec7bf992-e317-4ff7-d008-62b52a499ff8"
      },
      "outputs": [
        {
          "name": "stdout",
          "output_type": "stream",
          "text": [
            "Enter age u\n",
            "Invalid input only integers \n"
          ]
        }
      ],
      "source": [
        "try:\n",
        "  age= int(input(\"Enter age \"))\n",
        "  if age<0:\n",
        "    raise CustomError(age)\n",
        "except CustomError as e:\n",
        "  print(e)\n",
        "except ValueError:\n",
        "  print(\"Invalid input only integers \")\n",
        "else:\n",
        "  print(\"Age is \", age)"
      ]
    },
    {
      "cell_type": "code",
      "execution_count": null,
      "metadata": {
        "id": "K08otSfnsaZa"
      },
      "outputs": [],
      "source": [
        "# Banking Exception for withdraw[Amount is less than available balance raise exception] 2 function Deposit]balance+new ] and withdraw [balance-new] 2 functions\n",
        "class BankingException(Exception):\n",
        "\n",
        "    def __init__(self, message):\n",
        "        super().__init__(message)\n",
        "\n",
        "class BankAccount:\n",
        "  balance = 500\n",
        "  def __init__(self):\n",
        "    print(\"your intial_balance:\",self.balance)\n",
        "\n",
        "\n",
        "  def deposit(self, amount):\n",
        "        if amount <= 0:\n",
        "            raise BankingException(\"Deposit amount must be more than 0.\")\n",
        "        self.balance += amount\n",
        "\n",
        "\n",
        "\n",
        "  def withdraw(self, amount):\n",
        "        if amount <= 0:\n",
        "            raise BankingException(\"Withdrawal amount must be more than 0.\")\n",
        "        if amount > self.balance:\n",
        "            raise BankingException(\"Insufficient funds.\")\n",
        "        self.balance -= amount\n",
        "'''inital_balance = int(input(\"Enter intial_balance:\"))'''\n",
        "account = BankAccount()\n",
        "deposit_amount = int(input(\"Enter Deposit amount:\"))\n",
        "\n",
        "\n",
        "try:\n",
        "    account.deposit(deposit_amount)\n",
        "    print(\"Deposit successful. New balance:\", account.balance)\n",
        "except BankingException as e:\n",
        "    print(\"Error:\", e)\n",
        "\n",
        "\n",
        "try:\n",
        "  withdraw_amount = int(input(\"Enter Withdraw_amount:\"))\n",
        "  if withdraw_amount:\n",
        "    account.withdraw(withdraw_amount)\n",
        "    print(\"Withdrawal successful. New balance:\", account.balance)\n",
        "\n",
        "except ValueError:\n",
        "  print(\"Invalid input only integers \")\n",
        "except BankingException as e:\n",
        "    print(\"Error:\", e)\n",
        "\n"
      ]
    },
    {
      "cell_type": "code",
      "execution_count": null,
      "metadata": {
        "id": "y8aTNuoFjkq6"
      },
      "outputs": [],
      "source": [
        "## static method to compare diffent data object\n",
        "\n",
        "class DataObject:\n",
        "    def __init__(self, id, value):\n",
        "        self.id = id\n",
        "        self.value = value\n",
        "\n",
        "    def compare_objects(obj1, obj2):\n",
        "        if obj1.value > obj2.value:\n",
        "            return f\"{obj1} is greater than {obj2}\"\n",
        "        elif obj1.value < obj2.value:\n",
        "            return f\"{obj1} is less than {obj2}\"\n",
        "        else:\n",
        "            return f\"{obj1} is equal to {obj2}\"\n",
        "\n",
        "    def __repr__(self):\n",
        "        return f\"DataObject(id={self.id}, value={self.value})\"\n",
        "\n",
        "data1 = DataObject(1, 100)\n",
        "data2 = DataObject(2, 150)\n",
        "\n",
        "result = DataObject.compare_objects(data1, data2)\n",
        "print(result)"
      ]
    },
    {
      "cell_type": "code",
      "execution_count": null,
      "metadata": {
        "id": "IJQ6DjTisvst"
      },
      "outputs": [],
      "source": [
        "class ClassMethodExample:\n",
        "  school=\"ABC\"\n",
        "\n",
        "  def __init__(self , name):\n",
        "    self.name = name\n",
        "\n",
        "  @classmethod\n",
        "  def changeSchool(cls , name):\n",
        "    cls.school = name\n",
        "\n",
        "  @staticmethod\n",
        "  def staticExample(name):\n",
        "    # self.school = name  eror static varibale are not instance modify the object\n",
        "    ClassMethodExample.school = name  # logically incorrect compare\n",
        "\n",
        "  def printName(self):\n",
        "    print(self.school)\n",
        "    print(self.name)\n",
        "\n",
        "\n"
      ]
    },
    {
      "cell_type": "code",
      "execution_count": null,
      "metadata": {
        "colab": {
          "base_uri": "https://localhost:8080/"
        },
        "id": "Y9_2sepXu6VF",
        "outputId": "3f0f9067-ae2f-4699-f414-b487a8cbeac9"
      },
      "outputs": [
        {
          "name": "stdout",
          "output_type": "stream",
          "text": [
            "ABC\n",
            "Ram\n",
            "ABC\n",
            "Shyam\n",
            "XYZ\n",
            "Ram\n",
            "XYZ\n",
            "Shyam\n",
            "PQR\n",
            "Ram\n",
            "PQR\n",
            "Shyam\n"
          ]
        }
      ],
      "source": [
        "obj1 = ClassMethodExample(\"Ram\")\n",
        "obj1.printName()\n",
        "obj2 = ClassMethodExample(\"Shyam\")\n",
        "obj2.printName()\n",
        "\n",
        "obj1.changeSchool(\"XYZ\")\n",
        "obj1.printName()\n",
        "obj2.printName()\n",
        "\n",
        "ClassMethodExample.staticExample(\"PQR\")\n",
        "obj1.printName()\n",
        "obj2.printName()"
      ]
    },
    {
      "cell_type": "code",
      "execution_count": null,
      "metadata": {
        "id": "4yGVEuq8vI0e"
      },
      "outputs": [],
      "source": [
        "class DateExample:\n",
        "  def __init__(self , year , month , day):\n",
        "    self.day = day\n",
        "    self.month = month\n",
        "    self.year = year\n",
        "  @classmethod   # constructor overriding\n",
        "  def dmy(cls , day , month , year):\n",
        "    cls.year = year\n",
        "    cls.month=month\n",
        "    cls.day = day\n",
        "    return cls(cls.year , cls.month , cls.day) #return same as inint\n",
        "\n",
        "  @classmethod\n",
        "  def mdy(cls , month , day , year):\n",
        "    cls.year = year\n",
        "    cls.month=month\n",
        "    cls.day = day\n",
        "    return cls(cls.year , cls.month , cls.day)\n",
        "\n",
        "    ## static method to compare diffent date object\n"
      ]
    },
    {
      "cell_type": "code",
      "execution_count": null,
      "metadata": {
        "colab": {
          "base_uri": "https://localhost:8080/"
        },
        "id": "64N1t5MSy9OV",
        "outputId": "0fc5535b-b107-4b8a-b5f1-cdaa7bad10cb"
      },
      "outputs": [
        {
          "data": {
            "text/plain": [
              "2024"
            ]
          },
          "execution_count": 18,
          "metadata": {},
          "output_type": "execute_result"
        }
      ],
      "source": [
        "date1 = DateExample(2024,3,12)\n",
        "date1.year"
      ]
    },
    {
      "cell_type": "code",
      "execution_count": null,
      "metadata": {
        "colab": {
          "base_uri": "https://localhost:8080/"
        },
        "id": "yyNJPkXbzMIj",
        "outputId": "d167e24d-8c95-4579-e5e2-e6dda0e9fec9"
      },
      "outputs": [
        {
          "data": {
            "text/plain": [
              "2024"
            ]
          },
          "execution_count": 22,
          "metadata": {},
          "output_type": "execute_result"
        }
      ],
      "source": [
        "date2 = DateExample.dmy(12,3,2024)\n",
        "date2.year"
      ]
    },
    {
      "cell_type": "code",
      "execution_count": null,
      "metadata": {
        "colab": {
          "base_uri": "https://localhost:8080/"
        },
        "id": "IWR4Cl_fzURG",
        "outputId": "e3e4eb10-22ff-4c8b-d120-b4c792ffb978"
      },
      "outputs": [
        {
          "data": {
            "text/plain": [
              "2016"
            ]
          },
          "execution_count": 23,
          "metadata": {},
          "output_type": "execute_result"
        }
      ],
      "source": [
        "date3=DateExample.mdy(3,12,2016)\n",
        "date3.year"
      ]
    },
    {
      "cell_type": "code",
      "execution_count": null,
      "metadata": {
        "colab": {
          "base_uri": "https://localhost:8080/"
        },
        "id": "zket3NEJzxOb",
        "outputId": "61438843-720d-4758-d875-c7b8f20cc28b"
      },
      "outputs": [
        {
          "data": {
            "text/plain": [
              "3"
            ]
          },
          "execution_count": 24,
          "metadata": {},
          "output_type": "execute_result"
        }
      ],
      "source": [
        "date3.month"
      ]
    },
    {
      "cell_type": "code",
      "execution_count": null,
      "metadata": {
        "id": "8CvDAM5Xzzr2"
      },
      "outputs": [],
      "source": [
        "## File Hadling"
      ]
    },
    {
      "cell_type": "markdown",
      "metadata": {
        "id": "lpkSxfSL1Rpn"
      },
      "source": [
        "# File Handling\n"
      ]
    },
    {
      "cell_type": "code",
      "execution_count": null,
      "metadata": {
        "colab": {
          "base_uri": "https://localhost:8080/"
        },
        "id": "-_FkFq981WZb",
        "outputId": "53cfb6b9-7fa2-4c75-cd60-2598624245c7"
      },
      "outputs": [
        {
          "name": "stdout",
          "output_type": "stream",
          "text": [
            "find: ‘/proc/73/task/73/net’: Invalid argument\n",
            "find: ‘/proc/73/net’: Invalid argument\n",
            "/content/Session1.txt\n"
          ]
        }
      ],
      "source": [
        "!find / -name 'Session1.txt'"
      ]
    },
    {
      "cell_type": "code",
      "execution_count": null,
      "metadata": {
        "colab": {
          "base_uri": "https://localhost:8080/"
        },
        "id": "Y2ou5bdx1y3_",
        "outputId": "1b572d67-6dd8-4e89-bfe4-47f57342f9f1"
      },
      "outputs": [
        {
          "name": "stdout",
          "output_type": "stream",
          "text": [
            "** OOP and Structured Programming \n",
            "--> Base Python [ shell ] \n",
            "--> Suite Available [ Anaconda ] \n",
            "--> Python , R \n",
            "\n",
            "--> Data type in python : what type data will store \n",
            "int32 , int 64\n",
            "BasePython : int64 \n",
            "Pandas \n",
            "datatime : \n",
            "text \n",
            "\n",
            "--> type conversions \n",
            "--> looping for , if , while \n",
            "** Data Structure : how data is stored \n",
            "--> local and global variable \n",
            "** Functions : \n",
            "def function_name(argument):\n",
            "\treturn statement; \n",
            "\n",
            "Non-void functions : which return expression or literal\n",
            "Void function : print statement \n",
            "\n",
            "1. Built-In Function : math , len , \n",
            "2. User Defined Function \n",
            "\n",
            "** Slicing : functions related to date time \n",
            "Month_name=['JAN'  'FEB' , ]\n",
            "def date_format(d):\n",
            "\tday=d[0:2] [start_in dex : end+1]\n",
            "\tyear \n",
            "\tmonth = int(d[2:4])\n",
            "\tmonth_name =Month_name[month-1]\n",
            "\t\n",
            "d=input(\"Enter date in ddmmyyyy\")\n",
            "03092024\n",
            "date_format(d)\n",
            "\n",
            "Q WAP that generates a series using a function which takes first and last values of the series and then generates four terms that are equidistant example, if two numbers passed are 1 and 7 then functions returns 1 3 5 7\n",
            "\n",
            "** Lambda Functions : \n",
            "** list , set , tuple , dictionary \n",
            " \n",
            "\n",
            "\n"
          ]
        }
      ],
      "source": [
        "file1 = open(\"/content/Session1.txt\" , \"r\")\n",
        "read_lines = file1.read()\n",
        "print(read_lines)\n",
        "file1.close()"
      ]
    },
    {
      "cell_type": "code",
      "execution_count": null,
      "metadata": {
        "colab": {
          "base_uri": "https://localhost:8080/"
        },
        "id": "ALYAXnRr2QOL",
        "outputId": "3ac7feb3-e8f6-44c0-b302-23d2a18440a1"
      },
      "outputs": [
        {
          "name": "stdout",
          "output_type": "stream",
          "text": [
            "['** OOP and Structured Programming \\n', '--> Base Python [ shell ] \\n', '--> Suite Available [ Anaconda ] \\n', '--> Python , R \\n', '\\n', '--> Data type in python : what type data will store \\n', 'int32 , int 64\\n', 'BasePython : int64 \\n', 'Pandas \\n', 'datatime : \\n', 'text \\n', '\\n', '--> type conversions \\n', '--> looping for , if , while \\n', '** Data Structure : how data is stored \\n', '--> local and global variable \\n', '** Functions : \\n', 'def function_name(argument):\\n', '\\treturn statement; \\n', '\\n', 'Non-void functions : which return expression or literal\\n', 'Void function : print statement \\n', '\\n', '1. Built-In Function : math , len , \\n', '2. User Defined Function \\n', '\\n', '** Slicing : functions related to date time \\n', \"Month_name=['JAN'  'FEB' , ]\\n\", 'def date_format(d):\\n', '\\tday=d[0:2] [start_in dex : end+1]\\n', '\\tyear \\n', '\\tmonth = int(d[2:4])\\n', '\\tmonth_name =Month_name[month-1]\\n', '\\t\\n', 'd=input(\"Enter date in ddmmyyyy\")\\n', '03092024\\n', 'date_format(d)\\n', '\\n', 'Q WAP that generates a series using a function which takes first and last values of the series and then generates four terms that are equidistant example, if two numbers passed are 1 and 7 then functions returns 1 3 5 7\\n', '\\n', '** Lambda Functions : \\n', '** list , set , tuple , dictionary \\n', ' \\n', '\\n']\n"
          ]
        }
      ],
      "source": [
        "file1 = open(\"/content/Session1.txt\" , \"r\")\n",
        "read_lines = file1.readlines()   # read entire datat in form of list\n",
        "print(read_lines)\n",
        "file1.close()"
      ]
    },
    {
      "cell_type": "code",
      "execution_count": null,
      "metadata": {
        "colab": {
          "base_uri": "https://localhost:8080/"
        },
        "id": "Z0sJjAWm2ch3",
        "outputId": "2a888082-dd69-4fa7-b205-549586fd8c56"
      },
      "outputs": [
        {
          "name": "stdout",
          "output_type": "stream",
          "text": [
            "** OOP and Structured Programming \n",
            "\n"
          ]
        }
      ],
      "source": [
        "file1 = open(\"/content/Session1.txt\" , \"r\")\n",
        "read_line = file1.readline()   # read first line\n",
        "print(read_line)\n",
        "file1.close()"
      ]
    },
    {
      "cell_type": "code",
      "execution_count": null,
      "metadata": {
        "colab": {
          "base_uri": "https://localhost:8080/"
        },
        "id": "3lbBrQtL2mUI",
        "outputId": "d6b90646-820f-4b15-d5f4-caf5de2e8509"
      },
      "outputs": [
        {
          "name": "stdout",
          "output_type": "stream",
          "text": [
            "['** OOP and Structured Programming \\n']\n"
          ]
        }
      ],
      "source": [
        "file1 = open(\"/content/Session1.txt\" , \"r\")\n",
        "read_lines4 = file1.readlines(10)   # read first line\n",
        "print(read_lines4)\n",
        "file1.close()"
      ]
    },
    {
      "cell_type": "code",
      "execution_count": null,
      "metadata": {
        "colab": {
          "base_uri": "https://localhost:8080/"
        },
        "id": "pRnqWM3524bu",
        "outputId": "999c4fb0-0a21-4b27-e08f-e0b57f29ef33"
      },
      "outputs": [
        {
          "name": "stdout",
          "output_type": "stream",
          "text": [
            "** OOP and\n"
          ]
        }
      ],
      "source": [
        "file1 = open(\"/content/Session1.txt\" , \"r\")\n",
        "read_lines = file1.read(10)   # read first line\n",
        "print(read_lines)\n",
        "file1.close()"
      ]
    },
    {
      "cell_type": "code",
      "execution_count": null,
      "metadata": {
        "colab": {
          "base_uri": "https://localhost:8080/"
        },
        "id": "fJIbp03B3JV9",
        "outputId": "e27425ec-feb6-4030-ede6-e48a9bdf7374"
      },
      "outputs": [
        {
          "name": "stdout",
          "output_type": "stream",
          "text": [
            "** OOP and S\n"
          ]
        }
      ],
      "source": [
        "file1 = open(\"/content/Session1.txt\" , \"r\")\n",
        "read_lines = file1.readline(12)   # read first line\n",
        "print(read_lines)\n",
        "file1.close()"
      ]
    },
    {
      "cell_type": "code",
      "execution_count": null,
      "metadata": {
        "colab": {
          "base_uri": "https://localhost:8080/"
        },
        "id": "PrrQHkE93bM9",
        "outputId": "c472a124-b9f1-407b-b983-d7b5559cafbe"
      },
      "outputs": [
        {
          "name": "stdout",
          "output_type": "stream",
          "text": [
            "*\n"
          ]
        }
      ],
      "source": [
        "file1 = open(\"/content/Session1.txt\" , \"r\")\n",
        "read_lines = file1.readline(1)   # read first line\n",
        "print(read_lines)\n",
        "file1.close()"
      ]
    },
    {
      "cell_type": "code",
      "execution_count": null,
      "metadata": {
        "colab": {
          "base_uri": "https://localhost:8080/"
        },
        "id": "9Xz98ZLE4IGl",
        "outputId": "98b57b47-8d59-408b-f95e-8d48f2445e52"
      },
      "outputs": [
        {
          "name": "stdout",
          "output_type": "stream",
          "text": [
            "** OOP and Structured Programming \n",
            "\n",
            "--> Base Python [ shell ] \n",
            "\n",
            "--> Suite Available [ Anaconda ] \n",
            "\n",
            "--> Python , R \n",
            "\n",
            "\n",
            "\n",
            "--> Data type in python : what type data will store \n",
            "\n",
            "int32 , int 64\n",
            "\n",
            "BasePython : int64 \n",
            "\n",
            "Pandas \n",
            "\n",
            "datatime : \n",
            "\n",
            "text \n",
            "\n",
            "\n",
            "\n",
            "--> type conversions \n",
            "\n",
            "--> looping for , if , while \n",
            "\n",
            "** Data Structure : how data is stored \n",
            "\n",
            "--> local and global variable \n",
            "\n",
            "** Functions : \n",
            "\n",
            "def function_name(argument):\n",
            "\n",
            "\treturn statement; \n",
            "\n",
            "\n",
            "\n",
            "Non-void functions : which return expression or literal\n",
            "\n",
            "Void function : print statement \n",
            "\n",
            "\n",
            "\n",
            "1. Built-In Function : math , len , \n",
            "\n",
            "2. User Defined Function \n",
            "\n",
            "\n",
            "\n",
            "** Slicing : functions related to date time \n",
            "\n",
            "Month_name=['JAN'  'FEB' , ]\n",
            "\n",
            "def date_format(d):\n",
            "\n",
            "\tday=d[0:2] [start_in dex : end+1]\n",
            "\n",
            "\tyear \n",
            "\n",
            "\tmonth = int(d[2:4])\n",
            "\n",
            "\tmonth_name =Month_name[month-1]\n",
            "\n",
            "\t\n",
            "\n",
            "d=input(\"Enter date in ddmmyyyy\")\n",
            "\n",
            "03092024\n",
            "\n",
            "date_format(d)\n",
            "\n",
            "\n",
            "\n",
            "Q WAP that generates a series using a function which takes first and last values of the series and then generates four terms that are equidistant example, if two numbers passed are 1 and 7 then functions returns 1 3 5 7\n",
            "\n",
            "\n",
            "\n",
            "** Lambda Functions : \n",
            "\n",
            "** list , set , tuple , dictionary \n",
            "\n",
            " \n",
            "\n",
            "\n",
            "\n"
          ]
        }
      ],
      "source": [
        "# read entire file with help of readline : iterate\n",
        "file1 = open(\"/content/Session1.txt\" , \"r\")\n",
        "while True:\n",
        "  line = file1.readline()\n",
        "  if not line:\n",
        "    break\n",
        "  print(line)\n",
        "file1.close()"
      ]
    },
    {
      "cell_type": "code",
      "execution_count": null,
      "metadata": {
        "colab": {
          "base_uri": "https://localhost:8080/"
        },
        "id": "82pbYCy24gTe",
        "outputId": "effc0db3-6423-4c14-fa8a-17778bb6fd09"
      },
      "outputs": [
        {
          "name": "stdout",
          "output_type": "stream",
          "text": [
            "** OOP and Structured Programming \n",
            " --> Base Python [ shell ] \n",
            " --> Suite Available [ Anaconda ] \n",
            " --> Python , R \n",
            " \n",
            " --> Data type in python : what type data will store \n",
            " int32 , int 64\n",
            " BasePython : int64 \n",
            " Pandas \n",
            " datatime : \n",
            " text \n",
            " \n",
            " --> type conversions \n",
            " --> looping for , if , while \n",
            " ** Data Structure : how data is stored \n",
            " --> local and global variable \n",
            " ** Functions : \n",
            " def function_name(argument):\n",
            " \treturn statement; \n",
            " \n",
            " Non-void functions : which return expression or literal\n",
            " Void function : print statement \n",
            " \n",
            " 1. Built-In Function : math , len , \n",
            " 2. User Defined Function \n",
            " \n",
            " ** Slicing : functions related to date time \n",
            " Month_name=['JAN'  'FEB' , ]\n",
            " def date_format(d):\n",
            " \tday=d[0:2] [start_in dex : end+1]\n",
            " \tyear \n",
            " \tmonth = int(d[2:4])\n",
            " \tmonth_name =Month_name[month-1]\n",
            " \t\n",
            " d=input(\"Enter date in ddmmyyyy\")\n",
            " 03092024\n",
            " date_format(d)\n",
            " \n",
            " Q WAP that generates a series using a function which takes first and last values of the series and then generates four terms that are equidistant example, if two numbers passed are 1 and 7 then functions returns 1 3 5 7\n",
            " \n",
            " ** Lambda Functions : \n",
            " ** list , set , tuple , dictionary \n",
            "  \n",
            " \n",
            "  "
          ]
        }
      ],
      "source": [
        "file1 = open(\"/content/Session1.txt\" , \"r\")\n",
        "str=\" \"\n",
        "while str:\n",
        "  str = file1.readline()\n",
        "  print(str , end=' ')\n",
        "file1.close()"
      ]
    },
    {
      "cell_type": "code",
      "execution_count": null,
      "metadata": {
        "colab": {
          "base_uri": "https://localhost:8080/"
        },
        "id": "2Bb9XGla4xIH",
        "outputId": "0ca1df5b-5ba9-4b84-fd68-325fd40c3e44"
      },
      "outputs": [
        {
          "name": "stdout",
          "output_type": "stream",
          "text": [
            "1105\n"
          ]
        }
      ],
      "source": [
        "file1 = open(\"/content/Session1.txt\" , \"r\")\n",
        "read_lines = file1.read()\n",
        "size =  len(read_lines)\n",
        "print(size)\n",
        "file1.close()"
      ]
    },
    {
      "cell_type": "code",
      "execution_count": null,
      "metadata": {
        "colab": {
          "base_uri": "https://localhost:8080/"
        },
        "id": "LeaiO-YO5TW6",
        "outputId": "50e54101-288f-4315-bd51-7dc489bd5fc8"
      },
      "outputs": [
        {
          "name": "stdout",
          "output_type": "stream",
          "text": [
            "1105\n",
            "1032\n"
          ]
        }
      ],
      "source": [
        "# display actual size of file and size of file after removing trailing and leading spaces and EOL characters\n",
        "file1 = open(\"/content/Session1.txt\" , \"r\")\n",
        "str=\" \"\n",
        "size=0 # showing actual size of file\n",
        "tsize=0 # showing size after removing trailing and leading spaces and EOL characters\n",
        "while str:\n",
        "  str = file1.readline()\n",
        "  size = size + len(str)\n",
        "  tsize = tsize + len(str.strip()) # strip function remove leading and trailing space\n",
        "print(size)\n",
        "print(tsize)\n",
        "\n",
        "file1.close()"
      ]
    },
    {
      "cell_type": "code",
      "execution_count": null,
      "metadata": {
        "colab": {
          "base_uri": "https://localhost:8080/"
        },
        "id": "qGmUwtf86Mpc",
        "outputId": "0df62466-17bd-46b9-ef0b-aaeccce484a2"
      },
      "outputs": [
        {
          "name": "stdout",
          "output_type": "stream",
          "text": [
            "Enter how many studnets 2\n",
            "Enter nameRia\n",
            "Enter subjectCS\n",
            "Enter nameArpit\n",
            "Enter subjectMechanical\n"
          ]
        }
      ],
      "source": [
        "file_w = open(\"/content/student.txt\",\"w\")\n",
        "num = int(input(\"Enter how many studnets \"))\n",
        "for i in range(num):\n",
        "  name=input(\"Enter name\")\n",
        "  file_w.write(name)\n",
        "  subject=input(\"Enter subject\")\n",
        "  file_w.write(subject)\n",
        "  file_w.write(\"\\n\")\n",
        "file_w.close()"
      ]
    },
    {
      "cell_type": "code",
      "execution_count": null,
      "metadata": {
        "colab": {
          "base_uri": "https://localhost:8080/"
        },
        "id": "2nQDg0dd7yxz",
        "outputId": "f2323f3f-b86d-413d-e541-e72b9e903886"
      },
      "outputs": [
        {
          "name": "stdout",
          "output_type": "stream",
          "text": [
            "RiaCS\n",
            "ArpitMechanical\n",
            "Rita\tElectrical\n",
            "SHyam\tCS\n",
            "\n"
          ]
        }
      ],
      "source": [
        "file_r= open(\"/content/student.txt\",\"r\")\n",
        "print(file_r.read())\n",
        "file_r.close()"
      ]
    },
    {
      "cell_type": "code",
      "execution_count": null,
      "metadata": {
        "colab": {
          "base_uri": "https://localhost:8080/"
        },
        "id": "icyZCC8W8Fkr",
        "outputId": "3277a75c-38db-478f-8db9-eee7e75cb26d"
      },
      "outputs": [
        {
          "name": "stdout",
          "output_type": "stream",
          "text": [
            "Enter how many studnets 2\n",
            "Enter nameRita\n",
            "Enter subjectElectrical\n",
            "Enter nameSHyam\n",
            "Enter subjectCS\n"
          ]
        }
      ],
      "source": [
        "# appending the same file and adding the stff as list\n",
        "file_a= open(\"/content/student.txt\",\"a\")\n",
        "num = int(input(\"Enter how many studnets \"))\n",
        "list1=[]\n",
        "for i in range(num):\n",
        "  name=input(\"Enter name\")\n",
        "  list1.append(name + \"\\t\")\n",
        "  subject=input(\"Enter subject\")\n",
        "  list1.append(subject + \"\\n\")\n",
        "file_a.writelines(list1)\n",
        "file_a.close()"
      ]
    },
    {
      "cell_type": "code",
      "execution_count": null,
      "metadata": {
        "id": "URwSLvwA85u8"
      },
      "outputs": [],
      "source": [
        "# pickle : is a module which is used for serializatiion and deserialization of data .\n",
        "# store the data into binary format\n",
        "import pickle\n",
        "class student:\n",
        "  def __init__(self , r_no=0  , name=\"\"):\n",
        "    self.r_no = r_no\n",
        "    self.name = name\n",
        "    self.marks1,self.marks2 = 0.0,0.0\n",
        "  def readmarks(self):\n",
        "    self.marks1 = float(input(\"Enter marks1 \"))\n",
        "    self.marks2 = float(input(\"Enter marks2 \"))\n",
        "  def display(self):\n",
        "    print(\"Roll no is \" , self.r_no)\n",
        "    print(\"Name is \" , self.name)\n",
        "    print(\"Marks1 is \" , self.marks1)\n",
        "    print(\"Marks2 is \" , self.marks2)"
      ]
    },
    {
      "cell_type": "code",
      "execution_count": null,
      "metadata": {
        "colab": {
          "base_uri": "https://localhost:8080/"
        },
        "id": "MwRbk3qG_Msc",
        "outputId": "7be080a2-63d4-4c94-d7c5-077746b61241"
      },
      "outputs": [
        {
          "name": "stdout",
          "output_type": "stream",
          "text": [
            "Enter marks1 45\n",
            "Enter marks2 50\n",
            "Roll no is  101\n",
            "Name is  Ram\n",
            "Marks1 is  45.0\n",
            "Marks2 is  50.0\n"
          ]
        }
      ],
      "source": [
        "s1 = student(101 , \"Ram\")\n",
        "s1.readmarks()\n",
        "s1.display()"
      ]
    },
    {
      "cell_type": "code",
      "execution_count": null,
      "metadata": {
        "id": "WGh8RF3w_Rqg"
      },
      "outputs": [],
      "source": [
        "file_b = open(\"/content/student.dat\" , \"wb\")\n",
        "pickle.dump(s1 , file_b)\n",
        "file_b.close()"
      ]
    },
    {
      "cell_type": "code",
      "execution_count": null,
      "metadata": {
        "colab": {
          "base_uri": "https://localhost:8080/"
        },
        "id": "L_tnjSv2_yXd",
        "outputId": "ff4e0174-9ae2-467b-8858-4145f94fee51"
      },
      "outputs": [
        {
          "name": "stdout",
          "output_type": "stream",
          "text": [
            "Roll no is  101\n",
            "Name is  Ram\n",
            "Marks1 is  45.0\n",
            "Marks2 is  50.0\n"
          ]
        }
      ],
      "source": [
        "file_b = open(\"/content/student.dat\" , \"rb\")\n",
        "s2 = pickle.load(file_b)  # load the student type data\n",
        "s2.display()    # student class\n",
        "file_b.close()"
      ]
    },
    {
      "cell_type": "code",
      "execution_count": null,
      "metadata": {
        "id": "k5DrU5VVAEtI"
      },
      "outputs": [],
      "source": [
        "# studnet.dat there is multiple data\n"
      ]
    },
    {
      "cell_type": "code",
      "execution_count": null,
      "metadata": {
        "colab": {
          "base_uri": "https://localhost:8080/"
        },
        "id": "0OEeF6LUAr-8",
        "outputId": "6dafb26c-1e8b-40af-ca5e-226d01a49c05"
      },
      "outputs": [
        {
          "name": "stdout",
          "output_type": "stream",
          "text": [
            "['I', 'am', 'going', 'to', 'bring', 'some', 'groceries', 'from', 'the', 'store']\n",
            "I am going to bring some groceries from the store\n",
            "The word \"the\" appears 1 times in the file.\n",
            "The word \"to\" appears 1 times in the file.\n",
            "The word 'to' occurred 1 times.\n",
            "The word 'the' occurred 1 times.\n"
          ]
        }
      ],
      "source": [
        "#WAP to count the words \"to\" and \"the\" present in a text file\n",
        "'''ajay'\n",
        "f = open('Notebook.txt', \"w\")\n",
        "f.write(\"I am going to bring some groceries from the store\")\n",
        "f.close()\n",
        "\n",
        "f = open(\"Notebook.txt\")\n",
        "content = f.read()\n",
        "\n",
        "words = content.split()\n",
        "print(words)\n",
        "print(content)\n",
        "words_to_count = ['the', 'to']\n",
        "\n",
        "for word in words_to_count:\n",
        "    count = words.count(word)\n",
        "    print(f'The word \"{word}\" appears {count} times in the file.')'''\n",
        "\n",
        "\n",
        "'''\n",
        "# Lalitha\n",
        "f = open('TextFile.txt', \"w\")\n",
        "f.write(\"Uber hasn't mentioned if users will be able to skip the ads\")\n",
        "f.close()\n",
        "\n",
        "f = open(\"TextFile.txt\")\n",
        "content = f.read()\n",
        "\n",
        "words = content.lower().split()\n",
        "to = words.count('to')\n",
        "the = words.count('the')\n",
        "\n",
        "print(f\"The word 'to' occurred {to} times.\")\n",
        "print(f\"The word 'the' occurred {the} times.\")'''\n",
        "\n",
        "'''\n",
        "#sushma\n",
        "\n",
        "file = open(\"yourfile.txt\", \"r\")\n",
        "content = file.read().lower()\n",
        "\n",
        "count_to = content.split().count(\"to\")\n",
        "count_the = content.split().count(\"the\")\n",
        "\n",
        "file.close()\n",
        "\n",
        "print(f'Count of \"to\": {count_to}')\n",
        "print(f'Count of \"the\": {count_the}')        '''\n"
      ]
    },
    {
      "cell_type": "code",
      "execution_count": null,
      "metadata": {
        "colab": {
          "base_uri": "https://localhost:8080/"
        },
        "id": "m0ftgfizAtfA",
        "outputId": "8d12889e-61f3-449e-97e7-ccb44dbefbdc"
      },
      "outputs": [
        {
          "name": "stdout",
          "output_type": "stream",
          "text": [
            "Enter the wordsHello World! 123\n"
          ]
        }
      ],
      "source": [
        "#WAP that reads charecters from the keyboard one by one . All lower case charecters get stored inside the file LOWER , all upper case charecters get stored inside the file UPPER and\n",
        "#all other charecters get stored inside file OTHERS\n",
        "'''ajay'\n",
        "lower = open('Lower.txt', \"a\")\n",
        "upper =  open('Upper.txt', 'a')\n",
        "others = open('others.txt','a')\n",
        "text = input('Enter the words')\n",
        "for char in text:\n",
        "    if char.islower():\n",
        "        lower.write(char)\n",
        "    elif char.isupper():\n",
        "        upper.write(char)\n",
        "    else:\n",
        "        others.write(char)\n",
        "lower.close()\n",
        "upper.close()\n",
        "others.close()'''\n",
        "\n",
        "\n",
        "'''\n",
        "#Lalitha\n",
        "lower = open('Lower.txt', \"a\")\n",
        "upper = open('Upper.txt', 'a')\n",
        "others = open('Others.txt', 'a')\n",
        "\n",
        "text = input('Enter your Input: ')\n",
        "\n",
        "for char in text:\n",
        "    if char.islower():\n",
        "        lower.write(char)\n",
        "    elif char.isupper():\n",
        "        upper.write(char)\n",
        "    else:\n",
        "        others.write(char)\n",
        "\n",
        "lower.close()\n",
        "upper.close()\n",
        "others.close()\n",
        "\n",
        "print(\"The input has been successfully saved to the designated files\")'''\n",
        "\n",
        "'''\n",
        "\n"
      ]
    },
    {
      "cell_type": "code",
      "execution_count": null,
      "metadata": {
        "colab": {
          "base_uri": "https://localhost:8080/"
        },
        "id": "bHOYnhErA0Og",
        "outputId": "c9c34125-8177-45d3-eae1-fdce8bf341d6"
      },
      "outputs": [
        {
          "name": "stdout",
          "output_type": "stream",
          "text": [
            "The file LINES.txt does not exist.\n"
          ]
        }
      ],
      "source": [
        "#Write a function in python to count and display the number of lines starting with alphabet 'A'\n",
        "# present in a text file \"LINES.txt\". e.g., the file LINES.txt contains the following lines:\n",
        "# A boy is playing there, There is a playground, An Aeroplane is in the sky, Alphabets and numbers are located in passsword.\n",
        "\n",
        "\n",
        "\n",
        "#sushma\n",
        "def count_lines_starting_with_A(file_name):\n",
        "    count = 0\n",
        "\n",
        "    try:\n",
        "        with open(file_name, 'r') as file:\n",
        "            lines = file.readlines()\n",
        "            for line in lines:\n",
        "                if line.strip().startswith('A'):\n",
        "                    count += 1\n",
        "        print(f\"Number of lines starting with 'A': {count}\")\n",
        "    except FileNotFoundError:\n",
        "        print(f\"The file {file_name} does not exist.\")\n",
        "\n",
        "count_lines_starting_with_A(\"LINES.txt\")\n",
        "\n"
      ]
    },
    {
      "cell_type": "code",
      "execution_count": null,
      "metadata": {
        "id": "_v7zZxQLjEIb"
      },
      "outputs": [],
      "source": []
    },
    {
      "cell_type": "markdown",
      "metadata": {
        "id": "mE4JdaimjIkU"
      },
      "source": [
        "# DECORATORS Custom"
      ]
    },
    {
      "cell_type": "code",
      "execution_count": null,
      "metadata": {
        "colab": {
          "base_uri": "https://localhost:8080/"
        },
        "id": "CIeDW24ZjPav",
        "outputId": "bd975dd2-a4a0-41e0-8d37-024a1576410d"
      },
      "outputs": [
        {
          "name": "stdout",
          "output_type": "stream",
          "text": [
            "3\n"
          ]
        }
      ],
      "source": [
        "def add(a,b):\n",
        "  return a+b\n",
        "\n",
        "cal =add(1,2)  # assigning a function to variable is allowed the python\n",
        "print(cal)"
      ]
    },
    {
      "cell_type": "code",
      "execution_count": null,
      "metadata": {
        "colab": {
          "base_uri": "https://localhost:8080/"
        },
        "id": "YzY3ES1Djf3u",
        "outputId": "27678213-23a4-4e5b-8ca0-b35646e78d8b"
      },
      "outputs": [
        {
          "name": "stdout",
          "output_type": "stream",
          "text": [
            "Subraction  -1\n",
            "Addition  3\n"
          ]
        }
      ],
      "source": [
        "# passing a function as a parameter\n",
        "\n",
        "def sub(a,b):\n",
        "  return a-b\n",
        "\n",
        "def man(func , a , b):  # func : represent function\n",
        "  return func(a,b)\n",
        "\n",
        "cal = man(sub , 1,2)\n",
        "print(\"Subraction \" , cal)\n",
        "\n",
        "cal1 = man(add , 1,2)\n",
        "print(\"Addition \" , cal1)\n",
        "\n"
      ]
    },
    {
      "cell_type": "code",
      "execution_count": null,
      "metadata": {
        "colab": {
          "base_uri": "https://localhost:8080/"
        },
        "id": "NUOQXWP_kMqg",
        "outputId": "e13216b3-3217-49b6-95a9-f69cb96b846f"
      },
      "outputs": [
        {
          "name": "stdout",
          "output_type": "stream",
          "text": [
            "Before the function is called\n",
            "Test the Decorator \n",
            "After the function is called\n"
          ]
        }
      ],
      "source": [
        "# Decorators: allows program to modify the state or behaviour of class or functions\n",
        "\n",
        "# defining decorator\n",
        "def my_decorator(func):\n",
        "  # craee a wrapper function\n",
        "  def wrapper():   # any name\n",
        "    print(\"Before the function is called\")\n",
        "    func()   # calling the actual function which we pass\n",
        "    print(\"After the function is called\")\n",
        "  return wrapper   # returning the inner or wrapper\n",
        "\n",
        "def use_wrapper():\n",
        "  print(\"Test the Decorator \")\n",
        "\n",
        "use_wrapper1=my_decorator(use_wrapper)\n",
        "use_wrapper1()"
      ]
    },
    {
      "cell_type": "code",
      "execution_count": null,
      "metadata": {
        "colab": {
          "base_uri": "https://localhost:8080/"
        },
        "id": "MdK6M45YmEu4",
        "outputId": "7f0a0ea4-5720-4787-b6f5-419beb5e0d5c"
      },
      "outputs": [
        {
          "name": "stdout",
          "output_type": "stream",
          "text": [
            "Before the function is called\n",
            "Test the Decorator \n",
            "After the function is called\n"
          ]
        }
      ],
      "source": [
        "@my_decorator\n",
        "def use_wrapper():\n",
        "  print(\"Test the Decorator \")\n",
        "\n",
        "use_wrapper()"
      ]
    },
    {
      "cell_type": "code",
      "execution_count": null,
      "metadata": {
        "colab": {
          "base_uri": "https://localhost:8080/"
        },
        "id": "NTqSNIxBms-m",
        "outputId": "7936a199-b207-493a-8c4d-2f32dec27489"
      },
      "outputs": [
        {
          "name": "stdout",
          "output_type": "stream",
          "text": [
            "sum integer 3\n",
            "sum float  6.8\n",
            "sum char  ab\n",
            "11\n"
          ]
        }
      ],
      "source": [
        "def sumDecorator(function):\n",
        "  def wrapper(*args):  # variable argument\n",
        "    x,y=function(*args)\n",
        "    return x+y\n",
        "  return wrapper\n",
        "\n",
        "@sumDecorator\n",
        "def sum(a,b):\n",
        "  return a,b\n",
        "\n",
        "print(\"sum integer\" ,sum(1,2))  # integer only\n",
        "print(\"sum float \" , sum(2.3,4.5))\n",
        "print(\"sum char \"  , sum('a','b'))\n",
        "@sumDecorator\n",
        "def man(a,b):\n",
        "  return a,b\n",
        "\n",
        "print(man(5,6))"
      ]
    },
    {
      "cell_type": "code",
      "execution_count": null,
      "metadata": {
        "colab": {
          "base_uri": "https://localhost:8080/"
        },
        "id": "STC5P2mon4y5",
        "outputId": "2ea32ebd-c7f7-4f7d-fdee-3605661ac58d"
      },
      "outputs": [
        {
          "name": "stdout",
          "output_type": "stream",
          "text": [
            "type= {'type': <class 'int'>}\n"
          ]
        },
        {
          "data": {
            "text/plain": [
              "-1"
            ]
          },
          "execution_count": 22,
          "metadata": {},
          "output_type": "execute_result"
        }
      ],
      "source": [
        "def subDecorator(function):\n",
        "  def wrapper(*args ,**kwargs):   #kwargs : pass keyword parameter\n",
        "    x,y=function(*args,**kwargs)\n",
        "    print(\"type=\",kwargs)\n",
        "    return x-y\n",
        "\n",
        "  return wrapper\n",
        "\n",
        "@subDecorator\n",
        "def sub(a,b , **kwargs):\n",
        "  return a,b\n",
        "sub(1,2 , type=int)"
      ]
    },
    {
      "cell_type": "code",
      "execution_count": null,
      "metadata": {
        "colab": {
          "base_uri": "https://localhost:8080/"
        },
        "id": "13tTr47spivp",
        "outputId": "1fce15e5-12fb-494a-8f5f-c017c4078a82"
      },
      "outputs": [
        {
          "name": "stdout",
          "output_type": "stream",
          "text": [
            "4\n"
          ]
        }
      ],
      "source": [
        "def powerDecorator(function):\n",
        "  def wrapper(*args):\n",
        "    x=function(*args)\n",
        "    return x*x\n",
        "  return wrapper\n",
        "\n",
        "@powerDecorator\n",
        "def power(a):\n",
        "  return a\n",
        "\n",
        "print(power(2))"
      ]
    },
    {
      "cell_type": "code",
      "execution_count": null,
      "metadata": {
        "colab": {
          "base_uri": "https://localhost:8080/"
        },
        "id": "OOvq1Q2iqs4W",
        "outputId": "023b3d22-d98f-4ad9-d16d-b6f82e1c57ff"
      },
      "outputs": [
        {
          "name": "stdout",
          "output_type": "stream",
          "text": [
            "type= {}\n"
          ]
        },
        {
          "data": {
            "text/plain": [
              "1"
            ]
          },
          "execution_count": 27,
          "metadata": {},
          "output_type": "execute_result"
        }
      ],
      "source": [
        "#chaining a decorator\n",
        "@powerDecorator  # second execute\n",
        "@subDecorator   # first execute\n",
        "def example(a,b):\n",
        "  return a,b\n",
        "\n",
        "example(2,3)"
      ]
    },
    {
      "cell_type": "code",
      "execution_count": null,
      "metadata": {
        "colab": {
          "base_uri": "https://localhost:8080/"
        },
        "id": "YaKpWlQkq5Xg",
        "outputId": "c611172e-608b-490b-923a-54b9e5e41d0a"
      },
      "outputs": [
        {
          "name": "stdout",
          "output_type": "stream",
          "text": [
            "type= {}\n"
          ]
        },
        {
          "data": {
            "text/plain": [
              "4"
            ]
          },
          "execution_count": 28,
          "metadata": {},
          "output_type": "execute_result"
        }
      ],
      "source": [
        "example(4,2)"
      ]
    },
    {
      "cell_type": "code",
      "execution_count": null,
      "metadata": {
        "id": "bmfOqRzorFnO"
      },
      "outputs": [],
      "source": [
        "# create a decorator for converting the word into upper case\n",
        "\n",
        "def upperCase(func):\n",
        "    def wrapper(*args, **kwargs):\n",
        "        result = func(*args, **kwargs)\n",
        "        return result.upper()\n",
        "    return wrapper\n",
        "\n",
        "@upperCase\n",
        "def get_word(name):\n",
        "    return f\"Hello {name}\"\n",
        "\n",
        "result = get_word(\"Lalitha\")\n",
        "print(result)\n",
        "\n",
        "''' def uppercase_decorator(func):\n",
        "    def wrapper(word):\n",
        "        return func(word.upper())\n",
        "    return wrapper\n",
        "\n",
        "@uppercase_decorator\n",
        "def say_word(word):\n",
        "    return word\n",
        "\n",
        "print(say_word(\"hello sushma\")) '''\n",
        "\n",
        "\n"
      ]
    },
    {
      "cell_type": "markdown",
      "metadata": {
        "id": "RdgveD4Br5LB"
      },
      "source": [
        "# Concurrency and Mutithreading  "
      ]
    },
    {
      "cell_type": "code",
      "execution_count": null,
      "metadata": {
        "id": "x3DHp3gIr3XA"
      },
      "outputs": [],
      "source": [
        "import threading\n",
        "from threading import *"
      ]
    },
    {
      "cell_type": "code",
      "execution_count": null,
      "metadata": {
        "colab": {
          "base_uri": "https://localhost:8080/",
          "height": 70
        },
        "id": "5O2Be4nyulQa",
        "outputId": "2ccde225-08e4-4a73-eb10-20d58306d609"
      },
      "outputs": [
        {
          "name": "stderr",
          "output_type": "stream",
          "text": [
            "<ipython-input-4-042834355870>:1: DeprecationWarning: getName() is deprecated, get the name attribute instead\n",
            "  current_thread().getName()\n"
          ]
        },
        {
          "data": {
            "application/vnd.google.colaboratory.intrinsic+json": {
              "type": "string"
            },
            "text/plain": [
              "'MainThread'"
            ]
          },
          "execution_count": 4,
          "metadata": {},
          "output_type": "execute_result"
        }
      ],
      "source": [
        "current_thread().getName()"
      ]
    },
    {
      "cell_type": "code",
      "execution_count": null,
      "metadata": {
        "colab": {
          "base_uri": "https://localhost:8080/"
        },
        "id": "SRLXoREjuwcJ",
        "outputId": "a1221910-b1e2-473e-8cd5-eae6cb0a0673"
      },
      "outputs": [
        {
          "name": "stdout",
          "output_type": "stream",
          "text": [
            "Thread example\n"
          ]
        }
      ],
      "source": [
        "def test():\n",
        "  print(\"Thread example\")\n",
        "\n",
        "#object of thred to make your method to act as thread\n",
        "#object=Thread(target=runnable)\n",
        "t1 = Thread(target=test)\n",
        "t1.start() # start will call the run method of thread\n"
      ]
    },
    {
      "cell_type": "code",
      "execution_count": null,
      "metadata": {
        "colab": {
          "base_uri": "https://localhost:8080/"
        },
        "id": "dAoJZwflv9hq",
        "outputId": "a2949134-3da0-4766-ccf7-d94421c96cc4"
      },
      "outputs": [
        {
          "name": "stdout",
          "output_type": "stream",
          "text": [
            "Child Thread 0\n",
            "Child Thread 1\n",
            "Child Thread 2\n",
            "Child Thread 3\n",
            "Child Thread 4\n",
            "Thread End  MainThread\n"
          ]
        },
        {
          "name": "stderr",
          "output_type": "stream",
          "text": [
            "<ipython-input-10-c3a235883819>:11: DeprecationWarning: getName() is deprecated, get the name attribute instead\n",
            "  print(\"Thread End \" , current_thread().getName())\n"
          ]
        }
      ],
      "source": [
        "# by extending the thread class\n",
        "#class ThreadExample(threading.Thread)\n",
        "class ThreadExample(Thread):\n",
        "  def run(self):\n",
        "    for i in range(5):\n",
        "      print(\"Child Thread\",i)\n",
        "\n",
        "t1 = ThreadExample()\n",
        "t1.start()\n",
        "t1.join()\n",
        "print(\"Thread End \" , current_thread().getName())"
      ]
    },
    {
      "cell_type": "code",
      "execution_count": null,
      "metadata": {
        "colab": {
          "base_uri": "https://localhost:8080/"
        },
        "id": "XGBBiMIbvxjK",
        "outputId": "0778dd86-5e84-4ba8-c16b-4925e84db67a"
      },
      "outputs": [
        {
          "name": "stdout",
          "output_type": "stream",
          "text": [
            "Child Thread 0\n",
            "Child Thread 1\n",
            "Child Thread 2\n",
            "Child Thread 3\n",
            "Child Thread 4\n",
            "Thread End \n"
          ]
        }
      ],
      "source": [
        "# without extending thread class\n",
        "class ThreadExample:\n",
        "  def myMethod(self):\n",
        "    for i in range(5):\n",
        "      print(\"Child Thread\",i)\n",
        "\n",
        "obj = ThreadExample()  # normal object\n",
        "t1 = Thread(target=obj.myMethod)  # pass this object into thread\n",
        "t1.start()\n",
        "t1.join()\n",
        "print(\"Thread End \" )"
      ]
    },
    {
      "cell_type": "code",
      "execution_count": null,
      "metadata": {
        "colab": {
          "base_uri": "https://localhost:8080/"
        },
        "id": "Fw0tGjR1x2T5",
        "outputId": "9eefa4d9-e72f-443a-e98e-560568ec3f35"
      },
      "outputs": [
        {
          "name": "stdout",
          "output_type": "stream",
          "text": [
            "Task Thread1 starting\n",
            "Task Thread2 starting\n",
            "Task Thread1 ending\n",
            "Task Thread2 ending\n",
            "Main Thread ending\n"
          ]
        }
      ],
      "source": [
        "import time\n",
        "def task(name):\n",
        "  print(f\"Task {name} starting\")\n",
        "  time.sleep(4)\n",
        "  print(f\"Task {name} ending\")\n",
        "\n",
        "if __name__ == \"__main__\":\n",
        "  t1= Thread(target=task , args=(\"Thread1\",))\n",
        "  t2= Thread(target=task , args=(\"Thread2\",))\n",
        "  t1.start()\n",
        "  t2.start()\n",
        "  t1.join()\n",
        "  t2.join()\n",
        "  print(\"Main Thread ending\")\n"
      ]
    },
    {
      "cell_type": "code",
      "execution_count": null,
      "metadata": {
        "colab": {
          "base_uri": "https://localhost:8080/"
        },
        "id": "SNIQmq52yvy8",
        "outputId": "d2418c61-24a7-438f-f1ad-bd23e1990c96"
      },
      "outputs": [
        {
          "name": "stdout",
          "output_type": "stream",
          "text": [
            "Task Thread0 starting\n",
            "Task Thread1 starting\n",
            "Task Thread2 starting\n",
            "Task Thread3 starting\n",
            "Task Thread4 starting\n",
            "Task Thread0 ending\n",
            "Task Thread2 ending\n",
            "Task Thread1 ending\n",
            "Task Thread3 ending\n",
            "Task Thread4 ending\n",
            "Task Completed\n"
          ]
        }
      ],
      "source": [
        "if __name__ == \"__main__\":\n",
        "  threads=[]\n",
        "  for i in range(5):\n",
        "    t = Thread(target=task , args=(f\"Thread{i}\",))\n",
        "    threads.append(t)\n",
        "    t.start()\n",
        "    #t.join() # apply join on each and every task\n",
        "    # after starting i want to finish thread together\n",
        "  for t in threads:\n",
        "    t.join()\n",
        "\n",
        "  print(\"Task Completed\")"
      ]
    },
    {
      "cell_type": "code",
      "execution_count": null,
      "metadata": {
        "colab": {
          "base_uri": "https://localhost:8080/"
        },
        "id": "n1e2DbUuzYnN",
        "outputId": "7693a7a6-95e8-49e9-9fae-0461489940c4"
      },
      "outputs": [
        {
          "name": "stdout",
          "output_type": "stream",
          "text": [
            "Square  1\n",
            "Square  4\n",
            "Square  9\n",
            "Square  16\n",
            "Square  25\n",
            "Cube  1\n",
            "Cube  8\n",
            "Cube  27\n",
            "Cube  64\n",
            "Cube  125\n",
            "Time taken  20.030354976654053\n"
          ]
        }
      ],
      "source": [
        "def square(n):\n",
        "  for i in n:\n",
        "    time.sleep(2)\n",
        "    print(\"Square \" , i*i)\n",
        "\n",
        "def cube(n):\n",
        "  for i in n:\n",
        "    time.sleep(2)\n",
        "    print(\"Cube \" , i*i*i)\n",
        "\n",
        "\n",
        "n= [1,2,3,4,5]\n",
        "start= time.time()\n",
        "square(n)\n",
        "cube(n)\n",
        "end= time.time()\n",
        "print(\"Time taken \" , end-start)\n",
        "\n"
      ]
    },
    {
      "cell_type": "code",
      "execution_count": null,
      "metadata": {
        "colab": {
          "base_uri": "https://localhost:8080/"
        },
        "id": "jh2rL-wx2E7f",
        "outputId": "5977f4db-d931-4407-8f22-6e91cf608604"
      },
      "outputs": [
        {
          "name": "stdout",
          "output_type": "stream",
          "text": [
            "Square  1\n",
            "Cube  1\n",
            "Square Cube   8\n",
            "4\n",
            "Cube  27\n",
            "Square  9\n",
            "Cube  64\n",
            "Square  16\n",
            "Cube  125\n",
            "Square  25\n",
            "Time taken  10.01629114151001\n"
          ]
        }
      ],
      "source": [
        "n= [1,2,3,4,5]\n",
        "start= time.time()\n",
        "t1=Thread(target=square , args=(n,))\n",
        "t2=Thread(target=cube , args=(n,))\n",
        "t1.start()\n",
        "t2.start()\n",
        "t1.join()\n",
        "t2.join()\n",
        "end= time.time()\n",
        "print(\"Time taken \" , end-start)"
      ]
    },
    {
      "cell_type": "code",
      "execution_count": null,
      "metadata": {
        "id": "NKHDuzyo2sdi"
      },
      "outputs": [],
      "source": [
        " #Write a Python program to find all the common characters in lexicographical order from two given lower case strings.\n",
        "#If there are no similar letters print \"No common characters\"."
      ]
    },
    {
      "cell_type": "code",
      "execution_count": null,
      "metadata": {
        "id": "DKUoUwO23R6a"
      },
      "outputs": [],
      "source": [
        "#Write a Python program to move all zero digits to the end of a given list of numbers.\n",
        "# Expected output:\n",
        "# Original list:\n",
        "# [3, 4, 0, 0, 0, 6, 2, 0, 6, 7, 6, 0, 0, 0, 9, 10, 7, 4, 4, 5, 3, 0, 0, 2, 9, 7, 1]\n",
        "# Move all zero digits to end of the said list of numbers:\n",
        "# [3, 4, 6, 2, 6, 7, 6, 9, 10, 7, 4, 4, 5, 3, 2, 9, 7, 1, 0, 0, 0, 0, 0, 0, 0, 0, 0]\n"
      ]
    },
    {
      "cell_type": "code",
      "execution_count": null,
      "metadata": {
        "id": "ckk42Nvw3Y51"
      },
      "outputs": [],
      "source": [
        "# Write a Python program to change the position of every n-th value to the (n+1)th in a list.\n",
        "# Sample list: [0,1,2,3,4,5]\n",
        "# Expected Output: [1, 0, 3, 2, 5, 4]"
      ]
    },
    {
      "cell_type": "code",
      "execution_count": null,
      "metadata": {
        "id": "qGs5qkzc3lnl"
      },
      "outputs": [],
      "source": [
        "#Write a Python program to create a list by concatenating a given list with a range from 1 to n.\n",
        "# Sample list : ['p', 'q']\n",
        "# n =5\n",
        "# Sample Output : ['p1', 'q1', 'p2', 'q2', 'p3', 'q3', 'p4', 'q4', 'p5', 'q5']"
      ]
    },
    {
      "cell_type": "code",
      "execution_count": null,
      "metadata": {
        "id": "-uX2B0ei3qY2"
      },
      "outputs": [],
      "source": [
        " #Write a Python program to count the number of strings from a given list of strings.\n",
        "#The string length is 2 or more and the first and last characters are the same.\n",
        "# Sample List : ['abc', 'xyz', 'aba', '1221']\n",
        "# Expected Result : 2"
      ]
    }
  ],
  "metadata": {
    "colab": {
      "provenance": []
    },
    "kernelspec": {
      "display_name": "Python 3",
      "name": "python3"
    },
    "language_info": {
      "name": "python"
    }
  },
  "nbformat": 4,
  "nbformat_minor": 0
}
