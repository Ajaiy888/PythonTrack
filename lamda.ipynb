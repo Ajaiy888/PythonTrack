{
 "cells": [
  {
   "cell_type": "code",
   "execution_count": 9,
   "metadata": {},
   "outputs": [],
   "source": [
    "def add(a,b):\n",
    "    result = a + b\n",
    "    return result"
   ]
  },
  {
   "cell_type": "code",
   "execution_count": 10,
   "metadata": {},
   "outputs": [
    {
     "data": {
      "text/plain": [
       "7"
      ]
     },
     "execution_count": 10,
     "metadata": {},
     "output_type": "execute_result"
    }
   ],
   "source": [
    "add(3,4)"
   ]
  },
  {
   "cell_type": "code",
   "execution_count": 12,
   "metadata": {},
   "outputs": [
    {
     "data": {
      "text/plain": [
       "7"
      ]
     },
     "execution_count": 12,
     "metadata": {},
     "output_type": "execute_result"
    }
   ],
   "source": [
    "#uSING\n",
    "add = lambda a,b : a+b\n",
    "add(3,4)"
   ]
  },
  {
   "cell_type": "code",
   "execution_count": 13,
   "metadata": {},
   "outputs": [
    {
     "name": "stdout",
     "output_type": "stream",
     "text": [
      "150\n"
     ]
    }
   ],
   "source": [
    "add =  lambda x : x + 100\n",
    "print(add(50))"
   ]
  },
  {
   "cell_type": "code",
   "execution_count": 17,
   "metadata": {},
   "outputs": [
    {
     "data": {
      "text/plain": [
       "110"
      ]
     },
     "execution_count": 17,
     "metadata": {},
     "output_type": "execute_result"
    }
   ],
   "source": [
    "(lambda a,b : a * b)(10,11)\n"
   ]
  },
  {
   "cell_type": "code",
   "execution_count": 18,
   "metadata": {},
   "outputs": [
    {
     "name": "stdout",
     "output_type": "stream",
     "text": [
      "300\n"
     ]
    }
   ],
   "source": [
    "product = lambda x,y,z : x*y*z\n",
    "print(product(z=5,x=10,y=6))"
   ]
  },
  {
   "cell_type": "code",
   "execution_count": 27,
   "metadata": {},
   "outputs": [
    {
     "name": "stdout",
     "output_type": "stream",
     "text": [
      "90\n"
     ]
    }
   ],
   "source": [
    "addition = lambda * args : sum(args)\n",
    "print(addition(20,30,30,10))"
   ]
  },
  {
   "cell_type": "code",
   "execution_count": 31,
   "metadata": {},
   "outputs": [
    {
     "data": {
      "text/plain": [
       "420"
      ]
     },
     "execution_count": 31,
     "metadata": {},
     "output_type": "execute_result"
    }
   ],
   "source": [
    "higher_order_function = lambda c, fun : c + fun(c)\n",
    "higher_order_function(20,lambda c:c*c)"
   ]
  },
  {
   "cell_type": "code",
   "execution_count": 38,
   "metadata": {},
   "outputs": [
    {
     "data": {
      "text/plain": [
       "'odd'"
      ]
     },
     "execution_count": 38,
     "metadata": {},
     "output_type": "execute_result"
    }
   ],
   "source": [
    "(lambda x : (x % 2  and 'odd' or 'even'))(30)\n",
    "(lambda x : (x % 2  and 'odd' or 'even'))(23)"
   ]
  },
  {
   "cell_type": "code",
   "execution_count": 39,
   "metadata": {},
   "outputs": [
    {
     "name": "stdout",
     "output_type": "stream",
     "text": [
      "True\n"
     ]
    }
   ],
   "source": [
    "# finding the substring in a string\n",
    "sub_string = lambda string : string in \"Welcome to Python Tutorial\"\n",
    "print(sub_string('Tutorial'))\n",
    "\n"
   ]
  },
  {
   "cell_type": "code",
   "execution_count": 41,
   "metadata": {},
   "outputs": [
    {
     "name": "stdout",
     "output_type": "stream",
     "text": [
      "[40, 45, 34, 54, 54, 70]\n"
     ]
    }
   ],
   "source": [
    "num = [10,40,45,34,54,54,70]\n",
    "greater = list(filter(lambda num : num > 30 , num))\n",
    "print(greater)"
   ]
  },
  {
   "cell_type": "code",
   "execution_count": 45,
   "metadata": {},
   "outputs": [
    {
     "name": "stdout",
     "output_type": "stream",
     "text": [
      "[10, 20, 30, 40, 50]\n",
      "[-50, -40, -30, -20, -10]\n"
     ]
    }
   ],
   "source": [
    "#find the positive and negative numbers in a list\n",
    "numbers = [-50,-40,-30,-20,-10,10,20,30,40,50]\n",
    "positve = list(filter(lambda numbers: numbers>0,numbers))\n",
    "print(positve)\n",
    "negative =  list(filter(lambda numbers:numbers<0, numbers))\n",
    "print(negative)\n"
   ]
  },
  {
   "cell_type": "code",
   "execution_count": 47,
   "metadata": {},
   "outputs": [
    {
     "name": "stdout",
     "output_type": "stream",
     "text": [
      "[20, 80, 112, 54, 66, 30, 140]\n"
     ]
    }
   ],
   "source": [
    "# double the numbers in the list\n",
    "list1 = [10,40,56,27,33,15,70]\n",
    "double_the_numm = list(map(lambda x: x*2, list1))\n",
    "print(double_the_numm)"
   ]
  },
  {
   "cell_type": "code",
   "execution_count": 48,
   "metadata": {},
   "outputs": [
    {
     "name": "stdout",
     "output_type": "stream",
     "text": [
      "[100, 1600, 3136, 729, 1089, 225, 4900]\n"
     ]
    }
   ],
   "source": [
    "# square the numbers in the list\n",
    "list1 = [10,40,56,27,33,15,70]\n",
    "square_num = list(map(lambda x:x*x, list1))\n",
    "print(square_num)"
   ]
  },
  {
   "cell_type": "code",
   "execution_count": 51,
   "metadata": {},
   "outputs": [
    {
     "data": {
      "text/plain": [
       "[1000, 64000, 175616, 19683, 35937, 3375, 343000]"
      ]
     },
     "execution_count": 51,
     "metadata": {},
     "output_type": "execute_result"
    }
   ],
   "source": [
    "# finding the cubes of numbers in the list\n",
    "list1 = [10,40,56,27,33,15,70]\n",
    "cube = map (lambda x : pow(x,3), list1)\n",
    "list(cube)"
   ]
  },
  {
   "cell_type": "code",
   "execution_count": 57,
   "metadata": {},
   "outputs": [
    {
     "name": "stdout",
     "output_type": "stream",
     "text": [
      "39\n"
     ]
    }
   ],
   "source": [
    "# using reduce function in lambda\n",
    "from functools import reduce\n",
    "list2 = [2,5,10,6,4,12]\n",
    "sum = reduce((lambda x,y: x+y), list2)\n",
    "print(sum)"
   ]
  },
  {
   "cell_type": "code",
   "execution_count": 63,
   "metadata": {},
   "outputs": [
    {
     "name": "stdout",
     "output_type": "stream",
     "text": [
      "28800\n"
     ]
    }
   ],
   "source": [
    "# using reduce finding the product of elements \n",
    "from functools import reduce\n",
    "list2 = [2,5,10,6,4,12]\n",
    "product = reduce((lambda x,y: x*y), list2)\n",
    "print(product)"
   ]
  },
  {
   "cell_type": "code",
   "execution_count": 65,
   "metadata": {},
   "outputs": [
    {
     "data": {
      "text/plain": [
       "19"
      ]
     },
     "execution_count": 65,
     "metadata": {},
     "output_type": "execute_result"
    }
   ],
   "source": [
    "# quadratice expression\n",
    "def quadratic(a,b,c):\n",
    "    return lambda x: a*x**2 + b*x + c\n",
    "f = quadratic(2,3,5)\n",
    "f(2)\n"
   ]
  },
  {
   "cell_type": "code",
   "execution_count": null,
   "metadata": {},
   "outputs": [],
   "source": []
  }
 ],
 "metadata": {
  "kernelspec": {
   "display_name": "Python 3",
   "language": "python",
   "name": "python3"
  },
  "language_info": {
   "codemirror_mode": {
    "name": "ipython",
    "version": 3
   },
   "file_extension": ".py",
   "mimetype": "text/x-python",
   "name": "python",
   "nbconvert_exporter": "python",
   "pygments_lexer": "ipython3",
   "version": "3.12.5"
  }
 },
 "nbformat": 4,
 "nbformat_minor": 2
}
