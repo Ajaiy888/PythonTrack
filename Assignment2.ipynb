{
 "cells": [
  {
   "cell_type": "code",
   "execution_count": 13,
   "metadata": {},
   "outputs": [
    {
     "name": "stdout",
     "output_type": "stream",
     "text": [
      " Hi My Name Ajay\n"
     ]
    }
   ],
   "source": [
    "# to insert space between every capital letter\n",
    "def add_space(s):\n",
    "    result = \"\"\n",
    "    for  char in sample:\n",
    "        if char.islower():\n",
    "            result += char \n",
    "        else:\n",
    "            result += \" \" + char\n",
    "    return result\n",
    "sample = input (\"Enter the name\")\n",
    "print(add_space(sample))"
   ]
  },
  {
   "cell_type": "code",
   "execution_count": 33,
   "metadata": {},
   "outputs": [
    {
     "name": "stdout",
     "output_type": "stream",
     "text": [
      "wsdr\n"
     ]
    }
   ],
   "source": [
    "# to remove consecutive characters and replace them with single letter\n",
    "my_line = \"aaabbbcc\"\n",
    "def single_letter(my_line):\n",
    "    start = my_line[0]\n",
    "    solution = \"\"\n",
    "    for char in my_line:\n",
    "        if char == start:\n",
    "            continue\n",
    "        else:\n",
    "            solution+=start\n",
    "            start = char\n",
    "    solution +=start\n",
    "    return solution\n",
    "my_line = input(\"Enter the input\")            \n",
    "print(single_letter(my_line))\n"
   ]
  },
  {
   "cell_type": "code",
   "execution_count": 1,
   "metadata": {},
   "outputs": [
    {
     "name": "stdout",
     "output_type": "stream",
     "text": [
      "['Count', 'the', 'lowercase', 'letters', 'in', 'the', 'said', 'list', 'of', 'words']\n",
      "s\n"
     ]
    }
   ],
   "source": [
    "# to replace each character of word of length five or more with ####\n",
    "my_text = \"Count the lowercase letters in the said list of words\"\n",
    "splitted_words = my_text.split()\n",
    "print(splitted_words)\n",
    "def replaced_text(a):\n",
    "    answer = \"\"\n",
    "    for splitted_words in my_text:\n",
    "        if len(splitted_words) >= 5:\n",
    "            splitted_words =  splitted_words.replace(splitted_words,'####')\n",
    "        else:\n",
    "            answer = splitted_words\n",
    "    return answer\n",
    "print(replaced_text(my_text))\n",
    "    "
   ]
  },
  {
   "cell_type": "code",
   "execution_count": null,
   "metadata": {},
   "outputs": [],
   "source": []
  }
 ],
 "metadata": {
  "kernelspec": {
   "display_name": "Python 3",
   "language": "python",
   "name": "python3"
  },
  "language_info": {
   "codemirror_mode": {
    "name": "ipython",
    "version": 3
   },
   "file_extension": ".py",
   "mimetype": "text/x-python",
   "name": "python",
   "nbconvert_exporter": "python",
   "pygments_lexer": "ipython3",
   "version": "3.12.5"
  }
 },
 "nbformat": 4,
 "nbformat_minor": 2
}
